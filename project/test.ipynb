{
 "cells": [
  {
   "cell_type": "code",
   "execution_count": 1,
   "metadata": {},
   "outputs": [
    {
     "name": "stderr",
     "output_type": "stream",
     "text": [
      "/usr/local/lib/python3.9/site-packages/tqdm/auto.py:22: TqdmWarning: IProgress not found. Please update jupyter and ipywidgets. See https://ipywidgets.readthedocs.io/en/stable/user_install.html\n",
      "  from .autonotebook import tqdm as notebook_tqdm\n"
     ]
    }
   ],
   "source": [
    "import pandas as pd\n",
    "import numpy as np\n",
    "import matplotlib.pyplot as plt\n",
    "import arviz as az\n",
    "import pandas as pd\n",
    "import cmdstanpy"
   ]
  },
  {
   "cell_type": "code",
   "execution_count": 2,
   "metadata": {},
   "outputs": [
    {
     "data": {
      "text/html": [
       "<div>\n",
       "<style scoped>\n",
       "    .dataframe tbody tr th:only-of-type {\n",
       "        vertical-align: middle;\n",
       "    }\n",
       "\n",
       "    .dataframe tbody tr th {\n",
       "        vertical-align: top;\n",
       "    }\n",
       "\n",
       "    .dataframe thead th {\n",
       "        text-align: right;\n",
       "    }\n",
       "</style>\n",
       "<table border=\"1\" class=\"dataframe\">\n",
       "  <thead>\n",
       "    <tr style=\"text-align: right;\">\n",
       "      <th></th>\n",
       "      <th>Price</th>\n",
       "      <th>Condition</th>\n",
       "      <th>Vehicle_brand</th>\n",
       "      <th>Vehicle_model</th>\n",
       "      <th>Vehicle_version</th>\n",
       "      <th>Vehicle_generation</th>\n",
       "      <th>Production_year</th>\n",
       "      <th>Mileage_km</th>\n",
       "      <th>Power_HP</th>\n",
       "      <th>Displacement_cm3</th>\n",
       "      <th>Fuel_type</th>\n",
       "    </tr>\n",
       "  </thead>\n",
       "  <tbody>\n",
       "    <tr>\n",
       "      <th>0</th>\n",
       "      <td>5900.0</td>\n",
       "      <td>Used</td>\n",
       "      <td>Audi</td>\n",
       "      <td>100</td>\n",
       "      <td>2.0 E</td>\n",
       "      <td>C4 (1991-1994)</td>\n",
       "      <td>1992</td>\n",
       "      <td>262000.0</td>\n",
       "      <td>101.0</td>\n",
       "      <td>1984.0</td>\n",
       "      <td>Gasoline</td>\n",
       "    </tr>\n",
       "    <tr>\n",
       "      <th>1</th>\n",
       "      <td>6900.0</td>\n",
       "      <td>Used</td>\n",
       "      <td>Audi</td>\n",
       "      <td>100</td>\n",
       "      <td>Avant 2.8 E</td>\n",
       "      <td>C4 (1991-1994)</td>\n",
       "      <td>1991</td>\n",
       "      <td>332000.0</td>\n",
       "      <td>174.0</td>\n",
       "      <td>2771.0</td>\n",
       "      <td>Gasoline + LPG</td>\n",
       "    </tr>\n",
       "    <tr>\n",
       "      <th>2</th>\n",
       "      <td>5000.0</td>\n",
       "      <td>Used</td>\n",
       "      <td>Audi</td>\n",
       "      <td>100</td>\n",
       "      <td>Avant 2.6 E</td>\n",
       "      <td>C4 (1991-1994)</td>\n",
       "      <td>1993</td>\n",
       "      <td>500000.0</td>\n",
       "      <td>150.0</td>\n",
       "      <td>2598.0</td>\n",
       "      <td>Gasoline</td>\n",
       "    </tr>\n",
       "    <tr>\n",
       "      <th>3</th>\n",
       "      <td>19900.0</td>\n",
       "      <td>Used</td>\n",
       "      <td>Audi</td>\n",
       "      <td>100</td>\n",
       "      <td>NaN</td>\n",
       "      <td>C1 (1968-1976)</td>\n",
       "      <td>1974</td>\n",
       "      <td>99000.0</td>\n",
       "      <td>115.0</td>\n",
       "      <td>1900.0</td>\n",
       "      <td>Gasoline</td>\n",
       "    </tr>\n",
       "    <tr>\n",
       "      <th>4</th>\n",
       "      <td>14999.0</td>\n",
       "      <td>Used</td>\n",
       "      <td>Audi</td>\n",
       "      <td>100</td>\n",
       "      <td>Avant 2.2</td>\n",
       "      <td>C3 (1982-1991)</td>\n",
       "      <td>1987</td>\n",
       "      <td>108729.0</td>\n",
       "      <td>137.0</td>\n",
       "      <td>2226.0</td>\n",
       "      <td>Gasoline</td>\n",
       "    </tr>\n",
       "  </tbody>\n",
       "</table>\n",
       "</div>"
      ],
      "text/plain": [
       "     Price Condition Vehicle_brand Vehicle_model Vehicle_version  \\\n",
       "0   5900.0      Used          Audi           100           2.0 E   \n",
       "1   6900.0      Used          Audi           100     Avant 2.8 E   \n",
       "2   5000.0      Used          Audi           100     Avant 2.6 E   \n",
       "3  19900.0      Used          Audi           100             NaN   \n",
       "4  14999.0      Used          Audi           100       Avant 2.2   \n",
       "\n",
       "  Vehicle_generation  Production_year  Mileage_km  Power_HP  Displacement_cm3  \\\n",
       "0     C4 (1991-1994)             1992    262000.0     101.0            1984.0   \n",
       "1     C4 (1991-1994)             1991    332000.0     174.0            2771.0   \n",
       "2     C4 (1991-1994)             1993    500000.0     150.0            2598.0   \n",
       "3     C1 (1968-1976)             1974     99000.0     115.0            1900.0   \n",
       "4     C3 (1982-1991)             1987    108729.0     137.0            2226.0   \n",
       "\n",
       "        Fuel_type  \n",
       "0        Gasoline  \n",
       "1  Gasoline + LPG  \n",
       "2        Gasoline  \n",
       "3        Gasoline  \n",
       "4        Gasoline  "
      ]
     },
     "execution_count": 2,
     "metadata": {},
     "output_type": "execute_result"
    }
   ],
   "source": [
    "audi_cars = pd.read_csv(\"data/audi_cars_data.csv\")\n",
    "list(audi_cars.columns)\n",
    "audi_cars.head()"
   ]
  },
  {
   "cell_type": "code",
   "execution_count": 3,
   "metadata": {},
   "outputs": [],
   "source": [
    "audi_a3_cars = audi_cars[audi_cars[\"Vehicle_model\"] == 'A3']\n",
    "audi_a3_2010 = audi_a3_cars[audi_a3_cars[\"Production_year\"] == 2010]\n",
    "audi_a3_2000ccm = audi_a3_cars[audi_a3_cars[\"Displacement_cm3\"] >= 1950]\n",
    "audi_a3_2000ccm = audi_a3_2000ccm[audi_a3_2000ccm[\"Displacement_cm3\"] <= 2050]\n",
    "audi_a3_2000ccm = audi_a3_2000ccm.dropna()"
   ]
  },
  {
   "cell_type": "code",
   "execution_count": 39,
   "metadata": {},
   "outputs": [
    {
     "name": "stderr",
     "output_type": "stream",
     "text": [
      "INFO:cmdstanpy:compiling stan file /home/DA/project/test.stan to exe file /home/DA/project/test\n",
      "INFO:cmdstanpy:compiled model executable: /home/DA/project/test\n"
     ]
    }
   ],
   "source": [
    "model = cmdstanpy.CmdStanModel(stan_file='test.stan')\n"
   ]
  },
  {
   "cell_type": "code",
   "execution_count": 44,
   "metadata": {},
   "outputs": [
    {
     "name": "stderr",
     "output_type": "stream",
     "text": [
      "INFO:cmdstanpy:CmdStan start processing\n",
      "chain 1 |\u001b[33m          \u001b[0m| 00:00 Status\n",
      "\u001b[A\n",
      "\n",
      "chain 1 |\u001b[33m▍         \u001b[0m| 00:00 Status\n",
      "\u001b[A\n",
      "\n",
      "chain 1 |\u001b[34m██████▎   \u001b[0m| 00:00 Iteration: 1100 / 2000 [ 55%]  (Sampling)\n",
      "\u001b[A\n",
      "\n",
      "\u001b[A\u001b[A\n",
      "\n",
      "\u001b[A\u001b[A\n",
      "chain 1 |\u001b[34m██████████\u001b[0m| 00:00 Sampling completed                       \n",
      "chain 2 |\u001b[34m██████████\u001b[0m| 00:00 Sampling completed                       \n",
      "chain 3 |\u001b[34m██████████\u001b[0m| 00:00 Sampling completed                       \n",
      "chain 4 |\u001b[34m██████████\u001b[0m| 00:00 Sampling completed                       "
     ]
    },
    {
     "name": "stdout",
     "output_type": "stream",
     "text": [
      "                                                                                                                                                                                                                                                                                                                                "
     ]
    },
    {
     "name": "stderr",
     "output_type": "stream",
     "text": [
      "\n",
      "INFO:cmdstanpy:CmdStan done processing.\n"
     ]
    },
    {
     "name": "stdout",
     "output_type": "stream",
     "text": [
      "\n"
     ]
    },
    {
     "data": {
      "image/png": "[encoded data removed]",
      "text/plain": [
       "<Figure size 432x288 with 1 Axes>"
      ]
     },
     "metadata": {
      "needs_background": "light"
     },
     "output_type": "display_data"
    }
   ],
   "source": [
    "N = 532\n",
    "data = {'N': N,\n",
    "        'x1': np.array([np.random.normal(2000, 25000) for _ in range(N)]),\n",
    "        'x2': np.array([np.random.normal(2009, 2) for _ in range(N)]),\n",
    "        }\n",
    "sim=model.sample(data=data)\n",
    "sim_pd = sim.draws_pd()\n",
    "prices_sim_pd = sim_pd.loc[:, 'y_generated[1]':'y_generated[523]'].values\n",
    "plt.figure()\n",
    "plt.hist(prices_sim_pd[0], bins = 20, alpha = 0.5, density = True, label = f'Simulated prices')\n",
    "plt.hist(audi_a3_2000ccm['Price'].values, bins = 20, alpha = 0.5, density = True, label = 'Data prices')\n",
    "plt.legend()\n",
    "plt.title(f'Comparision of data and simulated prices alpha')\n",
    "plt.show()"
   ]
  }
 ],
 "metadata": {
  "kernelspec": {
   "display_name": "Python 3",
   "language": "python",
   "name": "python3"
  },
  "language_info": {
   "codemirror_mode": {
    "name": "ipython",
    "version": 3
   },
   "file_extension": ".py",
   "mimetype": "text/x-python",
   "name": "python",
   "nbconvert_exporter": "python",
   "pygments_lexer": "ipython3",
   "version": "3.9.11"
  },
  "orig_nbformat": 4
 },
 "nbformat": 4,
 "nbformat_minor": 2
}
