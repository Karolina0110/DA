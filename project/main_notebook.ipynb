{
 "cells": [
  {
   "cell_type": "markdown",
   "metadata": {},
   "source": [
    "# 1. Problem formulation:"
   ]
  },
  {
   "cell_type": "markdown",
   "metadata": {},
   "source": [
    "Opis problemu"
   ]
  },
  {
   "cell_type": "code",
   "execution_count": null,
   "metadata": {},
   "outputs": [
    {
     "ename": "",
     "evalue": "",
     "output_type": "error",
     "traceback": [
      "\u001b[1;31mFailed to start the Kernel. \n",
      "\u001b[1;31mUnable to start Kernel 'Python 3.9.11' due to a timeout waiting for the ports to get used. \n",
      "\u001b[1;31mView Jupyter <a href='command:jupyter.viewOutput'>log</a> for further details."
     ]
    }
   ],
   "source": [
    "import pandas as pd\n",
    "import numpy as np\n",
    "import matplotlib.pyplot as plt\n",
    "import arviz as az\n",
    "import seaborn as sns\n",
    "import cmdstanpy\n",
    "\n",
    "BINS = 20"
   ]
  },
  {
   "cell_type": "code",
   "execution_count": null,
   "metadata": {},
   "outputs": [
    {
     "ename": "",
     "evalue": "",
     "output_type": "error",
     "traceback": [
      "\u001b[1;31mFailed to start the Kernel. \n",
      "\u001b[1;31mUnable to start Kernel 'Python 3.9.11' due to a timeout waiting for the ports to get used. \n",
      "\u001b[1;31mView Jupyter <a href='command:jupyter.viewOutput'>log</a> for further details."
     ]
    }
   ],
   "source": [
    "audi_a3_2000ccm_standarized = pd.read_csv(\"data/audi_data_standarized.csv\")\n",
    "audi_a3_2000ccm_standarized.head()"
   ]
  },
  {
   "cell_type": "markdown",
   "metadata": {},
   "source": [
    "# 2. Model"
   ]
  },
  {
   "cell_type": "markdown",
   "metadata": {},
   "source": [
    "Opis modeli"
   ]
  },
  {
   "cell_type": "markdown",
   "metadata": {},
   "source": [
    "## 2.1 Model 1- prior"
   ]
  },
  {
   "cell_type": "code",
   "execution_count": null,
   "metadata": {},
   "outputs": [
    {
     "ename": "",
     "evalue": "",
     "output_type": "error",
     "traceback": [
      "\u001b[1;31mFailed to start the Kernel. \n",
      "\u001b[1;31mUnable to start Kernel 'Python 3.9.11' due to a timeout waiting for the ports to get used. \n",
      "\u001b[1;31mView Jupyter <a href='command:jupyter.viewOutput'>log</a> for further details."
     ]
    }
   ],
   "source": [
    "model_exp_ppc = cmdstanpy.CmdStanModel(stan_file='stan_files/exp_model_ppc.stan')\n",
    "\n",
    "#Parameters\n",
    "N = len(audi_a3_2000ccm_standarized)\n",
    "mu_a =0.17\n",
    "sig_a =0.02\n",
    "mu_b1 = 0.36\n",
    "sig_b1 = 0.02\n",
    "mu_b2 = 0.36\n",
    "sig_b2 = 0.02\n",
    "\n",
    "data = {\"N\": N, \n",
    "        \"mileage\" : np.linspace(0.01,1,N),\n",
    "        \"production_year\" : np.linspace(0.01,1,N),\n",
    "        \"mu_a\" : mu_a,\n",
    "        \"sig_a\" : sig_a,\n",
    "        \"mu_b1\" : mu_b1,\n",
    "        \"mu_b2\" : mu_b2,\n",
    "        \"sig_b1\" : sig_b1,\n",
    "        \"sig_b2\" : sig_b2,\n",
    "        }\n",
    "\n",
    "\n",
    "sim_exp_fit=model_exp_ppc.sample(data=data)\n",
    "sim_exp_fit_pd = sim_exp_fit.draws_pd()\n",
    "sim_exp_fit_pd.head()"
   ]
  },
  {
   "cell_type": "code",
   "execution_count": null,
   "metadata": {},
   "outputs": [
    {
     "ename": "",
     "evalue": "",
     "output_type": "error",
     "traceback": [
      "\u001b[1;31mFailed to start the Kernel. \n",
      "\u001b[1;31mUnable to start Kernel 'Python 3.9.11' due to a timeout waiting for the ports to get used. \n",
      "\u001b[1;31mView Jupyter <a href='command:jupyter.viewOutput'>log</a> for further details."
     ]
    }
   ],
   "source": [
    "_, ax = plt.subplots(1, 5, figsize=(24, 5))\n",
    "ax = ax.flatten()\n",
    "sns.histplot(data=sim_exp_fit_pd, x=\"alpha\", stat=\"density\", ax=ax[0], bins=BINS)\n",
    "sns.histplot(data=sim_exp_fit_pd, x=\"beta1\", stat=\"density\", ax=ax[1], bins=BINS)\n",
    "sns.histplot(data=sim_exp_fit_pd, x=\"beta2\", stat=\"density\", ax=ax[2], bins=BINS)\n",
    "sns.histplot(data=sim_exp_fit_pd, x=\"price[1]\", stat=\"density\", ax=ax[3], bins=BINS)\n",
    "\n",
    "ax[4].hist(sim_exp_fit_pd[\"price[1]\"], bins=BINS, alpha=0.5, density=True, label=\"Prior\")\n",
    "ax[4].hist(audi_a3_2000ccm_standarized[\"Price\"], bins=BINS, alpha=0.5, density=True, label=\"Model samples\")\n",
    "\n",
    "\n",
    "ax[0].grid()\n",
    "ax[1].grid()\n",
    "ax[2].grid()\n",
    "ax[3].grid()\n",
    "\n",
    "ax[0].set_xlabel(\"alpha\"), \n",
    "ax[1].set_xlabel(\"beta1\"), \n",
    "ax[2].set_xlabel(\"beta2\"), \n",
    "ax[3].set_xlabel(\"Predicted prices\"), \n",
    "ax[4].set_xlabel(\"Predicted prices vs dataset prices\")\n",
    "\n",
    "ax[4].set_ylabel(\"Density\")\n",
    "ax[4].legend()\n",
    "plt.suptitle(\"Histograms\")\n",
    "plt.show()"
   ]
  },
  {
   "cell_type": "markdown",
   "metadata": {},
   "source": [
    "## 2.2 Model 1- posterior"
   ]
  },
  {
   "cell_type": "code",
   "execution_count": null,
   "metadata": {},
   "outputs": [
    {
     "ename": "",
     "evalue": "",
     "output_type": "error",
     "traceback": [
      "\u001b[1;31mFailed to start the Kernel. \n",
      "\u001b[1;31mUnable to start Kernel 'Python 3.9.11' due to a timeout waiting for the ports to get used. \n",
      "\u001b[1;31mView Jupyter <a href='command:jupyter.viewOutput'>log</a> for further details."
     ]
    }
   ],
   "source": [
    "model_exp_fit = cmdstanpy.CmdStanModel(stan_file='stan_files/exp_model_fit.stan')\n",
    "N = len(audi_a3_2000ccm_standarized)\n",
    "#Parameters\n",
    "\n",
    "data = {\"N\": N, \n",
    "        \"mileage\" : audi_a3_2000ccm_standarized['Mileage_km'],\n",
    "        \"production_year\" : audi_a3_2000ccm_standarized['Production_year'],\n",
    "        \"price_observed\": audi_a3_2000ccm_standarized['Price']\n",
    "        }\n",
    "\n",
    "sim_exp_fit=model_exp_fit.sample(data=data)\n",
    "sim_exp_fit_pd = sim_exp_fit.draws_pd()\n",
    "sim_exp_fit_pd.head()"
   ]
  },
  {
   "cell_type": "code",
   "execution_count": null,
   "metadata": {},
   "outputs": [
    {
     "ename": "",
     "evalue": "",
     "output_type": "error",
     "traceback": [
      "\u001b[1;31mFailed to start the Kernel. \n",
      "\u001b[1;31mUnable to start Kernel 'Python 3.9.11' due to a timeout waiting for the ports to get used. \n",
      "\u001b[1;31mView Jupyter <a href='command:jupyter.viewOutput'>log</a> for further details."
     ]
    }
   ],
   "source": [
    "_, ax = plt.subplots(1, 5, figsize=(24, 5))\n",
    "ax = ax.flatten()\n",
    "sns.histplot(data=sim_exp_fit_pd, x=\"alpha\", stat=\"density\", ax=ax[0], bins=BINS)\n",
    "sns.histplot(data=sim_exp_fit_pd, x=\"beta1\", stat=\"density\", ax=ax[1], bins=BINS)\n",
    "sns.histplot(data=sim_exp_fit_pd, x=\"beta2\", stat=\"density\", ax=ax[2], bins=BINS)\n",
    "sns.histplot(data=sim_exp_fit_pd, x=\"price_estimated[1]\", stat=\"density\", ax=ax[3], bins=BINS)\n",
    "\n",
    "ax[4].hist(sim_exp_fit_pd[\"price_estimated[1]\"], bins=BINS, alpha=0.5, density=True, label=\"Posterior\")\n",
    "ax[4].hist(audi_a3_2000ccm_standarized[\"Price\"], bins=BINS, alpha=0.5, density=True, label=\"Model samples\")\n",
    "\n",
    "\n",
    "ax[0].grid()\n",
    "ax[1].grid()\n",
    "ax[2].grid()\n",
    "ax[3].grid()\n",
    "\n",
    "ax[0].set_xlabel(\"alpha\"), \n",
    "ax[1].set_xlabel(\"beta1\"), \n",
    "ax[2].set_xlabel(\"beta2\"), \n",
    "ax[3].set_xlabel(\"Predicted prices\"), \n",
    "ax[4].set_xlabel(\"Predicted prices vs dataset prices\")\n",
    "\n",
    "ax[4].set_ylabel(\"Density\")\n",
    "ax[4].legend()\n",
    "plt.suptitle(\"Histograms\")\n",
    "plt.show()"
   ]
  },
  {
   "cell_type": "markdown",
   "metadata": {},
   "source": [
    "## 2.3 Model 2- prior"
   ]
  },
  {
   "cell_type": "code",
   "execution_count": null,
   "metadata": {},
   "outputs": [
    {
     "ename": "",
     "evalue": "",
     "output_type": "error",
     "traceback": [
      "\u001b[1;31mFailed to restart the Kernel. \n",
      "\u001b[1;31mUnable to start Kernel 'Python 3.9.11' due to a timeout waiting for the ports to get used. \n",
      "\u001b[1;31mView Jupyter <a href='command:jupyter.viewOutput'>log</a> for further details."
     ]
    },
    {
     "ename": "",
     "evalue": "",
     "output_type": "error",
     "traceback": [
      "\u001b[1;31mFailed to start the Kernel. \n",
      "\u001b[1;31mUnable to start Kernel 'Python 3.9.11' due to a timeout waiting for the ports to get used. \n",
      "\u001b[1;31mView Jupyter <a href='command:jupyter.viewOutput'>log</a> for further details."
     ]
    }
   ],
   "source": [
    "model_exp_ppc = cmdstanpy.CmdStanModel(stan_file='stan_files/beta_model_ppc.stan')\n"
   ]
  },
  {
   "cell_type": "code",
   "execution_count": null,
   "metadata": {},
   "outputs": [
    {
     "ename": "",
     "evalue": "",
     "output_type": "error",
     "traceback": [
      "\u001b[1;31mFailed to start the Kernel. \n",
      "\u001b[1;31mUnable to start Kernel 'Python 3.9.11' due to a timeout waiting for the ports to get used. \n",
      "\u001b[1;31mView Jupyter <a href='command:jupyter.viewOutput'>log</a> for further details."
     ]
    }
   ],
   "source": [
    "#Parameters\n",
    "N = len(audi_a3_2000ccm_standarized)\n",
    "\n",
    "data = {\"N\": N, \n",
    "        \"mileage\" : np.linspace(0.01,1,N),\n",
    "        \"production_year\" : np.linspace(0.01,1,N),\n",
    "        }\n",
    "\n",
    "sim_exp_fit=model_exp_ppc.sample(data=data)\n",
    "sim_exp_fit_pd = sim_exp_fit.draws_pd()\n",
    "sim_exp_fit_pd.head()"
   ]
  },
  {
   "cell_type": "code",
   "execution_count": null,
   "metadata": {},
   "outputs": [
    {
     "ename": "",
     "evalue": "",
     "output_type": "error",
     "traceback": [
      "\u001b[1;31mFailed to start the Kernel. \n",
      "\u001b[1;31mUnable to start Kernel 'Python 3.9.11' due to a timeout waiting for the ports to get used. \n",
      "\u001b[1;31mView Jupyter <a href='command:jupyter.viewOutput'>log</a> for further details."
     ]
    }
   ],
   "source": [
    "_, ax = plt.subplots(1, 5, figsize=(24, 5))\n",
    "ax = ax.flatten()\n",
    "sns.histplot(data=sim_exp_fit_pd, x=\"alpha\", stat=\"density\", ax=ax[0], bins=BINS)\n",
    "sns.histplot(data=sim_exp_fit_pd, x=\"beta1\", stat=\"density\", ax=ax[1], bins=BINS)\n",
    "sns.histplot(data=sim_exp_fit_pd, x=\"beta2\", stat=\"density\", ax=ax[2], bins=BINS)\n",
    "sns.histplot(data=sim_exp_fit_pd, x=\"price[1]\", stat=\"density\", ax=ax[3], bins=BINS)\n",
    "\n",
    "ax[4].hist(sim_exp_fit_pd[\"price[1]\"], bins=BINS, alpha=0.5, density=True, label=\"Prior\")\n",
    "ax[4].hist(audi_a3_2000ccm_standarized[\"Price\"], bins=BINS, alpha=0.5, density=True, label=\"Model samples\")\n",
    "\n",
    "\n",
    "ax[0].grid()\n",
    "ax[1].grid()\n",
    "ax[2].grid()\n",
    "ax[3].grid()\n",
    "\n",
    "ax[0].set_xlabel(\"alpha\"), \n",
    "ax[1].set_xlabel(\"beta1\"), \n",
    "ax[2].set_xlabel(\"beta2\"), \n",
    "ax[3].set_xlabel(\"Predicted prices\"), \n",
    "ax[4].set_xlabel(\"Predicted prices vs dataset prices\")\n",
    "\n",
    "ax[4].set_ylabel(\"Density\")\n",
    "ax[4].legend()\n",
    "plt.suptitle(\"Histograms\")\n",
    "plt.show()"
   ]
  },
  {
   "cell_type": "markdown",
   "metadata": {},
   "source": [
    "## 2.4 Model 2- posterior"
   ]
  },
  {
   "cell_type": "code",
   "execution_count": null,
   "metadata": {},
   "outputs": [
    {
     "ename": "",
     "evalue": "",
     "output_type": "error",
     "traceback": [
      "\u001b[1;31mFailed to start the Kernel. \n",
      "\u001b[1;31mUnable to start Kernel 'Python 3.9.11' due to a timeout waiting for the ports to get used. \n",
      "\u001b[1;31mView Jupyter <a href='command:jupyter.viewOutput'>log</a> for further details."
     ]
    }
   ],
   "source": [
    "model_exp_fit = cmdstanpy.CmdStanModel(stan_file='stan_files/beta_model_fit.stan')\n",
    "N = len(audi_a3_2000ccm_standarized)\n",
    "#Parameters\n",
    "\n",
    "data = {\"N\": N, \n",
    "        \"mileage\" : audi_a3_2000ccm_standarized['Mileage_km'].values,\n",
    "        \"production_year\" : audi_a3_2000ccm_standarized['Production_year'].values,\n",
    "        \"price_observed\": audi_a3_2000ccm_standarized['Price'].values\n",
    "        }\n",
    "\n",
    "sim_exp_fit=model_exp_fit.sample(data=data)\n",
    "sim_exp_fit_pd = sim_exp_fit.draws_pd()\n",
    "sim_exp_fit_pd.head()"
   ]
  },
  {
   "cell_type": "code",
   "execution_count": null,
   "metadata": {},
   "outputs": [
    {
     "ename": "",
     "evalue": "",
     "output_type": "error",
     "traceback": [
      "\u001b[1;31mFailed to start the Kernel. \n",
      "\u001b[1;31mUnable to start Kernel 'Python 3.9.11' due to a timeout waiting for the ports to get used. \n",
      "\u001b[1;31mView Jupyter <a href='command:jupyter.viewOutput'>log</a> for further details."
     ]
    }
   ],
   "source": [
    "_, ax = plt.subplots(1, 5, figsize=(24, 5))\n",
    "ax = ax.flatten()\n",
    "sns.histplot(data=sim_exp_fit_pd, x=\"alpha\", stat=\"density\", ax=ax[0], bins=BINS)\n",
    "sns.histplot(data=sim_exp_fit_pd, x=\"beta1\", stat=\"density\", ax=ax[1], bins=BINS)\n",
    "sns.histplot(data=sim_exp_fit_pd, x=\"beta2\", stat=\"density\", ax=ax[2], bins=BINS)\n",
    "sns.histplot(data=sim_exp_fit_pd, x=\"price_estimated[1]\", stat=\"density\", ax=ax[3], bins=BINS)\n",
    "\n",
    "ax[4].hist(sim_exp_fit_pd[\"price_estimated[1]\"], bins=BINS, alpha=0.5, density=True, label=\"Posterior\")\n",
    "ax[4].hist(audi_a3_2000ccm_standarized[\"Price\"], bins=BINS, alpha=0.5, density=True, label=\"Model samples\")\n",
    "\n",
    "\n",
    "ax[0].grid()\n",
    "ax[1].grid()\n",
    "ax[2].grid()\n",
    "ax[3].grid()\n",
    "\n",
    "ax[0].set_xlabel(\"alpha\"), \n",
    "ax[1].set_xlabel(\"beta1\"), \n",
    "ax[2].set_xlabel(\"beta2\"), \n",
    "ax[3].set_xlabel(\"Predicted prices\"), \n",
    "ax[4].set_xlabel(\"Predicted prices vs dataset prices\")\n",
    "\n",
    "ax[4].set_ylabel(\"Density\")\n",
    "ax[4].legend()\n",
    "plt.suptitle(\"Histograms\")\n",
    "plt.show()"
   ]
  },
  {
   "cell_type": "markdown",
   "metadata": {},
   "source": [
    "# 3. Model comparison"
   ]
  }
 ],
 "metadata": {
  "kernelspec": {
   "display_name": "Python 3",
   "language": "python",
   "name": "python3"
  },
  "language_info": {
   "codemirror_mode": {
    "name": "ipython",
    "version": 3
   },
   "file_extension": ".py",
   "mimetype": "text/x-python",
   "name": "python",
   "nbconvert_exporter": "python",
   "pygments_lexer": "ipython3",
   "version": "3.9.11"
  },
  "orig_nbformat": 4
 },
 "nbformat": 4,
 "nbformat_minor": 2
}
