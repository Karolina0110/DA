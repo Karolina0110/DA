{
 "cells": [
  {
   "cell_type": "markdown",
   "metadata": {},
   "source": [
    "# Predicting the car price based on its production year and mileage"
   ]
  },
  {
   "cell_type": "markdown",
   "metadata": {},
   "source": [
    "# 1. Problem formulation:"
   ]
  },
  {
   "cell_type": "markdown",
   "metadata": {},
   "source": [
    "The problem we focused on is predicting the car price based on its charakteristics. The dataset contains a large number of cars both new and used that were listed for sale in the otomoto.pl portal. We focused on one specific vehicle type - Audi A3 with the engine size of 2000cm^3. \n",
    "\n",
    "We chose this problem, because we are interested in purchasing a car in near futer and the analysis of the data can help us rate if the car price of specific parameters is reasonable or not. Another use case is to apply this model to vehicles with different brands and characteristic and check how common the model is/ \n",
    "\n",
    "The chosen dataset is called \"Poland cars for sale dataset (200k adverts)\" and can be found under this link https://www.kaggle.com/datasets/bartoszpieniak/poland-cars-for-sale-dataset. This dataset was created by webscraping over 200,000 car offers from one of the largest car advertisement sites in Poland (otomoto). It contains 25 parameters listed below:\n",
    "\n",
    "ID - unique ID of offer <br>\n",
    "Price - value of the price <br>\n",
    "Currency - currency of the price (mostly polish złoty, but also some euro)<br>\n",
    "Condition - new or used<br>\n",
    "Vehicle_brand - brand of vehicle in offer<br>\n",
    "Vehicle_model - model of vehicle in offer<br>\n",
    "Vehicle_generation - generation of vehicle in offer<br>\n",
    "Vehicle_version - version of vehicle in offer<br>\n",
    "Production_year - year of car production<br>\n",
    "Mileage_km - total distance that the car has driven in kilometers<br>\n",
    "Power_HP - car engine power in horsepower<br>\n",
    "Displacement_cm3 - car engine size in cubic centimeters<br>\n",
    "Fuel_type - car fuel type<br>\n",
    "CO2_emissions - car CO2 emissions in g/km<br>\n",
    "Drive - type of car drive<br>\n",
    "Transmission - type of car transmission<br>\n",
    "Type - car body style<br>\n",
    "Doors_number - number of car doors<br>\n",
    "Colour - car body color<br>\n",
    "Origin_country - country of origin of the car<br>\n",
    "First_owner - whether the owner is the first owner<br>\n",
    "First_registration_date - date of first registration<br>\n",
    "Offer_publication_date - date of publication of the offer<br>\n",
    "Offer_location - address provided by the issuer<br>\n",
    "Features - listed car features (ABS, airbag, parking sensors e.t.c)<br>"
   ]
  },
  {
   "cell_type": "markdown",
   "metadata": {},
   "source": [
    "**DAG Diagram**"
   ]
  },
  {
   "cell_type": "markdown",
   "metadata": {},
   "source": [
    "Based on the data, we created a DAG diagram to describe what parameters affect the price and each other. We divided the data in categories - brand specification, useage specification, car characteristic and external appearance. We also draw the relation between CO2 emmision and parameters such as displacement, fuel type and horse type, which affect both the emmision and the price. \n",
    "\n",
    "<img src=\"/home/DA/project/DAG_cars.png\" alt=\"Alternative text\" />"
   ]
  },
  {
   "cell_type": "markdown",
   "metadata": {},
   "source": [
    "# 2. Data preprocessing"
   ]
  },
  {
   "cell_type": "markdown",
   "metadata": {},
   "source": [
    "Imports:"
   ]
  },
  {
   "cell_type": "code",
   "execution_count": 1,
   "metadata": {},
   "outputs": [
    {
     "name": "stderr",
     "output_type": "stream",
     "text": [
      "/usr/local/lib/python3.9/site-packages/tqdm/auto.py:22: TqdmWarning: IProgress not found. Please update jupyter and ipywidgets. See https://ipywidgets.readthedocs.io/en/stable/user_install.html\n",
      "  from .autonotebook import tqdm as notebook_tqdm\n"
     ]
    }
   ],
   "source": [
    "import pandas as pd\n",
    "import numpy as np\n",
    "import matplotlib.pyplot as plt\n",
    "import arviz as az\n",
    "import seaborn as sns\n",
    "import cmdstanpy\n",
    "import pandas as pd\n",
    "import numpy as np\n",
    "from scipy import stats\n",
    "from scipy.optimize import curve_fit\n",
    "import matplotlib.pyplot as plt\n",
    "import seaborn as sns\n",
    "import os\n",
    "from sklearn.preprocessing import MinMaxScaler\n",
    "from fitter import Fitter, get_common_distributions, get_distributions\n",
    "\n",
    "\n",
    "BINS = 20"
   ]
  },
  {
   "cell_type": "markdown",
   "metadata": {},
   "source": [
    "Functions"
   ]
  },
  {
   "cell_type": "code",
   "execution_count": 2,
   "metadata": {},
   "outputs": [],
   "source": [
    "def price_plot(df, column_name, plot_trend = False):\n",
    "    price = df[\"Price\"]\n",
    "    data = df[column_name]\n",
    "    plt.figure()\n",
    "    plt.plot(data,price, 'o')\n",
    "    plt.xlabel(column_name)\n",
    "    plt.ylabel(\"Price_PLN\")\n",
    "    if plot_trend:\n",
    "        z = np.polyfit(data, price, 1)\n",
    "        p = np.poly1d(z)\n",
    "        print(f\"Polyfit equation: {p}\")\n",
    "        plt.plot(data, p(data))\n",
    "        plt.axvline(data.mean(), color=\"red\")\n",
    "        plt.axhline(price.mean(), color=\"red\")\n",
    "    plt.show()"
   ]
  },
  {
   "cell_type": "markdown",
   "metadata": {},
   "source": [
    "Loading the data:"
   ]
  },
  {
   "cell_type": "code",
   "execution_count": 3,
   "metadata": {},
   "outputs": [
    {
     "data": {
      "text/html": [
       "<div>\n",
       "<style scoped>\n",
       "    .dataframe tbody tr th:only-of-type {\n",
       "        vertical-align: middle;\n",
       "    }\n",
       "\n",
       "    .dataframe tbody tr th {\n",
       "        vertical-align: top;\n",
       "    }\n",
       "\n",
       "    .dataframe thead th {\n",
       "        text-align: right;\n",
       "    }\n",
       "</style>\n",
       "<table border=\"1\" class=\"dataframe\">\n",
       "  <thead>\n",
       "    <tr style=\"text-align: right;\">\n",
       "      <th></th>\n",
       "      <th>Index</th>\n",
       "      <th>Price</th>\n",
       "      <th>Currency</th>\n",
       "      <th>Condition</th>\n",
       "      <th>Vehicle_brand</th>\n",
       "      <th>Vehicle_model</th>\n",
       "      <th>Vehicle_version</th>\n",
       "      <th>Vehicle_generation</th>\n",
       "      <th>Production_year</th>\n",
       "      <th>Mileage_km</th>\n",
       "      <th>...</th>\n",
       "      <th>Transmission</th>\n",
       "      <th>Type</th>\n",
       "      <th>Doors_number</th>\n",
       "      <th>Colour</th>\n",
       "      <th>Origin_country</th>\n",
       "      <th>First_owner</th>\n",
       "      <th>First_registration_date</th>\n",
       "      <th>Offer_publication_date</th>\n",
       "      <th>Offer_location</th>\n",
       "      <th>Features</th>\n",
       "    </tr>\n",
       "  </thead>\n",
       "  <tbody>\n",
       "    <tr>\n",
       "      <th>0</th>\n",
       "      <td>0</td>\n",
       "      <td>86200</td>\n",
       "      <td>PLN</td>\n",
       "      <td>New</td>\n",
       "      <td>Abarth</td>\n",
       "      <td>595</td>\n",
       "      <td>NaN</td>\n",
       "      <td>NaN</td>\n",
       "      <td>2021</td>\n",
       "      <td>1.0</td>\n",
       "      <td>...</td>\n",
       "      <td>Manual</td>\n",
       "      <td>small_cars</td>\n",
       "      <td>3.0</td>\n",
       "      <td>gray</td>\n",
       "      <td>NaN</td>\n",
       "      <td>NaN</td>\n",
       "      <td>NaN</td>\n",
       "      <td>04/05/2021</td>\n",
       "      <td>ul. Jubilerska 6 - 04-190 Warszawa, Mazowiecki...</td>\n",
       "      <td>[]</td>\n",
       "    </tr>\n",
       "    <tr>\n",
       "      <th>1</th>\n",
       "      <td>1</td>\n",
       "      <td>43500</td>\n",
       "      <td>PLN</td>\n",
       "      <td>Used</td>\n",
       "      <td>Abarth</td>\n",
       "      <td>Other</td>\n",
       "      <td>NaN</td>\n",
       "      <td>NaN</td>\n",
       "      <td>1974</td>\n",
       "      <td>59000.0</td>\n",
       "      <td>...</td>\n",
       "      <td>Manual</td>\n",
       "      <td>coupe</td>\n",
       "      <td>2.0</td>\n",
       "      <td>silver</td>\n",
       "      <td>NaN</td>\n",
       "      <td>NaN</td>\n",
       "      <td>NaN</td>\n",
       "      <td>03/05/2021</td>\n",
       "      <td>kanonierska12 - 04-425 Warszawa, Rembertów (Po...</td>\n",
       "      <td>[]</td>\n",
       "    </tr>\n",
       "    <tr>\n",
       "      <th>2</th>\n",
       "      <td>2</td>\n",
       "      <td>44900</td>\n",
       "      <td>PLN</td>\n",
       "      <td>Used</td>\n",
       "      <td>Abarth</td>\n",
       "      <td>500</td>\n",
       "      <td>NaN</td>\n",
       "      <td>NaN</td>\n",
       "      <td>2018</td>\n",
       "      <td>52000.0</td>\n",
       "      <td>...</td>\n",
       "      <td>Automatic</td>\n",
       "      <td>small_cars</td>\n",
       "      <td>3.0</td>\n",
       "      <td>silver</td>\n",
       "      <td>NaN</td>\n",
       "      <td>NaN</td>\n",
       "      <td>NaN</td>\n",
       "      <td>03/05/2021</td>\n",
       "      <td>Warszawa, Mazowieckie, Białołęka</td>\n",
       "      <td>['ABS', 'Electric front windows', 'Drivers air...</td>\n",
       "    </tr>\n",
       "    <tr>\n",
       "      <th>3</th>\n",
       "      <td>3</td>\n",
       "      <td>39900</td>\n",
       "      <td>PLN</td>\n",
       "      <td>Used</td>\n",
       "      <td>Abarth</td>\n",
       "      <td>500</td>\n",
       "      <td>NaN</td>\n",
       "      <td>NaN</td>\n",
       "      <td>2012</td>\n",
       "      <td>29000.0</td>\n",
       "      <td>...</td>\n",
       "      <td>Manual</td>\n",
       "      <td>small_cars</td>\n",
       "      <td>3.0</td>\n",
       "      <td>gray</td>\n",
       "      <td>NaN</td>\n",
       "      <td>NaN</td>\n",
       "      <td>NaN</td>\n",
       "      <td>30/04/2021</td>\n",
       "      <td>Jaworzno, Śląskie</td>\n",
       "      <td>['ABS', 'Electric front windows', 'Drivers air...</td>\n",
       "    </tr>\n",
       "    <tr>\n",
       "      <th>4</th>\n",
       "      <td>4</td>\n",
       "      <td>97900</td>\n",
       "      <td>PLN</td>\n",
       "      <td>New</td>\n",
       "      <td>Abarth</td>\n",
       "      <td>595</td>\n",
       "      <td>NaN</td>\n",
       "      <td>NaN</td>\n",
       "      <td>2021</td>\n",
       "      <td>600.0</td>\n",
       "      <td>...</td>\n",
       "      <td>Manual</td>\n",
       "      <td>small_cars</td>\n",
       "      <td>3.0</td>\n",
       "      <td>blue</td>\n",
       "      <td>NaN</td>\n",
       "      <td>NaN</td>\n",
       "      <td>NaN</td>\n",
       "      <td>30/04/2021</td>\n",
       "      <td>ul. Gorzysława 9 - 61-057 Poznań, Nowe Miasto ...</td>\n",
       "      <td>['ABS', 'Electrically adjustable mirrors', 'Pa...</td>\n",
       "    </tr>\n",
       "  </tbody>\n",
       "</table>\n",
       "<p>5 rows × 25 columns</p>\n",
       "</div>"
      ],
      "text/plain": [
       "   Index  Price Currency Condition Vehicle_brand Vehicle_model  \\\n",
       "0      0  86200      PLN       New        Abarth           595   \n",
       "1      1  43500      PLN      Used        Abarth         Other   \n",
       "2      2  44900      PLN      Used        Abarth           500   \n",
       "3      3  39900      PLN      Used        Abarth           500   \n",
       "4      4  97900      PLN       New        Abarth           595   \n",
       "\n",
       "  Vehicle_version Vehicle_generation  Production_year  Mileage_km  ...  \\\n",
       "0             NaN                NaN             2021         1.0  ...   \n",
       "1             NaN                NaN             1974     59000.0  ...   \n",
       "2             NaN                NaN             2018     52000.0  ...   \n",
       "3             NaN                NaN             2012     29000.0  ...   \n",
       "4             NaN                NaN             2021       600.0  ...   \n",
       "\n",
       "   Transmission        Type Doors_number  Colour Origin_country First_owner  \\\n",
       "0        Manual  small_cars          3.0    gray            NaN         NaN   \n",
       "1        Manual       coupe          2.0  silver            NaN         NaN   \n",
       "2     Automatic  small_cars          3.0  silver            NaN         NaN   \n",
       "3        Manual  small_cars          3.0    gray            NaN         NaN   \n",
       "4        Manual  small_cars          3.0    blue            NaN         NaN   \n",
       "\n",
       "  First_registration_date  Offer_publication_date  \\\n",
       "0                     NaN              04/05/2021   \n",
       "1                     NaN              03/05/2021   \n",
       "2                     NaN              03/05/2021   \n",
       "3                     NaN              30/04/2021   \n",
       "4                     NaN              30/04/2021   \n",
       "\n",
       "                                      Offer_location  \\\n",
       "0  ul. Jubilerska 6 - 04-190 Warszawa, Mazowiecki...   \n",
       "1  kanonierska12 - 04-425 Warszawa, Rembertów (Po...   \n",
       "2                   Warszawa, Mazowieckie, Białołęka   \n",
       "3                                  Jaworzno, Śląskie   \n",
       "4  ul. Gorzysława 9 - 61-057 Poznań, Nowe Miasto ...   \n",
       "\n",
       "                                            Features  \n",
       "0                                                 []  \n",
       "1                                                 []  \n",
       "2  ['ABS', 'Electric front windows', 'Drivers air...  \n",
       "3  ['ABS', 'Electric front windows', 'Drivers air...  \n",
       "4  ['ABS', 'Electrically adjustable mirrors', 'Pa...  \n",
       "\n",
       "[5 rows x 25 columns]"
      ]
     },
     "execution_count": 3,
     "metadata": {},
     "output_type": "execute_result"
    }
   ],
   "source": [
    "df = pd.read_csv(\"data/Car_sale_ads.csv\")\n",
    "list(df.columns)\n",
    "df.head()"
   ]
  },
  {
   "cell_type": "markdown",
   "metadata": {},
   "source": [
    "Unification of the price currency and selection of the desired columns"
   ]
  },
  {
   "cell_type": "code",
   "execution_count": 4,
   "metadata": {},
   "outputs": [
    {
     "data": {
      "text/html": [
       "<div>\n",
       "<style scoped>\n",
       "    .dataframe tbody tr th:only-of-type {\n",
       "        vertical-align: middle;\n",
       "    }\n",
       "\n",
       "    .dataframe tbody tr th {\n",
       "        vertical-align: top;\n",
       "    }\n",
       "\n",
       "    .dataframe thead th {\n",
       "        text-align: right;\n",
       "    }\n",
       "</style>\n",
       "<table border=\"1\" class=\"dataframe\">\n",
       "  <thead>\n",
       "    <tr style=\"text-align: right;\">\n",
       "      <th></th>\n",
       "      <th>Price</th>\n",
       "      <th>Vehicle_brand</th>\n",
       "      <th>Vehicle_model</th>\n",
       "      <th>Production_year</th>\n",
       "      <th>Mileage_km</th>\n",
       "      <th>Power_HP</th>\n",
       "      <th>Displacement_cm3</th>\n",
       "    </tr>\n",
       "  </thead>\n",
       "  <tbody>\n",
       "    <tr>\n",
       "      <th>0</th>\n",
       "      <td>86200.0</td>\n",
       "      <td>Abarth</td>\n",
       "      <td>595</td>\n",
       "      <td>2021</td>\n",
       "      <td>1.0</td>\n",
       "      <td>145.0</td>\n",
       "      <td>1400.0</td>\n",
       "    </tr>\n",
       "    <tr>\n",
       "      <th>1</th>\n",
       "      <td>43500.0</td>\n",
       "      <td>Abarth</td>\n",
       "      <td>Other</td>\n",
       "      <td>1974</td>\n",
       "      <td>59000.0</td>\n",
       "      <td>75.0</td>\n",
       "      <td>1100.0</td>\n",
       "    </tr>\n",
       "    <tr>\n",
       "      <th>2</th>\n",
       "      <td>44900.0</td>\n",
       "      <td>Abarth</td>\n",
       "      <td>500</td>\n",
       "      <td>2018</td>\n",
       "      <td>52000.0</td>\n",
       "      <td>180.0</td>\n",
       "      <td>1368.0</td>\n",
       "    </tr>\n",
       "    <tr>\n",
       "      <th>3</th>\n",
       "      <td>39900.0</td>\n",
       "      <td>Abarth</td>\n",
       "      <td>500</td>\n",
       "      <td>2012</td>\n",
       "      <td>29000.0</td>\n",
       "      <td>160.0</td>\n",
       "      <td>1368.0</td>\n",
       "    </tr>\n",
       "    <tr>\n",
       "      <th>4</th>\n",
       "      <td>97900.0</td>\n",
       "      <td>Abarth</td>\n",
       "      <td>595</td>\n",
       "      <td>2021</td>\n",
       "      <td>600.0</td>\n",
       "      <td>165.0</td>\n",
       "      <td>1368.0</td>\n",
       "    </tr>\n",
       "  </tbody>\n",
       "</table>\n",
       "</div>"
      ],
      "text/plain": [
       "     Price Vehicle_brand Vehicle_model  Production_year  Mileage_km  Power_HP  \\\n",
       "0  86200.0        Abarth           595             2021         1.0     145.0   \n",
       "1  43500.0        Abarth         Other             1974     59000.0      75.0   \n",
       "2  44900.0        Abarth           500             2018     52000.0     180.0   \n",
       "3  39900.0        Abarth           500             2012     29000.0     160.0   \n",
       "4  97900.0        Abarth           595             2021       600.0     165.0   \n",
       "\n",
       "   Displacement_cm3  \n",
       "0            1400.0  \n",
       "1            1100.0  \n",
       "2            1368.0  \n",
       "3            1368.0  \n",
       "4            1368.0  "
      ]
     },
     "execution_count": 4,
     "metadata": {},
     "output_type": "execute_result"
    }
   ],
   "source": [
    "price = df[\"Price\"].copy()\n",
    "currency = df[\"Currency\"].copy()\n",
    "\n",
    "for idx, (p, c) in enumerate(zip(price, currency)):\n",
    "    if c == \"EUR\":\n",
    "        price_PLN = p * 4.6\n",
    "        price[idx] = price_PLN\n",
    "        currency[idx] = \"PLN\"\n",
    "\n",
    "\n",
    "df[\"Currency\"] = currency\n",
    "df[\"Price\"] = price\n",
    "\n",
    "cols2add = [\"Price\", \"Vehicle_brand\", \"Vehicle_model\", \"Production_year\", \"Mileage_km\", \"Power_HP\", \"Displacement_cm3\"]\n",
    "test_df = df[cols2add]\n",
    "test_df.head()"
   ]
  },
  {
   "cell_type": "markdown",
   "metadata": {},
   "source": [
    "Due to the extensive size of the dataset and the wide range of car models included, we have made the decision to conduct our analysis solely on a single car model.<br>\n",
    "***Chosen car model:***<br>\n",
    "**Brand:** Audi <br>\n",
    "**Model:** A3<br>"
   ]
  },
  {
   "cell_type": "code",
   "execution_count": 5,
   "metadata": {},
   "outputs": [],
   "source": [
    "audi_cars = test_df[test_df['Vehicle_brand'] == \"Audi\"]\n",
    "audi_a3_cars = audi_cars[audi_cars[\"Vehicle_model\"] == 'A3']"
   ]
  },
  {
   "cell_type": "code",
   "execution_count": 6,
   "metadata": {},
   "outputs": [
    {
     "data": {
      "image/png": "[encoded data removed]",
      "text/plain": [
       "<Figure size 432x288 with 1 Axes>"
      ]
     },
     "metadata": {
      "needs_background": "light"
     },
     "output_type": "display_data"
    }
   ],
   "source": [
    "price_plot(audi_a3_cars,\"Displacement_cm3\")"
   ]
  },
  {
   "cell_type": "code",
   "execution_count": 7,
   "metadata": {},
   "outputs": [
    {
     "data": {
      "image/png": "[encoded data removed]",
      "text/plain": [
       "<Figure size 432x288 with 1 Axes>"
      ]
     },
     "metadata": {
      "needs_background": "light"
     },
     "output_type": "display_data"
    }
   ],
   "source": [
    "price_plot(audi_a3_cars,\"Power_HP\")"
   ]
  },
  {
   "cell_type": "code",
   "execution_count": 8,
   "metadata": {},
   "outputs": [
    {
     "name": "stdout",
     "output_type": "stream",
     "text": [
      "Production_year     0.853472\n",
      "Mileage_km         -0.764658\n",
      "Power_HP            0.354174\n",
      "Displacement_cm3   -0.301169\n",
      "dtype: float64\n"
     ]
    }
   ],
   "source": [
    "correlations = audi_a3_cars.iloc[:, 1:].corrwith(audi_a3_cars['Price'])\n",
    "print(correlations)"
   ]
  },
  {
   "cell_type": "code",
   "execution_count": 9,
   "metadata": {},
   "outputs": [
    {
     "data": {
      "image/png": "[encoded data removed]",
      "text/plain": [
       "<Figure size 432x288 with 2 Axes>"
      ]
     },
     "metadata": {
      "needs_background": "light"
     },
     "output_type": "display_data"
    }
   ],
   "source": [
    "correlation_matrix = audi_a3_cars.corr()\n",
    "mask = np.triu(np.ones_like(correlation_matrix, dtype=bool))\n",
    "sns.heatmap(data=correlation_matrix, mask=mask, annot=True, cmap='RdYlBu')\n",
    "plt.title('Lower Triangular Correlation Matrix')\n",
    "plt.show()"
   ]
  },
  {
   "cell_type": "markdown",
   "metadata": {},
   "source": [
    "Due to small effect of engine power and displacement on the price of a vehicle, it was decided that only cars with a displacement of 2000ccm would be analysed to simplify analizis."
   ]
  },
  {
   "cell_type": "code",
   "execution_count": 10,
   "metadata": {},
   "outputs": [],
   "source": [
    "audi_a3_2010 = audi_a3_cars[audi_a3_cars[\"Production_year\"] == 2010]\n",
    "audi_a3_2000ccm = audi_a3_cars[audi_a3_cars[\"Displacement_cm3\"] >= 1950]\n",
    "audi_a3_2000ccm = audi_a3_2000ccm[audi_a3_2000ccm[\"Displacement_cm3\"] <= 2050]\n",
    "audi_a3_2000ccm = audi_a3_2000ccm.dropna()"
   ]
  },
  {
   "cell_type": "code",
   "execution_count": 11,
   "metadata": {},
   "outputs": [],
   "source": [
    "if \"audi_cars_data.csv\" not in os.listdir(\"data\"):\n",
    "    audi_a3_2000ccm.to_csv('data/audi_cars_data.csv', index=False)"
   ]
  },
  {
   "cell_type": "markdown",
   "metadata": {},
   "source": [
    "### Summary"
   ]
  },
  {
   "cell_type": "code",
   "execution_count": 12,
   "metadata": {},
   "outputs": [
    {
     "data": {
      "text/html": [
       "<div>\n",
       "<style scoped>\n",
       "    .dataframe tbody tr th:only-of-type {\n",
       "        vertical-align: middle;\n",
       "    }\n",
       "\n",
       "    .dataframe tbody tr th {\n",
       "        vertical-align: top;\n",
       "    }\n",
       "\n",
       "    .dataframe thead th {\n",
       "        text-align: right;\n",
       "    }\n",
       "</style>\n",
       "<table border=\"1\" class=\"dataframe\">\n",
       "  <thead>\n",
       "    <tr style=\"text-align: right;\">\n",
       "      <th></th>\n",
       "      <th>Price</th>\n",
       "      <th>Vehicle_brand</th>\n",
       "      <th>Vehicle_model</th>\n",
       "      <th>Production_year</th>\n",
       "      <th>Mileage_km</th>\n",
       "      <th>Power_HP</th>\n",
       "      <th>Displacement_cm3</th>\n",
       "    </tr>\n",
       "  </thead>\n",
       "  <tbody>\n",
       "    <tr>\n",
       "      <th>1929</th>\n",
       "      <td>49900.0</td>\n",
       "      <td>Audi</td>\n",
       "      <td>A3</td>\n",
       "      <td>2015</td>\n",
       "      <td>208000.0</td>\n",
       "      <td>150.0</td>\n",
       "      <td>1968.0</td>\n",
       "    </tr>\n",
       "    <tr>\n",
       "      <th>1932</th>\n",
       "      <td>13900.0</td>\n",
       "      <td>Audi</td>\n",
       "      <td>A3</td>\n",
       "      <td>2008</td>\n",
       "      <td>227000.0</td>\n",
       "      <td>140.0</td>\n",
       "      <td>1968.0</td>\n",
       "    </tr>\n",
       "    <tr>\n",
       "      <th>1933</th>\n",
       "      <td>21900.0</td>\n",
       "      <td>Audi</td>\n",
       "      <td>A3</td>\n",
       "      <td>2008</td>\n",
       "      <td>313855.0</td>\n",
       "      <td>140.0</td>\n",
       "      <td>1968.0</td>\n",
       "    </tr>\n",
       "    <tr>\n",
       "      <th>1934</th>\n",
       "      <td>19900.0</td>\n",
       "      <td>Audi</td>\n",
       "      <td>A3</td>\n",
       "      <td>2007</td>\n",
       "      <td>242000.0</td>\n",
       "      <td>170.0</td>\n",
       "      <td>1968.0</td>\n",
       "    </tr>\n",
       "    <tr>\n",
       "      <th>1936</th>\n",
       "      <td>22900.0</td>\n",
       "      <td>Audi</td>\n",
       "      <td>A3</td>\n",
       "      <td>2006</td>\n",
       "      <td>240000.0</td>\n",
       "      <td>200.0</td>\n",
       "      <td>1984.0</td>\n",
       "    </tr>\n",
       "  </tbody>\n",
       "</table>\n",
       "</div>"
      ],
      "text/plain": [
       "        Price Vehicle_brand Vehicle_model  Production_year  Mileage_km  \\\n",
       "1929  49900.0          Audi            A3             2015    208000.0   \n",
       "1932  13900.0          Audi            A3             2008    227000.0   \n",
       "1933  21900.0          Audi            A3             2008    313855.0   \n",
       "1934  19900.0          Audi            A3             2007    242000.0   \n",
       "1936  22900.0          Audi            A3             2006    240000.0   \n",
       "\n",
       "      Power_HP  Displacement_cm3  \n",
       "1929     150.0            1968.0  \n",
       "1932     140.0            1968.0  \n",
       "1933     140.0            1968.0  \n",
       "1934     170.0            1968.0  \n",
       "1936     200.0            1984.0  "
      ]
     },
     "execution_count": 12,
     "metadata": {},
     "output_type": "execute_result"
    }
   ],
   "source": [
    "audi_a3_2000ccm.head()"
   ]
  },
  {
   "cell_type": "code",
   "execution_count": 13,
   "metadata": {},
   "outputs": [
    {
     "name": "stdout",
     "output_type": "stream",
     "text": [
      "Polyfit equation:  \n",
      "4988 x - 9.99e+06\n"
     ]
    },
    {
     "data": {
      "image/png": "[encoded data removed]",
      "text/plain": [
       "<Figure size 432x288 with 1 Axes>"
      ]
     },
     "metadata": {
      "needs_background": "light"
     },
     "output_type": "display_data"
    }
   ],
   "source": [
    "price_plot(audi_a3_2000ccm, \"Production_year\", True)"
   ]
  },
  {
   "cell_type": "code",
   "execution_count": 14,
   "metadata": {},
   "outputs": [
    {
     "name": "stdout",
     "output_type": "stream",
     "text": [
      "Polyfit equation:  \n",
      "-0.2344 x + 8.109e+04\n"
     ]
    },
    {
     "data": {
      "image/png": "[encoded data removed]",
      "text/plain": [
       "<Figure size 432x288 with 1 Axes>"
      ]
     },
     "metadata": {
      "needs_background": "light"
     },
     "output_type": "display_data"
    }
   ],
   "source": [
    "price_plot(audi_a3_2000ccm, \"Mileage_km\", True)"
   ]
  },
  {
   "cell_type": "code",
   "execution_count": 15,
   "metadata": {},
   "outputs": [
    {
     "name": "stdout",
     "output_type": "stream",
     "text": [
      "Polyfit equation:  \n",
      "487.6 x - 4.072e+04\n"
     ]
    },
    {
     "data": {
      "image/png": "[encoded data removed]",
      "text/plain": [
       "<Figure size 432x288 with 1 Axes>"
      ]
     },
     "metadata": {
      "needs_background": "light"
     },
     "output_type": "display_data"
    }
   ],
   "source": [
    "price_plot(audi_a3_2000ccm, \"Power_HP\", True)"
   ]
  },
  {
   "cell_type": "code",
   "execution_count": 16,
   "metadata": {},
   "outputs": [
    {
     "name": "stdout",
     "output_type": "stream",
     "text": [
      "Mean: 198361.37403598972\n"
     ]
    },
    {
     "data": {
      "image/png": "[encoded data removed]",
      "text/plain": [
       "<Figure size 432x288 with 1 Axes>"
      ]
     },
     "metadata": {
      "needs_background": "light"
     },
     "output_type": "display_data"
    }
   ],
   "source": [
    "mileage_mean = np.mean(audi_a3_2000ccm[\"Mileage_km\"])\n",
    "print(f\"Mean: {mileage_mean}\")\n",
    "plt.figure()\n",
    "plt.hist(audi_a3_2000ccm[\"Mileage_km\"], bins = 25)\n",
    "plt.axvline(mileage_mean, color=\"red\")\n",
    "plt.xlabel(\"Mileage_km\")\n",
    "plt.ylabel(\"Occurrences\")\n",
    "plt.title(\"Histogram of car mileages\")\n",
    "plt.show()"
   ]
  },
  {
   "cell_type": "code",
   "execution_count": 17,
   "metadata": {},
   "outputs": [
    {
     "name": "stdout",
     "output_type": "stream",
     "text": [
      "Mean: 2009.5719794344473\n"
     ]
    },
    {
     "data": {
      "image/png": "[encoded data removed]",
      "text/plain": [
       "<Figure size 432x288 with 1 Axes>"
      ]
     },
     "metadata": {
      "needs_background": "light"
     },
     "output_type": "display_data"
    }
   ],
   "source": [
    "prod_mean = np.mean(audi_a3_2000ccm[\"Production_year\"])\n",
    "print(f\"Mean: {prod_mean}\")\n",
    "plt.figure()\n",
    "plt.hist(audi_a3_2000ccm[\"Production_year\"], bins = 18)\n",
    "plt.axvline(prod_mean, color=\"red\")\n",
    "plt.xlabel(\"Production year\")\n",
    "plt.ylabel(\"Occurrences\")\n",
    "plt.title(\"Histogram of car production years\")\n",
    "plt.show()"
   ]
  },
  {
   "cell_type": "code",
   "execution_count": 18,
   "metadata": {},
   "outputs": [
    {
     "name": "stdout",
     "output_type": "stream",
     "text": [
      "Mean: 34600.235218509\n"
     ]
    },
    {
     "data": {
      "image/png": "[encoded data removed]",
      "text/plain": [
       "<Figure size 432x288 with 1 Axes>"
      ]
     },
     "metadata": {
      "needs_background": "light"
     },
     "output_type": "display_data"
    }
   ],
   "source": [
    "price_mean = np.mean(audi_a3_2000ccm[\"Price\"])\n",
    "print(f\"Mean: {price_mean}\")\n",
    "plt.figure()\n",
    "plt.hist(audi_a3_2000ccm[\"Price\"], bins = 25)\n",
    "plt.axvline(price_mean, color=\"red\")\n",
    "plt.xlabel(\"Price\")\n",
    "plt.ylabel(\"Occurrences\")\n",
    "plt.title(\"Histogram of cars price\")\n",
    "plt.show()"
   ]
  },
  {
   "cell_type": "markdown",
   "metadata": {},
   "source": [
    "## Data standarization ##"
   ]
  },
  {
   "cell_type": "markdown",
   "metadata": {},
   "source": [
    "Due to the diversity of the data (production year (values form 2003 to 2021), mileage (values from 0 to 400000), price (values from 0 to 160000)), we decided to standardise the data using the MinMax scalar. This way we got all the data in the range from 0 to 1, without loosing information about data and making it easier to analyze it."
   ]
  },
  {
   "cell_type": "code",
   "execution_count": 19,
   "metadata": {},
   "outputs": [
    {
     "data": {
      "text/html": [
       "<div>\n",
       "<style scoped>\n",
       "    .dataframe tbody tr th:only-of-type {\n",
       "        vertical-align: middle;\n",
       "    }\n",
       "\n",
       "    .dataframe tbody tr th {\n",
       "        vertical-align: top;\n",
       "    }\n",
       "\n",
       "    .dataframe thead th {\n",
       "        text-align: right;\n",
       "    }\n",
       "</style>\n",
       "<table border=\"1\" class=\"dataframe\">\n",
       "  <thead>\n",
       "    <tr style=\"text-align: right;\">\n",
       "      <th></th>\n",
       "      <th>Price</th>\n",
       "      <th>Production_year</th>\n",
       "      <th>Mileage_km</th>\n",
       "    </tr>\n",
       "  </thead>\n",
       "  <tbody>\n",
       "    <tr>\n",
       "      <th>count</th>\n",
       "      <td>778.000000</td>\n",
       "      <td>778.000000</td>\n",
       "      <td>778.000000</td>\n",
       "    </tr>\n",
       "    <tr>\n",
       "      <th>mean</th>\n",
       "      <td>0.125764</td>\n",
       "      <td>0.503130</td>\n",
       "      <td>0.450820</td>\n",
       "    </tr>\n",
       "    <tr>\n",
       "      <th>std</th>\n",
       "      <td>0.110705</td>\n",
       "      <td>0.190895</td>\n",
       "      <td>0.173469</td>\n",
       "    </tr>\n",
       "    <tr>\n",
       "      <th>min</th>\n",
       "      <td>0.000000</td>\n",
       "      <td>0.000000</td>\n",
       "      <td>0.000000</td>\n",
       "    </tr>\n",
       "    <tr>\n",
       "      <th>25%</th>\n",
       "      <td>0.053109</td>\n",
       "      <td>0.347826</td>\n",
       "      <td>0.363635</td>\n",
       "    </tr>\n",
       "    <tr>\n",
       "      <th>50%</th>\n",
       "      <td>0.093048</td>\n",
       "      <td>0.478261</td>\n",
       "      <td>0.470453</td>\n",
       "    </tr>\n",
       "    <tr>\n",
       "      <th>75%</th>\n",
       "      <td>0.160497</td>\n",
       "      <td>0.652174</td>\n",
       "      <td>0.561363</td>\n",
       "    </tr>\n",
       "    <tr>\n",
       "      <th>max</th>\n",
       "      <td>1.000000</td>\n",
       "      <td>1.000000</td>\n",
       "      <td>1.000000</td>\n",
       "    </tr>\n",
       "  </tbody>\n",
       "</table>\n",
       "</div>"
      ],
      "text/plain": [
       "            Price  Production_year  Mileage_km\n",
       "count  778.000000       778.000000  778.000000\n",
       "mean     0.125764         0.503130    0.450820\n",
       "std      0.110705         0.190895    0.173469\n",
       "min      0.000000         0.000000    0.000000\n",
       "25%      0.053109         0.347826    0.363635\n",
       "50%      0.093048         0.478261    0.470453\n",
       "75%      0.160497         0.652174    0.561363\n",
       "max      1.000000         1.000000    1.000000"
      ]
     },
     "execution_count": 19,
     "metadata": {},
     "output_type": "execute_result"
    }
   ],
   "source": [
    "scaler = MinMaxScaler()\n",
    "audi_a3_2000ccm_standarized_data = scaler.fit_transform(audi_a3_2000ccm.loc[:,[\"Price\", \"Production_year\", \"Mileage_km\"]])\n",
    "audi_a3_2000ccm_standarized = pd.DataFrame(audi_a3_2000ccm_standarized_data,columns=[\"Price\", \"Production_year\", \"Mileage_km\"])\n",
    "audi_a3_2000ccm_standarized.describe()"
   ]
  },
  {
   "cell_type": "code",
   "execution_count": 20,
   "metadata": {},
   "outputs": [
    {
     "name": "stdout",
     "output_type": "stream",
     "text": [
      "Polyfit equation:  \n",
      "0.4875 x - 0.1195\n"
     ]
    },
    {
     "data": {
      "image/png": "[encoded data removed]",
      "text/plain": [
       "<Figure size 432x288 with 1 Axes>"
      ]
     },
     "metadata": {
      "needs_background": "light"
     },
     "output_type": "display_data"
    },
    {
     "name": "stdout",
     "output_type": "stream",
     "text": [
      "Polyfit equation:  \n",
      "-0.4382 x + 0.3233\n"
     ]
    },
    {
     "data": {
      "image/png": "[encoded data removed]",
      "text/plain": [
       "<Figure size 432x288 with 1 Axes>"
      ]
     },
     "metadata": {
      "needs_background": "light"
     },
     "output_type": "display_data"
    }
   ],
   "source": [
    "price_plot(audi_a3_2000ccm_standarized,\"Production_year\",True)\n",
    "price_plot(audi_a3_2000ccm_standarized,\"Mileage_km\",True)"
   ]
  },
  {
   "cell_type": "code",
   "execution_count": 21,
   "metadata": {},
   "outputs": [
    {
     "name": "stdout",
     "output_type": "stream",
     "text": [
      "Mean: 0.45082005649101414\n"
     ]
    },
    {
     "data": {
      "image/png": "[encoded data removed]",
      "text/plain": [
       "<Figure size 432x288 with 1 Axes>"
      ]
     },
     "metadata": {
      "needs_background": "light"
     },
     "output_type": "display_data"
    },
    {
     "name": "stdout",
     "output_type": "stream",
     "text": [
      "Mean: 0.5031295406281482\n"
     ]
    },
    {
     "data": {
      "image/png": "[encoded data removed]",
      "text/plain": [
       "<Figure size 432x288 with 1 Axes>"
      ]
     },
     "metadata": {
      "needs_background": "light"
     },
     "output_type": "display_data"
    },
    {
     "name": "stdout",
     "output_type": "stream",
     "text": [
      "Mean: 0.12576418221431998\n",
      "Var: 0.012239734156792626\n"
     ]
    },
    {
     "data": {
      "image/png": "[encoded data removed]",
      "text/plain": [
       "<Figure size 432x288 with 1 Axes>"
      ]
     },
     "metadata": {
      "needs_background": "light"
     },
     "output_type": "display_data"
    }
   ],
   "source": [
    "mileage_mean = np.mean(audi_a3_2000ccm_standarized[\"Mileage_km\"])\n",
    "print(f\"Mean: {mileage_mean}\")\n",
    "plt.figure()\n",
    "plt.hist(audi_a3_2000ccm_standarized[\"Mileage_km\"], bins = 25)\n",
    "plt.axvline(mileage_mean, color=\"red\")\n",
    "plt.xlabel(\"Mileage_km\")\n",
    "plt.ylabel(\"Occurrences\")\n",
    "plt.title(\"Histogram of car mileages\")\n",
    "plt.show()\n",
    "\n",
    "prod_mean = np.mean(audi_a3_2000ccm_standarized[\"Production_year\"])\n",
    "print(f\"Mean: {prod_mean}\")\n",
    "plt.figure()\n",
    "plt.hist(audi_a3_2000ccm_standarized[\"Production_year\"], bins = 18)\n",
    "plt.axvline(prod_mean, color=\"red\")\n",
    "plt.xlabel(\"Production year\")\n",
    "plt.ylabel(\"Occurrences\")\n",
    "plt.title(\"Histogram of car production years\")\n",
    "plt.show()\n",
    "\n",
    "price_mean = np.mean(audi_a3_2000ccm_standarized[\"Price\"])\n",
    "price_var = np.var(audi_a3_2000ccm_standarized[\"Price\"])\n",
    "print(f\"Mean: {price_mean}\")\n",
    "print(f\"Var: {price_var}\")\n",
    "plt.figure()\n",
    "plt.hist(audi_a3_2000ccm_standarized[\"Price\"], bins = 25)\n",
    "plt.axvline(price_mean, color=\"red\")\n",
    "plt.xlabel(\"Price\")\n",
    "plt.ylabel(\"Occurrences\")\n",
    "plt.title(\"Histogram of cars price\")\n",
    "plt.show()"
   ]
  },
  {
   "cell_type": "code",
   "execution_count": 22,
   "metadata": {},
   "outputs": [],
   "source": [
    "if 'audi_data_standarized.csv' not in os.listdir(\"data\"):\n",
    "    audi_a3_2000ccm_standarized.to_csv('data/audi_data_standarized.csv', index=False)"
   ]
  },
  {
   "cell_type": "code",
   "execution_count": 23,
   "metadata": {},
   "outputs": [
    {
     "data": {
      "text/html": [
       "<div>\n",
       "<style scoped>\n",
       "    .dataframe tbody tr th:only-of-type {\n",
       "        vertical-align: middle;\n",
       "    }\n",
       "\n",
       "    .dataframe tbody tr th {\n",
       "        vertical-align: top;\n",
       "    }\n",
       "\n",
       "    .dataframe thead th {\n",
       "        text-align: right;\n",
       "    }\n",
       "</style>\n",
       "<table border=\"1\" class=\"dataframe\">\n",
       "  <thead>\n",
       "    <tr style=\"text-align: right;\">\n",
       "      <th></th>\n",
       "      <th>Price</th>\n",
       "      <th>Production_year</th>\n",
       "      <th>Mileage_km</th>\n",
       "    </tr>\n",
       "  </thead>\n",
       "  <tbody>\n",
       "    <tr>\n",
       "      <th>0</th>\n",
       "      <td>0.190769</td>\n",
       "      <td>0.739130</td>\n",
       "      <td>0.472726</td>\n",
       "    </tr>\n",
       "    <tr>\n",
       "      <th>1</th>\n",
       "      <td>0.037814</td>\n",
       "      <td>0.434783</td>\n",
       "      <td>0.515908</td>\n",
       "    </tr>\n",
       "    <tr>\n",
       "      <th>2</th>\n",
       "      <td>0.071804</td>\n",
       "      <td>0.434783</td>\n",
       "      <td>0.713306</td>\n",
       "    </tr>\n",
       "    <tr>\n",
       "      <th>3</th>\n",
       "      <td>0.063306</td>\n",
       "      <td>0.391304</td>\n",
       "      <td>0.549999</td>\n",
       "    </tr>\n",
       "    <tr>\n",
       "      <th>4</th>\n",
       "      <td>0.076053</td>\n",
       "      <td>0.347826</td>\n",
       "      <td>0.545454</td>\n",
       "    </tr>\n",
       "  </tbody>\n",
       "</table>\n",
       "</div>"
      ],
      "text/plain": [
       "      Price  Production_year  Mileage_km\n",
       "0  0.190769         0.739130    0.472726\n",
       "1  0.037814         0.434783    0.515908\n",
       "2  0.071804         0.434783    0.713306\n",
       "3  0.063306         0.391304    0.549999\n",
       "4  0.076053         0.347826    0.545454"
      ]
     },
     "execution_count": 23,
     "metadata": {},
     "output_type": "execute_result"
    }
   ],
   "source": [
    "audi_a3_2000ccm_standarized = pd.read_csv(\"data/audi_data_standarized.csv\")\n",
    "audi_a3_2000ccm_standarized.head()"
   ]
  },
  {
   "cell_type": "markdown",
   "metadata": {},
   "source": [
    "# 3. Model"
   ]
  },
  {
   "cell_type": "markdown",
   "metadata": {},
   "source": [
    "For this project we specified two prior models of exponential range distribution. We wanted to check how adding highly corelated parameter to the model will affect price estimation. \n",
    "In the first model we used linear regression model with exponnenital distribution. We estimate price only based on the production year. In the second model we add mileage as well.\n",
    "<br><br>\n",
    "Model 1 formula:\n",
    "$$\n",
    "  price = exponential((\\alpha + \\beta * production\\_year)*\\lambda )\n",
    "$$\n",
    "Model 2 formula:\n",
    "$$\n",
    "  price = exponential((\\alpha -\\beta_1 * mileage + \\beta_2 * production\\_year)*\\lambda )\n",
    "$$"
   ]
  },
  {
   "cell_type": "markdown",
   "metadata": {},
   "source": [
    "## 3.1 Model 1- prior"
   ]
  },
  {
   "cell_type": "markdown",
   "metadata": {},
   "source": [
    "***Priors selection***<br>\n",
    "The choice of an exponential distribution for modeling used car prices is justified by the observation that newer and less used cars tend to have higher prices. The exponential distribution captures this pattern with its right-skewed shape, accommodating a higher concentration of lower-priced cars and a smaller number of higher-priced cars. The min-max scaling ensures that the production year variable is on a comparable scale for accurate analysis and modeling of the relationship between production year and used car prices.\n",
    "\n",
    "The choice to use a normal distribution for $\\alpha$, $\\beta$ and $\\lambda$ allows for capturing the natural variability of these parameters and is a common approach in statistical modeling for estimation and significance assessment."
   ]
  },
  {
   "cell_type": "code",
   "execution_count": 24,
   "metadata": {},
   "outputs": [
    {
     "name": "stderr",
     "output_type": "stream",
     "text": [
      "INFO:cmdstanpy:compiling stan file /home/DA/project/stan_files/exp_model1_ppc.stan to exe file /home/DA/project/stan_files/exp_model1_ppc\n",
      "INFO:cmdstanpy:compiled model executable: /home/DA/project/stan_files/exp_model1_ppc\n"
     ]
    }
   ],
   "source": [
    "model_exp1_ppc = cmdstanpy.CmdStanModel(stan_file='stan_files/exp_model1_ppc.stan')"
   ]
  },
  {
   "cell_type": "code",
   "execution_count": 25,
   "metadata": {},
   "outputs": [
    {
     "name": "stderr",
     "output_type": "stream",
     "text": [
      "INFO:cmdstanpy:CmdStan start processing\n",
      "chain 1 |\u001b[33m          \u001b[0m| 00:00 Status\n",
      "\u001b[A\n",
      "\n",
      "\u001b[A\u001b[A\n",
      "chain 1 |\u001b[34m▍         \u001b[0m| 00:00 Status\n",
      "\n",
      "\u001b[A\u001b[A\n",
      "\u001b[A\n",
      "\n",
      "chain 1 |\u001b[34m█▊        \u001b[0m| 00:00 Iteration: 200 / 1000 [ 20%]  (Sampling)\n",
      "\u001b[A\n",
      "\n",
      "chain 1 |\u001b[34m██▋       \u001b[0m| 00:00 Iteration: 400 / 1000 [ 40%]  (Sampling)\n",
      "\u001b[A\n",
      "\n",
      "chain 1 |\u001b[34m███▋      \u001b[0m| 00:00 Iteration: 600 / 1000 [ 60%]  (Sampling)\n",
      "\u001b[A\n",
      "\n",
      "chain 1 |\u001b[34m████▌     \u001b[0m| 00:00 Iteration: 800 / 1000 [ 80%]  (Sampling)\n",
      "chain 1 |\u001b[34m██████████\u001b[0m| 00:00 Sampling completed                      \n",
      "chain 2 |\u001b[34m██████████\u001b[0m| 00:00 Sampling completed\n",
      "chain 3 |\u001b[34m██████████\u001b[0m| 00:00 Sampling completed                      \n",
      "\n",
      "\n",
      "chain 4 |\u001b[34m██████████\u001b[0m| 00:00 Sampling completed"
     ]
    },
    {
     "name": "stdout",
     "output_type": "stream",
     "text": [
      "                                                                                                                                                                                                                                                                                                                                "
     ]
    },
    {
     "name": "stderr",
     "output_type": "stream",
     "text": [
      "\n",
      "INFO:cmdstanpy:CmdStan done processing.\n"
     ]
    },
    {
     "name": "stdout",
     "output_type": "stream",
     "text": [
      "\n"
     ]
    },
    {
     "data": {
      "text/html": [
       "<div>\n",
       "<style scoped>\n",
       "    .dataframe tbody tr th:only-of-type {\n",
       "        vertical-align: middle;\n",
       "    }\n",
       "\n",
       "    .dataframe tbody tr th {\n",
       "        vertical-align: top;\n",
       "    }\n",
       "\n",
       "    .dataframe thead th {\n",
       "        text-align: right;\n",
       "    }\n",
       "</style>\n",
       "<table border=\"1\" class=\"dataframe\">\n",
       "  <thead>\n",
       "    <tr style=\"text-align: right;\">\n",
       "      <th></th>\n",
       "      <th>lp__</th>\n",
       "      <th>accept_stat__</th>\n",
       "      <th>price[1]</th>\n",
       "      <th>price[2]</th>\n",
       "      <th>price[3]</th>\n",
       "      <th>price[4]</th>\n",
       "      <th>price[5]</th>\n",
       "      <th>price[6]</th>\n",
       "      <th>price[7]</th>\n",
       "      <th>price[8]</th>\n",
       "      <th>...</th>\n",
       "      <th>price[773]</th>\n",
       "      <th>price[774]</th>\n",
       "      <th>price[775]</th>\n",
       "      <th>price[776]</th>\n",
       "      <th>price[777]</th>\n",
       "      <th>price[778]</th>\n",
       "      <th>alpha</th>\n",
       "      <th>beta</th>\n",
       "      <th>sigma</th>\n",
       "      <th>lambda</th>\n",
       "    </tr>\n",
       "  </thead>\n",
       "  <tbody>\n",
       "    <tr>\n",
       "      <th>0</th>\n",
       "      <td>0.0</td>\n",
       "      <td>0.0</td>\n",
       "      <td>0.720541</td>\n",
       "      <td>0.056796</td>\n",
       "      <td>0.107119</td>\n",
       "      <td>0.083549</td>\n",
       "      <td>0.011396</td>\n",
       "      <td>0.129340</td>\n",
       "      <td>0.213175</td>\n",
       "      <td>0.204050</td>\n",
       "      <td>...</td>\n",
       "      <td>0.045107</td>\n",
       "      <td>0.066630</td>\n",
       "      <td>0.000519</td>\n",
       "      <td>0.009614</td>\n",
       "      <td>0.168518</td>\n",
       "      <td>0.076745</td>\n",
       "      <td>0.189841</td>\n",
       "      <td>0.386983</td>\n",
       "      <td>0.154992</td>\n",
       "      <td>40.0332</td>\n",
       "    </tr>\n",
       "    <tr>\n",
       "      <th>1</th>\n",
       "      <td>0.0</td>\n",
       "      <td>0.0</td>\n",
       "      <td>0.103551</td>\n",
       "      <td>0.145529</td>\n",
       "      <td>0.402376</td>\n",
       "      <td>0.164181</td>\n",
       "      <td>0.215753</td>\n",
       "      <td>0.045607</td>\n",
       "      <td>0.066948</td>\n",
       "      <td>0.142049</td>\n",
       "      <td>...</td>\n",
       "      <td>0.000895</td>\n",
       "      <td>0.161457</td>\n",
       "      <td>0.068008</td>\n",
       "      <td>0.205782</td>\n",
       "      <td>0.012172</td>\n",
       "      <td>0.000081</td>\n",
       "      <td>0.164562</td>\n",
       "      <td>0.341453</td>\n",
       "      <td>0.154589</td>\n",
       "      <td>40.1370</td>\n",
       "    </tr>\n",
       "    <tr>\n",
       "      <th>2</th>\n",
       "      <td>0.0</td>\n",
       "      <td>0.0</td>\n",
       "      <td>0.365362</td>\n",
       "      <td>0.128006</td>\n",
       "      <td>0.125368</td>\n",
       "      <td>0.165784</td>\n",
       "      <td>0.142405</td>\n",
       "      <td>0.145356</td>\n",
       "      <td>0.041919</td>\n",
       "      <td>0.051312</td>\n",
       "      <td>...</td>\n",
       "      <td>0.091015</td>\n",
       "      <td>0.076533</td>\n",
       "      <td>0.053217</td>\n",
       "      <td>0.016594</td>\n",
       "      <td>0.052487</td>\n",
       "      <td>0.047103</td>\n",
       "      <td>0.167710</td>\n",
       "      <td>0.355258</td>\n",
       "      <td>0.132483</td>\n",
       "      <td>39.9760</td>\n",
       "    </tr>\n",
       "    <tr>\n",
       "      <th>3</th>\n",
       "      <td>0.0</td>\n",
       "      <td>0.0</td>\n",
       "      <td>0.057789</td>\n",
       "      <td>0.087359</td>\n",
       "      <td>0.031872</td>\n",
       "      <td>0.016995</td>\n",
       "      <td>0.461796</td>\n",
       "      <td>0.073865</td>\n",
       "      <td>0.032934</td>\n",
       "      <td>0.418010</td>\n",
       "      <td>...</td>\n",
       "      <td>0.038514</td>\n",
       "      <td>0.015578</td>\n",
       "      <td>0.055715</td>\n",
       "      <td>0.007144</td>\n",
       "      <td>0.040562</td>\n",
       "      <td>0.003526</td>\n",
       "      <td>0.153393</td>\n",
       "      <td>0.370996</td>\n",
       "      <td>0.178134</td>\n",
       "      <td>40.1906</td>\n",
       "    </tr>\n",
       "    <tr>\n",
       "      <th>4</th>\n",
       "      <td>0.0</td>\n",
       "      <td>0.0</td>\n",
       "      <td>0.227178</td>\n",
       "      <td>0.047124</td>\n",
       "      <td>0.100616</td>\n",
       "      <td>0.058790</td>\n",
       "      <td>0.001054</td>\n",
       "      <td>0.033103</td>\n",
       "      <td>0.116288</td>\n",
       "      <td>0.151095</td>\n",
       "      <td>...</td>\n",
       "      <td>0.030023</td>\n",
       "      <td>0.027987</td>\n",
       "      <td>0.101090</td>\n",
       "      <td>0.049186</td>\n",
       "      <td>0.004391</td>\n",
       "      <td>0.003777</td>\n",
       "      <td>0.199538</td>\n",
       "      <td>0.354305</td>\n",
       "      <td>0.189200</td>\n",
       "      <td>39.6609</td>\n",
       "    </tr>\n",
       "  </tbody>\n",
       "</table>\n",
       "<p>5 rows × 784 columns</p>\n",
       "</div>"
      ],
      "text/plain": [
       "   lp__  accept_stat__  price[1]  price[2]  price[3]  price[4]  price[5]  \\\n",
       "0   0.0            0.0  0.720541  0.056796  0.107119  0.083549  0.011396   \n",
       "1   0.0            0.0  0.103551  0.145529  0.402376  0.164181  0.215753   \n",
       "2   0.0            0.0  0.365362  0.128006  0.125368  0.165784  0.142405   \n",
       "3   0.0            0.0  0.057789  0.087359  0.031872  0.016995  0.461796   \n",
       "4   0.0            0.0  0.227178  0.047124  0.100616  0.058790  0.001054   \n",
       "\n",
       "   price[6]  price[7]  price[8]  ...  price[773]  price[774]  price[775]  \\\n",
       "0  0.129340  0.213175  0.204050  ...    0.045107    0.066630    0.000519   \n",
       "1  0.045607  0.066948  0.142049  ...    0.000895    0.161457    0.068008   \n",
       "2  0.145356  0.041919  0.051312  ...    0.091015    0.076533    0.053217   \n",
       "3  0.073865  0.032934  0.418010  ...    0.038514    0.015578    0.055715   \n",
       "4  0.033103  0.116288  0.151095  ...    0.030023    0.027987    0.101090   \n",
       "\n",
       "   price[776]  price[777]  price[778]     alpha      beta     sigma   lambda  \n",
       "0    0.009614    0.168518    0.076745  0.189841  0.386983  0.154992  40.0332  \n",
       "1    0.205782    0.012172    0.000081  0.164562  0.341453  0.154589  40.1370  \n",
       "2    0.016594    0.052487    0.047103  0.167710  0.355258  0.132483  39.9760  \n",
       "3    0.007144    0.040562    0.003526  0.153393  0.370996  0.178134  40.1906  \n",
       "4    0.049186    0.004391    0.003777  0.199538  0.354305  0.189200  39.6609  \n",
       "\n",
       "[5 rows x 784 columns]"
      ]
     },
     "execution_count": 25,
     "metadata": {},
     "output_type": "execute_result"
    }
   ],
   "source": [
    "N = len(audi_a3_2000ccm_standarized)\n",
    "\n",
    "data = {\"N\": N, \n",
    "        \"mileage\" : np.linspace(0.01,1,N),\n",
    "        \"production_year\" : np.linspace(0.01,1,N)\n",
    "}\n",
    "sim_exp_fit1=model_exp1_ppc.sample(data=data)\n",
    "sim_exp_fit1_pd = sim_exp_fit1.draws_pd()\n",
    "sim_exp_fit1_pd.head()"
   ]
  },
  {
   "cell_type": "code",
   "execution_count": 26,
   "metadata": {},
   "outputs": [
    {
     "data": {
      "image/png": "[encoded data removed]",
      "text/plain": [
       "<Figure size 1728x360 with 4 Axes>"
      ]
     },
     "metadata": {
      "needs_background": "light"
     },
     "output_type": "display_data"
    }
   ],
   "source": [
    "_, ax = plt.subplots(1, 4, figsize=(24, 5))\n",
    "ax = ax.flatten()\n",
    "sns.histplot(data=sim_exp_fit1_pd, x=\"alpha\", stat=\"density\", ax=ax[0], bins=BINS)\n",
    "sns.histplot(data=sim_exp_fit1_pd, x=\"beta\", stat=\"density\", ax=ax[1], bins=BINS)\n",
    "sns.histplot(data=sim_exp_fit1_pd, x=\"price[1]\", stat=\"density\", ax=ax[2], bins=BINS)\n",
    "\n",
    "ax[3].hist(sim_exp_fit1_pd[\"price[1]\"], bins=BINS, alpha=0.5, density=True, label=\"Prior\")\n",
    "ax[3].hist(audi_a3_2000ccm_standarized[\"Price\"], bins=BINS, alpha=0.5, density=True, label=\"Model samples\")\n",
    "\n",
    "\n",
    "ax[0].grid()\n",
    "ax[1].grid()\n",
    "ax[2].grid()\n",
    "ax[3].grid()\n",
    "\n",
    "ax[0].set_xlabel(\"alpha\"), \n",
    "ax[1].set_xlabel(\"beta1\"), \n",
    "ax[2].set_xlabel(\"Predicted prices\"), \n",
    "ax[3].set_xlabel(\"Predicted prices vs dataset prices\")\n",
    "\n",
    "ax[3].set_ylabel(\"Density\")\n",
    "ax[3].legend()\n",
    "plt.suptitle(\"Histograms\")\n",
    "plt.show()"
   ]
  },
  {
   "cell_type": "markdown",
   "metadata": {},
   "source": [
    "The prior parameters were chosen through a semi-empirical process. Initially, a standard parameter from the literature was used, but further modifications were made to align the simulated data with the observed data. This adjustment ensured a closer match between the chosen priors and the actual data."
   ]
  },
  {
   "cell_type": "markdown",
   "metadata": {},
   "source": [
    "## 3.2 Model 1- posterior"
   ]
  },
  {
   "cell_type": "code",
   "execution_count": 27,
   "metadata": {},
   "outputs": [
    {
     "name": "stderr",
     "output_type": "stream",
     "text": [
      "INFO:cmdstanpy:compiling stan file /home/DA/project/stan_files/exp_model1_fit.stan to exe file /home/DA/project/stan_files/exp_model1_fit\n",
      "INFO:cmdstanpy:compiled model executable: /home/DA/project/stan_files/exp_model1_fit\n",
      "INFO:cmdstanpy:CmdStan start processing\n",
      "chain 1 |\u001b[33m          \u001b[0m| 00:00 Status\n",
      "\u001b[A\n",
      "\n",
      "chain 1 |\u001b[33m▍         \u001b[0m| 00:00 Status\n",
      "\u001b[A\n",
      "\n",
      "chain 1 |\u001b[33m▉         \u001b[0m| 00:00 Iteration:    1 / 2000 [  0%]  (Warmup)\n",
      "\n",
      "\u001b[A\u001b[A\n",
      "\u001b[A\n",
      "\n",
      "\u001b[A\u001b[A\n",
      "\u001b[A\n",
      "\n",
      "\u001b[A\u001b[A\n",
      "\u001b[A\n",
      "\n",
      "\u001b[A\u001b[A\n",
      "\u001b[A\n",
      "\n",
      "\u001b[A\u001b[A\n",
      "\u001b[A\n",
      "\n",
      "\u001b[A\u001b[A\n",
      "\n",
      "\u001b[A\u001b[A\n",
      "\u001b[A\n",
      "\u001b[A\n",
      "\n",
      "\u001b[A\u001b[A\n",
      "\n",
      "\u001b[A\u001b[A\n",
      "\u001b[A\n",
      "\n",
      "\u001b[A\u001b[A\n",
      "\u001b[A\n",
      "\n",
      "\u001b[A\u001b[A\n",
      "\u001b[A\n",
      "\n",
      "\u001b[A\u001b[A\n",
      "\u001b[A\n",
      "\n",
      "chain 1 |\u001b[33m█▎        \u001b[0m| 00:02 Iteration:  100 / 2000 [  5%]  (Warmup)\n",
      "chain 1 |\u001b[33m██▎       \u001b[0m| 00:02 Iteration:  300 / 2000 [ 15%]  (Warmup)\n",
      "\n",
      "chain 1 |\u001b[33m██▋       \u001b[0m| 00:02 Iteration:  400 / 2000 [ 20%]  (Warmup)\n",
      "chain 1 |\u001b[33m███▋      \u001b[0m| 00:03 Iteration:  600 / 2000 [ 30%]  (Warmup)\n",
      "\n",
      "chain 1 |\u001b[33m████▌     \u001b[0m| 00:03 Iteration:  800 / 2000 [ 40%]  (Warmup)\n",
      "chain 1 |\u001b[33m█████     \u001b[0m| 00:03 Iteration:  900 / 2000 [ 45%]  (Warmup)\n",
      "\n",
      "\u001b[A\u001b[A\n",
      "chain 1 |\u001b[34m█████▉    \u001b[0m| 00:04 Iteration: 1001 / 2000 [ 50%]  (Sampling)\n",
      "\n",
      "\u001b[A\u001b[A\n",
      "chain 1 |\u001b[34m██████▎   \u001b[0m| 00:04 Iteration: 1100 / 2000 [ 55%]  (Sampling)\n",
      "\n",
      "\u001b[A\u001b[A\n",
      "chain 1 |\u001b[34m██████▊   \u001b[0m| 00:05 Iteration: 1200 / 2000 [ 60%]  (Sampling)\n",
      "\n",
      "\u001b[A\u001b[A\n",
      "chain 1 |\u001b[34m███████▎  \u001b[0m| 00:05 Iteration: 1300 / 2000 [ 65%]  (Sampling)\n",
      "\n",
      "\u001b[A\u001b[A\n",
      "chain 1 |\u001b[34m██████████\u001b[0m| 00:06 Sampling completed                       \n",
      "chain 2 |\u001b[34m██████████\u001b[0m| 00:06 Sampling completed                       \n",
      "chain 3 |\u001b[34m██████████\u001b[0m| 00:06 Sampling completed                       \n",
      "chain 4 |\u001b[34m██████████\u001b[0m| 00:06 Sampling completed                       "
     ]
    },
    {
     "name": "stdout",
     "output_type": "stream",
     "text": [
      "                                                                                                                                                                                                                                                                                                                                "
     ]
    },
    {
     "name": "stderr",
     "output_type": "stream",
     "text": [
      "\n",
      "INFO:cmdstanpy:CmdStan done processing.\n"
     ]
    },
    {
     "name": "stdout",
     "output_type": "stream",
     "text": [
      "\n"
     ]
    },
    {
     "data": {
      "text/html": [
       "<div>\n",
       "<style scoped>\n",
       "    .dataframe tbody tr th:only-of-type {\n",
       "        vertical-align: middle;\n",
       "    }\n",
       "\n",
       "    .dataframe tbody tr th {\n",
       "        vertical-align: top;\n",
       "    }\n",
       "\n",
       "    .dataframe thead th {\n",
       "        text-align: right;\n",
       "    }\n",
       "</style>\n",
       "<table border=\"1\" class=\"dataframe\">\n",
       "  <thead>\n",
       "    <tr style=\"text-align: right;\">\n",
       "      <th></th>\n",
       "      <th>lp__</th>\n",
       "      <th>accept_stat__</th>\n",
       "      <th>stepsize__</th>\n",
       "      <th>treedepth__</th>\n",
       "      <th>n_leapfrog__</th>\n",
       "      <th>divergent__</th>\n",
       "      <th>energy__</th>\n",
       "      <th>alpha</th>\n",
       "      <th>beta</th>\n",
       "      <th>sigma</th>\n",
       "      <th>...</th>\n",
       "      <th>log_lik[769]</th>\n",
       "      <th>log_lik[770]</th>\n",
       "      <th>log_lik[771]</th>\n",
       "      <th>log_lik[772]</th>\n",
       "      <th>log_lik[773]</th>\n",
       "      <th>log_lik[774]</th>\n",
       "      <th>log_lik[775]</th>\n",
       "      <th>log_lik[776]</th>\n",
       "      <th>log_lik[777]</th>\n",
       "      <th>log_lik[778]</th>\n",
       "    </tr>\n",
       "  </thead>\n",
       "  <tbody>\n",
       "    <tr>\n",
       "      <th>0</th>\n",
       "      <td>692.464</td>\n",
       "      <td>0.995169</td>\n",
       "      <td>0.508152</td>\n",
       "      <td>3.0</td>\n",
       "      <td>7.0</td>\n",
       "      <td>0.0</td>\n",
       "      <td>-690.924</td>\n",
       "      <td>0.149932</td>\n",
       "      <td>0.104850</td>\n",
       "      <td>0.133294</td>\n",
       "      <td>...</td>\n",
       "      <td>1.12887</td>\n",
       "      <td>1.48035</td>\n",
       "      <td>1.13240</td>\n",
       "      <td>1.65627</td>\n",
       "      <td>0.889847</td>\n",
       "      <td>1.26490</td>\n",
       "      <td>0.146362</td>\n",
       "      <td>1.38526</td>\n",
       "      <td>1.45391</td>\n",
       "      <td>0.884999</td>\n",
       "    </tr>\n",
       "    <tr>\n",
       "      <th>1</th>\n",
       "      <td>692.602</td>\n",
       "      <td>0.792205</td>\n",
       "      <td>0.508152</td>\n",
       "      <td>2.0</td>\n",
       "      <td>7.0</td>\n",
       "      <td>0.0</td>\n",
       "      <td>-690.797</td>\n",
       "      <td>0.151604</td>\n",
       "      <td>0.100408</td>\n",
       "      <td>0.146773</td>\n",
       "      <td>...</td>\n",
       "      <td>1.12891</td>\n",
       "      <td>1.48533</td>\n",
       "      <td>1.13247</td>\n",
       "      <td>1.66221</td>\n",
       "      <td>0.888445</td>\n",
       "      <td>1.26490</td>\n",
       "      <td>0.143498</td>\n",
       "      <td>1.38862</td>\n",
       "      <td>1.45404</td>\n",
       "      <td>0.883625</td>\n",
       "    </tr>\n",
       "    <tr>\n",
       "      <th>2</th>\n",
       "      <td>690.839</td>\n",
       "      <td>0.643953</td>\n",
       "      <td>0.508152</td>\n",
       "      <td>2.0</td>\n",
       "      <td>3.0</td>\n",
       "      <td>0.0</td>\n",
       "      <td>-690.241</td>\n",
       "      <td>0.159595</td>\n",
       "      <td>0.109254</td>\n",
       "      <td>0.153538</td>\n",
       "      <td>...</td>\n",
       "      <td>1.12729</td>\n",
       "      <td>1.51199</td>\n",
       "      <td>1.13107</td>\n",
       "      <td>1.69850</td>\n",
       "      <td>0.873103</td>\n",
       "      <td>1.26303</td>\n",
       "      <td>0.072236</td>\n",
       "      <td>1.40826</td>\n",
       "      <td>1.46475</td>\n",
       "      <td>0.866488</td>\n",
       "    </tr>\n",
       "    <tr>\n",
       "      <th>3</th>\n",
       "      <td>691.083</td>\n",
       "      <td>0.983516</td>\n",
       "      <td>0.508152</td>\n",
       "      <td>3.0</td>\n",
       "      <td>7.0</td>\n",
       "      <td>0.0</td>\n",
       "      <td>-690.081</td>\n",
       "      <td>0.145114</td>\n",
       "      <td>0.088603</td>\n",
       "      <td>0.143667</td>\n",
       "      <td>...</td>\n",
       "      <td>1.12615</td>\n",
       "      <td>1.45404</td>\n",
       "      <td>1.12946</td>\n",
       "      <td>1.62042</td>\n",
       "      <td>0.900512</td>\n",
       "      <td>1.26163</td>\n",
       "      <td>0.217761</td>\n",
       "      <td>1.36419</td>\n",
       "      <td>1.43652</td>\n",
       "      <td>0.897635</td>\n",
       "    </tr>\n",
       "    <tr>\n",
       "      <th>4</th>\n",
       "      <td>692.512</td>\n",
       "      <td>0.976215</td>\n",
       "      <td>0.508152</td>\n",
       "      <td>2.0</td>\n",
       "      <td>7.0</td>\n",
       "      <td>0.0</td>\n",
       "      <td>-690.673</td>\n",
       "      <td>0.148307</td>\n",
       "      <td>0.116666</td>\n",
       "      <td>0.138012</td>\n",
       "      <td>...</td>\n",
       "      <td>1.12874</td>\n",
       "      <td>1.48937</td>\n",
       "      <td>1.13238</td>\n",
       "      <td>1.66967</td>\n",
       "      <td>0.883629</td>\n",
       "      <td>1.26423</td>\n",
       "      <td>0.106275</td>\n",
       "      <td>1.39279</td>\n",
       "      <td>1.46117</td>\n",
       "      <td>0.877504</td>\n",
       "    </tr>\n",
       "  </tbody>\n",
       "</table>\n",
       "<p>5 rows × 2345 columns</p>\n",
       "</div>"
      ],
      "text/plain": [
       "      lp__  accept_stat__  stepsize__  treedepth__  n_leapfrog__  divergent__  \\\n",
       "0  692.464       0.995169    0.508152          3.0           7.0          0.0   \n",
       "1  692.602       0.792205    0.508152          2.0           7.0          0.0   \n",
       "2  690.839       0.643953    0.508152          2.0           3.0          0.0   \n",
       "3  691.083       0.983516    0.508152          3.0           7.0          0.0   \n",
       "4  692.512       0.976215    0.508152          2.0           7.0          0.0   \n",
       "\n",
       "   energy__     alpha      beta     sigma  ...  log_lik[769]  log_lik[770]  \\\n",
       "0  -690.924  0.149932  0.104850  0.133294  ...       1.12887       1.48035   \n",
       "1  -690.797  0.151604  0.100408  0.146773  ...       1.12891       1.48533   \n",
       "2  -690.241  0.159595  0.109254  0.153538  ...       1.12729       1.51199   \n",
       "3  -690.081  0.145114  0.088603  0.143667  ...       1.12615       1.45404   \n",
       "4  -690.673  0.148307  0.116666  0.138012  ...       1.12874       1.48937   \n",
       "\n",
       "   log_lik[771]  log_lik[772]  log_lik[773]  log_lik[774]  log_lik[775]  \\\n",
       "0       1.13240       1.65627      0.889847       1.26490      0.146362   \n",
       "1       1.13247       1.66221      0.888445       1.26490      0.143498   \n",
       "2       1.13107       1.69850      0.873103       1.26303      0.072236   \n",
       "3       1.12946       1.62042      0.900512       1.26163      0.217761   \n",
       "4       1.13238       1.66967      0.883629       1.26423      0.106275   \n",
       "\n",
       "   log_lik[776]  log_lik[777]  log_lik[778]  \n",
       "0       1.38526       1.45391      0.884999  \n",
       "1       1.38862       1.45404      0.883625  \n",
       "2       1.40826       1.46475      0.866488  \n",
       "3       1.36419       1.43652      0.897635  \n",
       "4       1.39279       1.46117      0.877504  \n",
       "\n",
       "[5 rows x 2345 columns]"
      ]
     },
     "execution_count": 27,
     "metadata": {},
     "output_type": "execute_result"
    }
   ],
   "source": [
    "model_exp_fit = cmdstanpy.CmdStanModel(stan_file='stan_files/exp_model1_fit.stan')\n",
    "N = len(audi_a3_2000ccm_standarized)\n",
    "#Parameters\n",
    "\n",
    "data = {\"N\": N, \n",
    "        \"mileage\" : audi_a3_2000ccm_standarized['Mileage_km'],\n",
    "        \"production_year\" : audi_a3_2000ccm_standarized['Production_year'],\n",
    "        \"price_observed\": audi_a3_2000ccm_standarized['Price']\n",
    "        }\n",
    "\n",
    "sim_exp_pos1_fit=model_exp_fit.sample(data=data)\n",
    "sim_exp_pos1_fit_pd = sim_exp_pos1_fit.draws_pd()\n",
    "sim_exp_pos1_fit_pd.head()"
   ]
  },
  {
   "cell_type": "code",
   "execution_count": 28,
   "metadata": {},
   "outputs": [
    {
     "data": {
      "image/png": "[encoded data removed]",
      "text/plain": [
       "<Figure size 1728x360 with 4 Axes>"
      ]
     },
     "metadata": {
      "needs_background": "light"
     },
     "output_type": "display_data"
    }
   ],
   "source": [
    "_, ax = plt.subplots(1, 4, figsize=(24, 5))\n",
    "ax = ax.flatten()\n",
    "sns.histplot(data=sim_exp_pos1_fit_pd, x=\"alpha\", stat=\"density\", ax=ax[0], bins=BINS)\n",
    "sns.histplot(data=sim_exp_pos1_fit_pd, x=\"beta\", stat=\"density\", ax=ax[1], bins=BINS)\n",
    "sns.histplot(data=sim_exp_pos1_fit_pd, x=\"price_estimated[1]\", stat=\"density\", ax=ax[2], bins=BINS)\n",
    "\n",
    "ax[3].hist(sim_exp_pos1_fit_pd[\"price_estimated[1]\"], bins=BINS, alpha=0.5, density=True, label=\"Posterior\")\n",
    "ax[3].hist(audi_a3_2000ccm_standarized[\"Price\"], bins=BINS, alpha=0.5, density=True, label=\"Model samples\")\n",
    "\n",
    "\n",
    "ax[0].grid()\n",
    "ax[1].grid()\n",
    "ax[2].grid()\n",
    "ax[3].grid()\n",
    "\n",
    "ax[0].set_xlabel(\"alpha\"), \n",
    "ax[1].set_xlabel(\"beta\"), \n",
    "ax[2].set_xlabel(\"Predicted prices\"), \n",
    "ax[3].set_xlabel(\"Predicted prices and model samples comparison\")\n",
    "\n",
    "ax[3].set_ylabel(\"Density\")\n",
    "ax[3].legend()\n",
    "plt.suptitle(\"Histograms\")\n",
    "plt.show()"
   ]
  },
  {
   "cell_type": "markdown",
   "metadata": {},
   "source": [
    "The posterior data analysis, which includes comparing the histogram of the prior distribution with the posterior distribution and real data, indicates a good fit. This comparison demonstrates that the chosen priors align well with the observed data, suggesting that the model captures the underlying patterns and provides reliable estimates."
   ]
  },
  {
   "cell_type": "code",
   "execution_count": 29,
   "metadata": {},
   "outputs": [
    {
     "data": {
      "text/html": [
       "<div>\n",
       "<style scoped>\n",
       "    .dataframe tbody tr th:only-of-type {\n",
       "        vertical-align: middle;\n",
       "    }\n",
       "\n",
       "    .dataframe tbody tr th {\n",
       "        vertical-align: top;\n",
       "    }\n",
       "\n",
       "    .dataframe thead th {\n",
       "        text-align: right;\n",
       "    }\n",
       "</style>\n",
       "<table border=\"1\" class=\"dataframe\">\n",
       "  <thead>\n",
       "    <tr style=\"text-align: right;\">\n",
       "      <th></th>\n",
       "      <th>Mean</th>\n",
       "      <th>MCSE</th>\n",
       "      <th>StdDev</th>\n",
       "      <th>5%</th>\n",
       "      <th>50%</th>\n",
       "      <th>95%</th>\n",
       "      <th>N_Eff</th>\n",
       "      <th>N_Eff/s</th>\n",
       "      <th>R_hat</th>\n",
       "    </tr>\n",
       "    <tr>\n",
       "      <th>name</th>\n",
       "      <th></th>\n",
       "      <th></th>\n",
       "      <th></th>\n",
       "      <th></th>\n",
       "      <th></th>\n",
       "      <th></th>\n",
       "      <th></th>\n",
       "      <th></th>\n",
       "      <th></th>\n",
       "    </tr>\n",
       "  </thead>\n",
       "  <tbody>\n",
       "    <tr>\n",
       "      <th>lp__</th>\n",
       "      <td>690.00</td>\n",
       "      <td>0.03000</td>\n",
       "      <td>1.4000</td>\n",
       "      <td>690.000</td>\n",
       "      <td>690.00</td>\n",
       "      <td>690.00</td>\n",
       "      <td>2100.0</td>\n",
       "      <td>140.0</td>\n",
       "      <td>1.0</td>\n",
       "    </tr>\n",
       "    <tr>\n",
       "      <th>alpha</th>\n",
       "      <td>0.15</td>\n",
       "      <td>0.00018</td>\n",
       "      <td>0.0099</td>\n",
       "      <td>0.140</td>\n",
       "      <td>0.15</td>\n",
       "      <td>0.17</td>\n",
       "      <td>3100.0</td>\n",
       "      <td>210.0</td>\n",
       "      <td>1.0</td>\n",
       "    </tr>\n",
       "    <tr>\n",
       "      <th>beta</th>\n",
       "      <td>0.10</td>\n",
       "      <td>0.00031</td>\n",
       "      <td>0.0170</td>\n",
       "      <td>0.074</td>\n",
       "      <td>0.10</td>\n",
       "      <td>0.13</td>\n",
       "      <td>3000.0</td>\n",
       "      <td>200.0</td>\n",
       "      <td>1.0</td>\n",
       "    </tr>\n",
       "    <tr>\n",
       "      <th>sigma</th>\n",
       "      <td>0.15</td>\n",
       "      <td>0.00033</td>\n",
       "      <td>0.0200</td>\n",
       "      <td>0.120</td>\n",
       "      <td>0.15</td>\n",
       "      <td>0.18</td>\n",
       "      <td>3500.0</td>\n",
       "      <td>240.0</td>\n",
       "      <td>1.0</td>\n",
       "    </tr>\n",
       "    <tr>\n",
       "      <th>lambda</th>\n",
       "      <td>40.00</td>\n",
       "      <td>0.00340</td>\n",
       "      <td>0.2000</td>\n",
       "      <td>40.000</td>\n",
       "      <td>40.00</td>\n",
       "      <td>40.00</td>\n",
       "      <td>3500.0</td>\n",
       "      <td>240.0</td>\n",
       "      <td>1.0</td>\n",
       "    </tr>\n",
       "  </tbody>\n",
       "</table>\n",
       "</div>"
      ],
      "text/plain": [
       "          Mean     MCSE  StdDev       5%     50%     95%   N_Eff  N_Eff/s  \\\n",
       "name                                                                        \n",
       "lp__    690.00  0.03000  1.4000  690.000  690.00  690.00  2100.0    140.0   \n",
       "alpha     0.15  0.00018  0.0099    0.140    0.15    0.17  3100.0    210.0   \n",
       "beta      0.10  0.00031  0.0170    0.074    0.10    0.13  3000.0    200.0   \n",
       "sigma     0.15  0.00033  0.0200    0.120    0.15    0.18  3500.0    240.0   \n",
       "lambda   40.00  0.00340  0.2000   40.000   40.00   40.00  3500.0    240.0   \n",
       "\n",
       "        R_hat  \n",
       "name           \n",
       "lp__      1.0  \n",
       "alpha     1.0  \n",
       "beta      1.0  \n",
       "sigma     1.0  \n",
       "lambda    1.0  "
      ]
     },
     "execution_count": 29,
     "metadata": {},
     "output_type": "execute_result"
    }
   ],
   "source": [
    "summary = sim_exp_pos1_fit.summary()\n",
    "summary.head()"
   ]
  },
  {
   "cell_type": "markdown",
   "metadata": {},
   "source": [
    "## 3.3 Model 2- prior"
   ]
  },
  {
   "cell_type": "markdown",
   "metadata": {},
   "source": [
    "The extension of the first model to include mileage introduces an additional predictor variable, expanding the model's scope. This extension allows for the consideration of mileage as a factor influencing used car prices. By incorporating mileage into the model, it is possible to assess its impact on the relationship between other predictors (such as production year) and used car prices.\n",
    "\n",
    "In the extended model, the inclusion of mileage as a predictor involved adding a normal distribution parameter, \"beta1\". Other parameters stayed the same."
   ]
  },
  {
   "cell_type": "code",
   "execution_count": 30,
   "metadata": {},
   "outputs": [
    {
     "name": "stderr",
     "output_type": "stream",
     "text": [
      "INFO:cmdstanpy:compiling stan file /home/DA/project/stan_files/exp_model2_ppc.stan to exe file /home/DA/project/stan_files/exp_model2_ppc\n",
      "INFO:cmdstanpy:compiled model executable: /home/DA/project/stan_files/exp_model2_ppc\n",
      "INFO:cmdstanpy:CmdStan start processing\n",
      "chain 1 |\u001b[33m          \u001b[0m| 00:00 Status\n",
      "\u001b[A\n",
      "\n",
      "\u001b[A\u001b[A\n",
      "\n",
      "chain 1 |\u001b[34m▍         \u001b[0m| 00:00 Status\n",
      "\u001b[A\n",
      "\n",
      "\u001b[A\u001b[A\n",
      "chain 1 |\u001b[34m█▎        \u001b[0m| 00:00 Iteration: 100 / 1000 [ 10%]  (Sampling)\n",
      "\n",
      "\u001b[A\u001b[A\n",
      "chain 1 |\u001b[34m██▎       \u001b[0m| 00:00 Iteration: 300 / 1000 [ 30%]  (Sampling)\n",
      "\n",
      "\u001b[A\u001b[A\n",
      "chain 1 |\u001b[34m███▏      \u001b[0m| 00:00 Iteration: 500 / 1000 [ 50%]  (Sampling)\n",
      "\n",
      "\u001b[A\u001b[A\n",
      "chain 1 |\u001b[34m████      \u001b[0m| 00:00 Iteration: 700 / 1000 [ 70%]  (Sampling)\n",
      "\u001b[A\n",
      "\n",
      "chain 1 |\u001b[34m██████████\u001b[0m| 00:00 Sampling completed                      \n",
      "chain 2 |\u001b[34m██████████\u001b[0m| 00:00 Sampling completed                      \n",
      "chain 3 |\u001b[34m██████████\u001b[0m| 00:00 Sampling completed                      \n",
      "chain 4 |\u001b[34m██████████\u001b[0m| 00:00 Sampling completed                      "
     ]
    },
    {
     "name": "stdout",
     "output_type": "stream",
     "text": [
      "                                                                                                                                                                                                                                                                                                                                "
     ]
    },
    {
     "name": "stderr",
     "output_type": "stream",
     "text": [
      "\n",
      "INFO:cmdstanpy:CmdStan done processing.\n"
     ]
    },
    {
     "name": "stdout",
     "output_type": "stream",
     "text": [
      "\n"
     ]
    },
    {
     "data": {
      "text/html": [
       "<div>\n",
       "<style scoped>\n",
       "    .dataframe tbody tr th:only-of-type {\n",
       "        vertical-align: middle;\n",
       "    }\n",
       "\n",
       "    .dataframe tbody tr th {\n",
       "        vertical-align: top;\n",
       "    }\n",
       "\n",
       "    .dataframe thead th {\n",
       "        text-align: right;\n",
       "    }\n",
       "</style>\n",
       "<table border=\"1\" class=\"dataframe\">\n",
       "  <thead>\n",
       "    <tr style=\"text-align: right;\">\n",
       "      <th></th>\n",
       "      <th>lp__</th>\n",
       "      <th>accept_stat__</th>\n",
       "      <th>price[1]</th>\n",
       "      <th>price[2]</th>\n",
       "      <th>price[3]</th>\n",
       "      <th>price[4]</th>\n",
       "      <th>price[5]</th>\n",
       "      <th>price[6]</th>\n",
       "      <th>price[7]</th>\n",
       "      <th>price[8]</th>\n",
       "      <th>...</th>\n",
       "      <th>price[774]</th>\n",
       "      <th>price[775]</th>\n",
       "      <th>price[776]</th>\n",
       "      <th>price[777]</th>\n",
       "      <th>price[778]</th>\n",
       "      <th>alpha</th>\n",
       "      <th>beta1</th>\n",
       "      <th>beta2</th>\n",
       "      <th>sigma</th>\n",
       "      <th>lambda</th>\n",
       "    </tr>\n",
       "  </thead>\n",
       "  <tbody>\n",
       "    <tr>\n",
       "      <th>0</th>\n",
       "      <td>0.0</td>\n",
       "      <td>0.0</td>\n",
       "      <td>0.191955</td>\n",
       "      <td>0.381461</td>\n",
       "      <td>0.139544</td>\n",
       "      <td>0.114504</td>\n",
       "      <td>0.038685</td>\n",
       "      <td>0.130348</td>\n",
       "      <td>0.102170</td>\n",
       "      <td>0.169845</td>\n",
       "      <td>...</td>\n",
       "      <td>0.003976</td>\n",
       "      <td>0.147585</td>\n",
       "      <td>0.007609</td>\n",
       "      <td>0.134670</td>\n",
       "      <td>0.043093</td>\n",
       "      <td>0.197707</td>\n",
       "      <td>0.397723</td>\n",
       "      <td>0.336356</td>\n",
       "      <td>0.132193</td>\n",
       "      <td>40.0124</td>\n",
       "    </tr>\n",
       "    <tr>\n",
       "      <th>1</th>\n",
       "      <td>0.0</td>\n",
       "      <td>0.0</td>\n",
       "      <td>0.160646</td>\n",
       "      <td>0.329924</td>\n",
       "      <td>0.133558</td>\n",
       "      <td>0.106174</td>\n",
       "      <td>0.123089</td>\n",
       "      <td>0.284623</td>\n",
       "      <td>0.008743</td>\n",
       "      <td>0.036188</td>\n",
       "      <td>...</td>\n",
       "      <td>0.206796</td>\n",
       "      <td>0.098887</td>\n",
       "      <td>0.063346</td>\n",
       "      <td>0.215654</td>\n",
       "      <td>0.029304</td>\n",
       "      <td>0.155578</td>\n",
       "      <td>0.337800</td>\n",
       "      <td>0.357244</td>\n",
       "      <td>0.124951</td>\n",
       "      <td>40.3343</td>\n",
       "    </tr>\n",
       "    <tr>\n",
       "      <th>2</th>\n",
       "      <td>0.0</td>\n",
       "      <td>0.0</td>\n",
       "      <td>0.033113</td>\n",
       "      <td>0.115929</td>\n",
       "      <td>0.494742</td>\n",
       "      <td>0.014967</td>\n",
       "      <td>0.198760</td>\n",
       "      <td>0.026657</td>\n",
       "      <td>0.390721</td>\n",
       "      <td>0.037631</td>\n",
       "      <td>...</td>\n",
       "      <td>0.320360</td>\n",
       "      <td>0.442588</td>\n",
       "      <td>0.641653</td>\n",
       "      <td>0.483538</td>\n",
       "      <td>0.106727</td>\n",
       "      <td>0.183627</td>\n",
       "      <td>0.390463</td>\n",
       "      <td>0.327905</td>\n",
       "      <td>0.151000</td>\n",
       "      <td>39.7154</td>\n",
       "    </tr>\n",
       "    <tr>\n",
       "      <th>3</th>\n",
       "      <td>0.0</td>\n",
       "      <td>0.0</td>\n",
       "      <td>0.044376</td>\n",
       "      <td>0.045677</td>\n",
       "      <td>0.178827</td>\n",
       "      <td>0.074792</td>\n",
       "      <td>0.085814</td>\n",
       "      <td>0.381912</td>\n",
       "      <td>0.249573</td>\n",
       "      <td>0.078680</td>\n",
       "      <td>...</td>\n",
       "      <td>0.396380</td>\n",
       "      <td>0.029455</td>\n",
       "      <td>0.157756</td>\n",
       "      <td>0.339884</td>\n",
       "      <td>0.298564</td>\n",
       "      <td>0.155037</td>\n",
       "      <td>0.362080</td>\n",
       "      <td>0.356258</td>\n",
       "      <td>0.145441</td>\n",
       "      <td>40.1420</td>\n",
       "    </tr>\n",
       "    <tr>\n",
       "      <th>4</th>\n",
       "      <td>0.0</td>\n",
       "      <td>0.0</td>\n",
       "      <td>0.065762</td>\n",
       "      <td>0.082820</td>\n",
       "      <td>0.276127</td>\n",
       "      <td>0.501971</td>\n",
       "      <td>0.015260</td>\n",
       "      <td>0.029156</td>\n",
       "      <td>0.056822</td>\n",
       "      <td>0.009745</td>\n",
       "      <td>...</td>\n",
       "      <td>0.232063</td>\n",
       "      <td>0.018306</td>\n",
       "      <td>0.066841</td>\n",
       "      <td>0.076361</td>\n",
       "      <td>0.019694</td>\n",
       "      <td>0.169357</td>\n",
       "      <td>0.344133</td>\n",
       "      <td>0.375236</td>\n",
       "      <td>0.166650</td>\n",
       "      <td>40.0501</td>\n",
       "    </tr>\n",
       "  </tbody>\n",
       "</table>\n",
       "<p>5 rows × 785 columns</p>\n",
       "</div>"
      ],
      "text/plain": [
       "   lp__  accept_stat__  price[1]  price[2]  price[3]  price[4]  price[5]  \\\n",
       "0   0.0            0.0  0.191955  0.381461  0.139544  0.114504  0.038685   \n",
       "1   0.0            0.0  0.160646  0.329924  0.133558  0.106174  0.123089   \n",
       "2   0.0            0.0  0.033113  0.115929  0.494742  0.014967  0.198760   \n",
       "3   0.0            0.0  0.044376  0.045677  0.178827  0.074792  0.085814   \n",
       "4   0.0            0.0  0.065762  0.082820  0.276127  0.501971  0.015260   \n",
       "\n",
       "   price[6]  price[7]  price[8]  ...  price[774]  price[775]  price[776]  \\\n",
       "0  0.130348  0.102170  0.169845  ...    0.003976    0.147585    0.007609   \n",
       "1  0.284623  0.008743  0.036188  ...    0.206796    0.098887    0.063346   \n",
       "2  0.026657  0.390721  0.037631  ...    0.320360    0.442588    0.641653   \n",
       "3  0.381912  0.249573  0.078680  ...    0.396380    0.029455    0.157756   \n",
       "4  0.029156  0.056822  0.009745  ...    0.232063    0.018306    0.066841   \n",
       "\n",
       "   price[777]  price[778]     alpha     beta1     beta2     sigma   lambda  \n",
       "0    0.134670    0.043093  0.197707  0.397723  0.336356  0.132193  40.0124  \n",
       "1    0.215654    0.029304  0.155578  0.337800  0.357244  0.124951  40.3343  \n",
       "2    0.483538    0.106727  0.183627  0.390463  0.327905  0.151000  39.7154  \n",
       "3    0.339884    0.298564  0.155037  0.362080  0.356258  0.145441  40.1420  \n",
       "4    0.076361    0.019694  0.169357  0.344133  0.375236  0.166650  40.0501  \n",
       "\n",
       "[5 rows x 785 columns]"
      ]
     },
     "execution_count": 30,
     "metadata": {},
     "output_type": "execute_result"
    }
   ],
   "source": [
    "model_exp2_ppc = cmdstanpy.CmdStanModel(stan_file='stan_files/exp_model2_ppc.stan')\n",
    "\n",
    "#Parameters\n",
    "N = len(audi_a3_2000ccm_standarized)\n",
    "mu_a =0.17\n",
    "sig_a =0.02\n",
    "mu_b1 = 0.36\n",
    "sig_b1 = 0.02\n",
    "mu_b2 = 0.36\n",
    "sig_b2 = 0.02\n",
    "\n",
    "data = {\"N\": N, \n",
    "        \"mileage\" : np.linspace(0.01,1,N),\n",
    "        \"production_year\" : np.linspace(0.01,1,N),\n",
    "        \"mu_a\" : mu_a,\n",
    "        \"sig_a\" : sig_a,\n",
    "        \"mu_b1\" : mu_b1,\n",
    "        \"mu_b2\" : mu_b2,\n",
    "        \"sig_b1\" : sig_b1,\n",
    "        \"sig_b2\" : sig_b2,\n",
    "        }\n",
    "\n",
    "\n",
    "sim_exp_fit2=model_exp2_ppc.sample(data=data)\n",
    "sim_exp_fit2_pd = sim_exp_fit2.draws_pd()\n",
    "sim_exp_fit2_pd.head()"
   ]
  },
  {
   "cell_type": "code",
   "execution_count": 31,
   "metadata": {},
   "outputs": [
    {
     "data": {
      "image/png": "[encoded data removed]",
      "text/plain": [
       "<Figure size 1728x360 with 5 Axes>"
      ]
     },
     "metadata": {
      "needs_background": "light"
     },
     "output_type": "display_data"
    }
   ],
   "source": [
    "_, ax = plt.subplots(1, 5, figsize=(24, 5))\n",
    "ax = ax.flatten()\n",
    "sns.histplot(data=sim_exp_fit2_pd, x=\"alpha\", stat=\"density\", ax=ax[0], bins=BINS)\n",
    "sns.histplot(data=sim_exp_fit2_pd, x=\"beta1\", stat=\"density\", ax=ax[1], bins=BINS)\n",
    "sns.histplot(data=sim_exp_fit2_pd, x=\"beta2\", stat=\"density\", ax=ax[2], bins=BINS)\n",
    "sns.histplot(data=sim_exp_fit2_pd, x=\"price[1]\", stat=\"density\", ax=ax[3], bins=BINS)\n",
    "\n",
    "ax[4].hist(sim_exp_fit2_pd[\"price[1]\"], bins=BINS, alpha=0.5, density=True, label=\"Prior\")\n",
    "ax[4].hist(audi_a3_2000ccm_standarized[\"Price\"], bins=BINS, alpha=0.5, density=True, label=\"Model samples\")\n",
    "\n",
    "\n",
    "ax[0].grid()\n",
    "ax[1].grid()\n",
    "ax[2].grid()\n",
    "ax[3].grid()\n",
    "\n",
    "ax[0].set_xlabel(\"alpha\"), \n",
    "ax[1].set_xlabel(\"beta1\"), \n",
    "ax[2].set_xlabel(\"beta2\"), \n",
    "ax[3].set_xlabel(\"Predicted prices\"), \n",
    "ax[4].set_xlabel(\"Predicted prices vs dataset prices\")\n",
    "\n",
    "ax[4].set_ylabel(\"Density\")\n",
    "ax[4].legend()\n",
    "plt.suptitle(\"Histograms\")\n",
    "plt.show()"
   ]
  },
  {
   "cell_type": "markdown",
   "metadata": {},
   "source": [
    "The comparison between the prior model and real data suggests a satisfactory fit, indicating that the chosen priors accurately capture the underlying patterns and characteristics of the observed data."
   ]
  },
  {
   "cell_type": "markdown",
   "metadata": {},
   "source": [
    "## 3.4 Model 2- posterior"
   ]
  },
  {
   "cell_type": "code",
   "execution_count": 32,
   "metadata": {},
   "outputs": [
    {
     "name": "stderr",
     "output_type": "stream",
     "text": [
      "INFO:cmdstanpy:compiling stan file /home/DA/project/stan_files/exp_model2_fit.stan to exe file /home/DA/project/stan_files/exp_model2_fit\n",
      "INFO:cmdstanpy:compiled model executable: /home/DA/project/stan_files/exp_model2_fit\n",
      "INFO:cmdstanpy:CmdStan start processing\n",
      "chain 1 |\u001b[33m          \u001b[0m| 00:00 Status\n",
      "\u001b[A\n",
      "\n",
      "chain 1 |\u001b[33m█▎        \u001b[0m| 00:00 Iteration:  100 / 2000 [  5%]  (Warmup)\n",
      "\u001b[A\n",
      "\u001b[A\n",
      "\n",
      "\u001b[A\u001b[A\n",
      "\u001b[A\n",
      "\n",
      "\u001b[A\u001b[A\n",
      "\u001b[A\n",
      "\n",
      "\u001b[A\u001b[A\n",
      "\u001b[A\n",
      "\n",
      "\u001b[A\u001b[A\n",
      "\u001b[A\n",
      "\n",
      "\u001b[A\u001b[A\n",
      "\u001b[A\n",
      "\n",
      "\u001b[A\u001b[A\n",
      "\u001b[A\n",
      "\n",
      "\u001b[A\u001b[A\n",
      "\u001b[A\n",
      "\n",
      "\u001b[A\u001b[A\n",
      "\n",
      "\u001b[A\u001b[A\n",
      "\u001b[A\n",
      "\n",
      "\u001b[A\u001b[A\n",
      "\u001b[A\n",
      "\n",
      "\u001b[A\u001b[A\n",
      "\u001b[A\n",
      "\n",
      "\u001b[A\u001b[A\n",
      "\u001b[A\n",
      "\n",
      "\u001b[A\u001b[A\n",
      "\u001b[A\n",
      "\n",
      "\u001b[A\u001b[A\n",
      "\n",
      "\u001b[A\u001b[A\n",
      "\u001b[A\n",
      "\u001b[A\n",
      "\n",
      "\u001b[A\u001b[A\n",
      "\n",
      "\u001b[A\u001b[A\n",
      "\u001b[A\n",
      "\n",
      "\u001b[A\u001b[A\n",
      "\u001b[A\n",
      "\n",
      "\u001b[A\u001b[A\n",
      "chain 1 |\u001b[33m██▎       \u001b[0m| 00:05 Iteration:  300 / 2000 [ 15%]  (Warmup)\n",
      "\n",
      "\u001b[A\u001b[A\n",
      "chain 1 |\u001b[34m██████████\u001b[0m| 00:10 Sampling completed                       \n",
      "chain 2 |\u001b[34m██████████\u001b[0m| 00:10 Sampling completed                       \n",
      "chain 3 |\u001b[34m██████████\u001b[0m| 00:10 Sampling completed                       \n",
      "chain 4 |\u001b[34m██████████\u001b[0m| 00:10 Sampling completed                       "
     ]
    },
    {
     "name": "stdout",
     "output_type": "stream",
     "text": [
      "                                                                                                                                                                                                                                                                                                                                "
     ]
    },
    {
     "name": "stderr",
     "output_type": "stream",
     "text": [
      "\n",
      "INFO:cmdstanpy:CmdStan done processing.\n"
     ]
    },
    {
     "name": "stdout",
     "output_type": "stream",
     "text": [
      "\n"
     ]
    },
    {
     "data": {
      "text/html": [
       "<div>\n",
       "<style scoped>\n",
       "    .dataframe tbody tr th:only-of-type {\n",
       "        vertical-align: middle;\n",
       "    }\n",
       "\n",
       "    .dataframe tbody tr th {\n",
       "        vertical-align: top;\n",
       "    }\n",
       "\n",
       "    .dataframe thead th {\n",
       "        text-align: right;\n",
       "    }\n",
       "</style>\n",
       "<table border=\"1\" class=\"dataframe\">\n",
       "  <thead>\n",
       "    <tr style=\"text-align: right;\">\n",
       "      <th></th>\n",
       "      <th>lp__</th>\n",
       "      <th>accept_stat__</th>\n",
       "      <th>stepsize__</th>\n",
       "      <th>treedepth__</th>\n",
       "      <th>n_leapfrog__</th>\n",
       "      <th>divergent__</th>\n",
       "      <th>energy__</th>\n",
       "      <th>alpha</th>\n",
       "      <th>beta1</th>\n",
       "      <th>beta2</th>\n",
       "      <th>...</th>\n",
       "      <th>log_lik[769]</th>\n",
       "      <th>log_lik[770]</th>\n",
       "      <th>log_lik[771]</th>\n",
       "      <th>log_lik[772]</th>\n",
       "      <th>log_lik[773]</th>\n",
       "      <th>log_lik[774]</th>\n",
       "      <th>log_lik[775]</th>\n",
       "      <th>log_lik[776]</th>\n",
       "      <th>log_lik[777]</th>\n",
       "      <th>log_lik[778]</th>\n",
       "    </tr>\n",
       "  </thead>\n",
       "  <tbody>\n",
       "    <tr>\n",
       "      <th>0</th>\n",
       "      <td>558.268</td>\n",
       "      <td>0.991764</td>\n",
       "      <td>0.398757</td>\n",
       "      <td>3.0</td>\n",
       "      <td>7.0</td>\n",
       "      <td>0.0</td>\n",
       "      <td>-553.932</td>\n",
       "      <td>0.217813</td>\n",
       "      <td>0.156296</td>\n",
       "      <td>0.097847</td>\n",
       "      <td>...</td>\n",
       "      <td>1.12817</td>\n",
       "      <td>1.49560</td>\n",
       "      <td>1.12833</td>\n",
       "      <td>1.58581</td>\n",
       "      <td>0.878486</td>\n",
       "      <td>1.24921</td>\n",
       "      <td>0.147678</td>\n",
       "      <td>1.30377</td>\n",
       "      <td>1.47543</td>\n",
       "      <td>0.871042</td>\n",
       "    </tr>\n",
       "    <tr>\n",
       "      <th>1</th>\n",
       "      <td>558.577</td>\n",
       "      <td>0.986237</td>\n",
       "      <td>0.398757</td>\n",
       "      <td>3.0</td>\n",
       "      <td>15.0</td>\n",
       "      <td>0.0</td>\n",
       "      <td>-556.565</td>\n",
       "      <td>0.210059</td>\n",
       "      <td>0.134993</td>\n",
       "      <td>0.120802</td>\n",
       "      <td>...</td>\n",
       "      <td>1.12433</td>\n",
       "      <td>1.51474</td>\n",
       "      <td>1.13243</td>\n",
       "      <td>1.63329</td>\n",
       "      <td>0.862541</td>\n",
       "      <td>1.23857</td>\n",
       "      <td>0.061606</td>\n",
       "      <td>1.34413</td>\n",
       "      <td>1.47431</td>\n",
       "      <td>0.852473</td>\n",
       "    </tr>\n",
       "    <tr>\n",
       "      <th>2</th>\n",
       "      <td>560.092</td>\n",
       "      <td>0.990274</td>\n",
       "      <td>0.398757</td>\n",
       "      <td>3.0</td>\n",
       "      <td>15.0</td>\n",
       "      <td>0.0</td>\n",
       "      <td>-556.329</td>\n",
       "      <td>0.227846</td>\n",
       "      <td>0.143052</td>\n",
       "      <td>0.085959</td>\n",
       "      <td>...</td>\n",
       "      <td>1.12577</td>\n",
       "      <td>1.52220</td>\n",
       "      <td>1.13182</td>\n",
       "      <td>1.63531</td>\n",
       "      <td>0.865778</td>\n",
       "      <td>1.24764</td>\n",
       "      <td>0.111412</td>\n",
       "      <td>1.34361</td>\n",
       "      <td>1.47539</td>\n",
       "      <td>0.858188</td>\n",
       "    </tr>\n",
       "    <tr>\n",
       "      <th>3</th>\n",
       "      <td>560.113</td>\n",
       "      <td>0.940848</td>\n",
       "      <td>0.398757</td>\n",
       "      <td>3.0</td>\n",
       "      <td>7.0</td>\n",
       "      <td>0.0</td>\n",
       "      <td>-557.540</td>\n",
       "      <td>0.216448</td>\n",
       "      <td>0.135953</td>\n",
       "      <td>0.098864</td>\n",
       "      <td>...</td>\n",
       "      <td>1.12724</td>\n",
       "      <td>1.50716</td>\n",
       "      <td>1.13112</td>\n",
       "      <td>1.61775</td>\n",
       "      <td>0.872966</td>\n",
       "      <td>1.24987</td>\n",
       "      <td>0.121647</td>\n",
       "      <td>1.33312</td>\n",
       "      <td>1.47544</td>\n",
       "      <td>0.865295</td>\n",
       "    </tr>\n",
       "    <tr>\n",
       "      <th>4</th>\n",
       "      <td>561.055</td>\n",
       "      <td>0.935519</td>\n",
       "      <td>0.398757</td>\n",
       "      <td>3.0</td>\n",
       "      <td>7.0</td>\n",
       "      <td>0.0</td>\n",
       "      <td>-557.922</td>\n",
       "      <td>0.210008</td>\n",
       "      <td>0.140887</td>\n",
       "      <td>0.124191</td>\n",
       "      <td>...</td>\n",
       "      <td>1.12420</td>\n",
       "      <td>1.51315</td>\n",
       "      <td>1.13238</td>\n",
       "      <td>1.62775</td>\n",
       "      <td>0.862380</td>\n",
       "      <td>1.23614</td>\n",
       "      <td>0.058876</td>\n",
       "      <td>1.33879</td>\n",
       "      <td>1.47372</td>\n",
       "      <td>0.851951</td>\n",
       "    </tr>\n",
       "  </tbody>\n",
       "</table>\n",
       "<p>5 rows × 2346 columns</p>\n",
       "</div>"
      ],
      "text/plain": [
       "      lp__  accept_stat__  stepsize__  treedepth__  n_leapfrog__  divergent__  \\\n",
       "0  558.268       0.991764    0.398757          3.0           7.0          0.0   \n",
       "1  558.577       0.986237    0.398757          3.0          15.0          0.0   \n",
       "2  560.092       0.990274    0.398757          3.0          15.0          0.0   \n",
       "3  560.113       0.940848    0.398757          3.0           7.0          0.0   \n",
       "4  561.055       0.935519    0.398757          3.0           7.0          0.0   \n",
       "\n",
       "   energy__     alpha     beta1     beta2  ...  log_lik[769]  log_lik[770]  \\\n",
       "0  -553.932  0.217813  0.156296  0.097847  ...       1.12817       1.49560   \n",
       "1  -556.565  0.210059  0.134993  0.120802  ...       1.12433       1.51474   \n",
       "2  -556.329  0.227846  0.143052  0.085959  ...       1.12577       1.52220   \n",
       "3  -557.540  0.216448  0.135953  0.098864  ...       1.12724       1.50716   \n",
       "4  -557.922  0.210008  0.140887  0.124191  ...       1.12420       1.51315   \n",
       "\n",
       "   log_lik[771]  log_lik[772]  log_lik[773]  log_lik[774]  log_lik[775]  \\\n",
       "0       1.12833       1.58581      0.878486       1.24921      0.147678   \n",
       "1       1.13243       1.63329      0.862541       1.23857      0.061606   \n",
       "2       1.13182       1.63531      0.865778       1.24764      0.111412   \n",
       "3       1.13112       1.61775      0.872966       1.24987      0.121647   \n",
       "4       1.13238       1.62775      0.862380       1.23614      0.058876   \n",
       "\n",
       "   log_lik[776]  log_lik[777]  log_lik[778]  \n",
       "0       1.30377       1.47543      0.871042  \n",
       "1       1.34413       1.47431      0.852473  \n",
       "2       1.34361       1.47539      0.858188  \n",
       "3       1.33312       1.47544      0.865295  \n",
       "4       1.33879       1.47372      0.851951  \n",
       "\n",
       "[5 rows x 2346 columns]"
      ]
     },
     "execution_count": 32,
     "metadata": {},
     "output_type": "execute_result"
    }
   ],
   "source": [
    "model_exp2_fit = cmdstanpy.CmdStanModel(stan_file='stan_files/exp_model2_fit.stan')\n",
    "N = len(audi_a3_2000ccm_standarized)\n",
    "#Parameters\n",
    "\n",
    "data = {\"N\": N, \n",
    "        \"mileage\" : audi_a3_2000ccm_standarized['Mileage_km'],\n",
    "        \"production_year\" : audi_a3_2000ccm_standarized['Production_year'],\n",
    "        \"price_observed\": audi_a3_2000ccm_standarized['Price']\n",
    "        }\n",
    "\n",
    "sim_exp_pos2_fit=model_exp2_fit.sample(data=data)\n",
    "sim_exp_pos2_fit_pd = sim_exp_pos2_fit.draws_pd()\n",
    "sim_exp_pos2_fit_pd.head()"
   ]
  },
  {
   "cell_type": "code",
   "execution_count": 33,
   "metadata": {},
   "outputs": [
    {
     "data": {
      "image/png": "[encoded data removed]",
      "text/plain": [
       "<Figure size 1728x360 with 5 Axes>"
      ]
     },
     "metadata": {
      "needs_background": "light"
     },
     "output_type": "display_data"
    }
   ],
   "source": [
    "_, ax = plt.subplots(1, 5, figsize=(24, 5))\n",
    "ax = ax.flatten()\n",
    "sns.histplot(data=sim_exp_pos2_fit_pd, x=\"alpha\", stat=\"density\", ax=ax[0], bins=BINS)\n",
    "sns.histplot(data=sim_exp_pos2_fit_pd, x=\"beta1\", stat=\"density\", ax=ax[1], bins=BINS)\n",
    "sns.histplot(data=sim_exp_pos2_fit_pd, x=\"beta2\", stat=\"density\", ax=ax[2], bins=BINS)\n",
    "sns.histplot(data=sim_exp_pos2_fit_pd, x=\"price_estimated[1]\", stat=\"density\", ax=ax[3], bins=BINS)\n",
    "\n",
    "ax[4].hist(sim_exp_pos2_fit_pd[\"price_estimated[1]\"], bins=BINS, alpha=0.5, density=True, label=\"Posterior\")\n",
    "ax[4].hist(audi_a3_2000ccm_standarized[\"Price\"], bins=BINS, alpha=0.5, density=True, label=\"Model samples\")\n",
    "\n",
    "\n",
    "ax[0].grid()\n",
    "ax[1].grid()\n",
    "ax[2].grid()\n",
    "ax[3].grid()\n",
    "\n",
    "ax[0].set_xlabel(\"alpha\"), \n",
    "ax[1].set_xlabel(\"beta1\"), \n",
    "ax[2].set_xlabel(\"beta2\"), \n",
    "ax[3].set_xlabel(\"Predicted prices\"), \n",
    "ax[4].set_xlabel(\"Predicted prices vs dataset prices\")\n",
    "\n",
    "ax[4].set_ylabel(\"Density\")\n",
    "ax[4].legend()\n",
    "plt.suptitle(\"Histograms\")\n",
    "plt.show()"
   ]
  },
  {
   "cell_type": "markdown",
   "metadata": {},
   "source": [
    "The posterior distribution of the model, after fitting it to the real data, exhibits a good fit, indicating that the model effectively captures the patterns and characteristics present in the observed data."
   ]
  },
  {
   "cell_type": "code",
   "execution_count": 34,
   "metadata": {},
   "outputs": [
    {
     "data": {
      "text/html": [
       "<div>\n",
       "<style scoped>\n",
       "    .dataframe tbody tr th:only-of-type {\n",
       "        vertical-align: middle;\n",
       "    }\n",
       "\n",
       "    .dataframe tbody tr th {\n",
       "        vertical-align: top;\n",
       "    }\n",
       "\n",
       "    .dataframe thead th {\n",
       "        text-align: right;\n",
       "    }\n",
       "</style>\n",
       "<table border=\"1\" class=\"dataframe\">\n",
       "  <thead>\n",
       "    <tr style=\"text-align: right;\">\n",
       "      <th></th>\n",
       "      <th>Mean</th>\n",
       "      <th>MCSE</th>\n",
       "      <th>StdDev</th>\n",
       "      <th>5%</th>\n",
       "      <th>50%</th>\n",
       "      <th>95%</th>\n",
       "      <th>N_Eff</th>\n",
       "      <th>N_Eff/s</th>\n",
       "      <th>R_hat</th>\n",
       "    </tr>\n",
       "    <tr>\n",
       "      <th>name</th>\n",
       "      <th></th>\n",
       "      <th></th>\n",
       "      <th></th>\n",
       "      <th></th>\n",
       "      <th></th>\n",
       "      <th></th>\n",
       "      <th></th>\n",
       "      <th></th>\n",
       "      <th></th>\n",
       "    </tr>\n",
       "  </thead>\n",
       "  <tbody>\n",
       "    <tr>\n",
       "      <th>lp__</th>\n",
       "      <td>560.00</td>\n",
       "      <td>0.03800</td>\n",
       "      <td>1.600</td>\n",
       "      <td>560.000</td>\n",
       "      <td>560.00</td>\n",
       "      <td>560.00</td>\n",
       "      <td>1800.0</td>\n",
       "      <td>120.0</td>\n",
       "      <td>1.0</td>\n",
       "    </tr>\n",
       "    <tr>\n",
       "      <th>alpha</th>\n",
       "      <td>0.21</td>\n",
       "      <td>0.00025</td>\n",
       "      <td>0.012</td>\n",
       "      <td>0.190</td>\n",
       "      <td>0.21</td>\n",
       "      <td>0.23</td>\n",
       "      <td>2200.0</td>\n",
       "      <td>150.0</td>\n",
       "      <td>1.0</td>\n",
       "    </tr>\n",
       "    <tr>\n",
       "      <th>beta1</th>\n",
       "      <td>0.13</td>\n",
       "      <td>0.00034</td>\n",
       "      <td>0.017</td>\n",
       "      <td>0.100</td>\n",
       "      <td>0.13</td>\n",
       "      <td>0.16</td>\n",
       "      <td>2300.0</td>\n",
       "      <td>150.0</td>\n",
       "      <td>1.0</td>\n",
       "    </tr>\n",
       "    <tr>\n",
       "      <th>beta2</th>\n",
       "      <td>0.11</td>\n",
       "      <td>0.00031</td>\n",
       "      <td>0.017</td>\n",
       "      <td>0.079</td>\n",
       "      <td>0.11</td>\n",
       "      <td>0.13</td>\n",
       "      <td>3000.0</td>\n",
       "      <td>190.0</td>\n",
       "      <td>1.0</td>\n",
       "    </tr>\n",
       "    <tr>\n",
       "      <th>sigma</th>\n",
       "      <td>0.15</td>\n",
       "      <td>0.00033</td>\n",
       "      <td>0.020</td>\n",
       "      <td>0.120</td>\n",
       "      <td>0.15</td>\n",
       "      <td>0.18</td>\n",
       "      <td>3500.0</td>\n",
       "      <td>230.0</td>\n",
       "      <td>1.0</td>\n",
       "    </tr>\n",
       "    <tr>\n",
       "      <th>lambda</th>\n",
       "      <td>40.00</td>\n",
       "      <td>0.00280</td>\n",
       "      <td>0.200</td>\n",
       "      <td>40.000</td>\n",
       "      <td>40.00</td>\n",
       "      <td>40.00</td>\n",
       "      <td>4900.0</td>\n",
       "      <td>320.0</td>\n",
       "      <td>1.0</td>\n",
       "    </tr>\n",
       "  </tbody>\n",
       "</table>\n",
       "</div>"
      ],
      "text/plain": [
       "          Mean     MCSE  StdDev       5%     50%     95%   N_Eff  N_Eff/s  \\\n",
       "name                                                                        \n",
       "lp__    560.00  0.03800   1.600  560.000  560.00  560.00  1800.0    120.0   \n",
       "alpha     0.21  0.00025   0.012    0.190    0.21    0.23  2200.0    150.0   \n",
       "beta1     0.13  0.00034   0.017    0.100    0.13    0.16  2300.0    150.0   \n",
       "beta2     0.11  0.00031   0.017    0.079    0.11    0.13  3000.0    190.0   \n",
       "sigma     0.15  0.00033   0.020    0.120    0.15    0.18  3500.0    230.0   \n",
       "lambda   40.00  0.00280   0.200   40.000   40.00   40.00  4900.0    320.0   \n",
       "\n",
       "        R_hat  \n",
       "name           \n",
       "lp__      1.0  \n",
       "alpha     1.0  \n",
       "beta1     1.0  \n",
       "beta2     1.0  \n",
       "sigma     1.0  \n",
       "lambda    1.0  "
      ]
     },
     "execution_count": 34,
     "metadata": {},
     "output_type": "execute_result"
    }
   ],
   "source": [
    "summary = sim_exp_pos2_fit.summary()\n",
    "summary.head(6)"
   ]
  },
  {
   "cell_type": "markdown",
   "metadata": {},
   "source": [
    "# 4. Model comparison"
   ]
  },
  {
   "cell_type": "code",
   "execution_count": 35,
   "metadata": {},
   "outputs": [
    {
     "data": {
      "image/png": "[encoded data removed]",
      "text/plain": [
       "<Figure size 432x144 with 1 Axes>"
      ]
     },
     "metadata": {
      "needs_background": "light"
     },
     "output_type": "display_data"
    }
   ],
   "source": [
    "compare_model_waic = az.compare(\n",
    " {\n",
    " \"fit_1\": az.from_cmdstanpy(sim_exp_pos1_fit),\n",
    " \"fit_2\": az.from_cmdstanpy(sim_exp_pos2_fit)\n",
    " },\n",
    " ic=\"waic\",\n",
    ")\n",
    "\n",
    "ax = az.plot_compare(compare_model_waic)\n",
    "ax.set_title(f\"Comparison of models with waic criterion\")\n",
    "plt.show()\n"
   ]
  },
  {
   "cell_type": "code",
   "execution_count": 36,
   "metadata": {},
   "outputs": [
    {
     "data": {
      "text/html": [
       "<div>\n",
       "<style scoped>\n",
       "    .dataframe tbody tr th:only-of-type {\n",
       "        vertical-align: middle;\n",
       "    }\n",
       "\n",
       "    .dataframe tbody tr th {\n",
       "        vertical-align: top;\n",
       "    }\n",
       "\n",
       "    .dataframe thead th {\n",
       "        text-align: right;\n",
       "    }\n",
       "</style>\n",
       "<table border=\"1\" class=\"dataframe\">\n",
       "  <thead>\n",
       "    <tr style=\"text-align: right;\">\n",
       "      <th></th>\n",
       "      <th>rank</th>\n",
       "      <th>waic</th>\n",
       "      <th>p_waic</th>\n",
       "      <th>d_waic</th>\n",
       "      <th>weight</th>\n",
       "      <th>se</th>\n",
       "      <th>dse</th>\n",
       "      <th>warning</th>\n",
       "      <th>waic_scale</th>\n",
       "    </tr>\n",
       "  </thead>\n",
       "  <tbody>\n",
       "    <tr>\n",
       "      <th>fit_1</th>\n",
       "      <td>0</td>\n",
       "      <td>773.471232</td>\n",
       "      <td>1.651359</td>\n",
       "      <td>0.000000</td>\n",
       "      <td>1.000000e+00</td>\n",
       "      <td>28.535902</td>\n",
       "      <td>0.000000</td>\n",
       "      <td>False</td>\n",
       "      <td>log</td>\n",
       "    </tr>\n",
       "    <tr>\n",
       "      <th>fit_2</th>\n",
       "      <td>1</td>\n",
       "      <td>706.216197</td>\n",
       "      <td>2.543949</td>\n",
       "      <td>67.255035</td>\n",
       "      <td>8.954970e-11</td>\n",
       "      <td>32.926318</td>\n",
       "      <td>5.455465</td>\n",
       "      <td>False</td>\n",
       "      <td>log</td>\n",
       "    </tr>\n",
       "  </tbody>\n",
       "</table>\n",
       "</div>"
      ],
      "text/plain": [
       "       rank        waic    p_waic     d_waic        weight         se  \\\n",
       "fit_1     0  773.471232  1.651359   0.000000  1.000000e+00  28.535902   \n",
       "fit_2     1  706.216197  2.543949  67.255035  8.954970e-11  32.926318   \n",
       "\n",
       "            dse  warning waic_scale  \n",
       "fit_1  0.000000    False        log  \n",
       "fit_2  5.455465    False        log  "
      ]
     },
     "metadata": {},
     "output_type": "display_data"
    }
   ],
   "source": [
    "display(compare_model_waic)"
   ]
  },
  {
   "cell_type": "markdown",
   "metadata": {},
   "source": [
    "The results of the WAIC (Watanabe-Akaike information criterion) comparison are as follows:\n",
    "\n",
    "- rank: The ranking of the models based on their WAIC values. In this case, fit_1 is ranked at 0, indicating that fit_1 is preffered model\n",
    "- waic: The WAIC value for each model. The WAIC is a measure of the out-of-sample predictive accuracy of the model. In this case, fit_1 has a higher WAIC value of 773.187452, while fit_2 has a lower WAIC value of 705.928822.\n",
    "- p_waic: The estimated effective number of parameters based on the WAIC, used to compare the complexity of the models.\n",
    "- d_waic: The difference in WAIC values between the models. In this case, fit_2 has a higher WAIC value by 67.25863 compared to fit_1.\n",
    "- weight: The weight of each model in the model comparison, representing the probability of each model being the best model among the compared models. In this case, fit_1 has a weight of 1.0, indicating it is the preferred model over fit_2, which has a weight of 0.0.\n",
    "- se: The standard error of the WAIC estimate, providing a measure of uncertainty associated with the WAIC value.\n",
    "- dse: The standard error of the difference in WAIC values, providing a measure of uncertainty associated with the difference in WAIC values between the models.\n",
    "- warning: Indicates whether there are any warnings associated with the model comparison. In this case, there is no warning.\n",
    "waic_scale: The scale of the WAIC values. In this case, the values are on a log scale.\n",
    "\n",
    "Based on these results, fit_2 is ranked higher with a lower WAIC value, indicating better model performance. Although the weight for fit_1 is 1.0, suggesting it is the preferred model, this contradicts the lower WAIC value of fit_2. Additionaly the rank suggest to choose fit_1. Therefore, the results of fit_1 and fit_2 overlap and further analysis is needed"
   ]
  },
  {
   "cell_type": "code",
   "execution_count": 37,
   "metadata": {},
   "outputs": [
    {
     "data": {
      "image/png": "[encoded data removed]",
      "text/plain": [
       "<Figure size 432x144 with 1 Axes>"
      ]
     },
     "metadata": {
      "needs_background": "light"
     },
     "output_type": "display_data"
    }
   ],
   "source": [
    "compare_model_loo = az.compare(\n",
    " {\n",
    " \"fit_1\": az.from_cmdstanpy(sim_exp_pos1_fit),\n",
    " \"fit_2\": az.from_cmdstanpy(sim_exp_pos2_fit)\n",
    " },\n",
    " ic=\"loo\",\n",
    ")\n",
    "\n",
    "ax = az.plot_compare(compare_model_loo)\n",
    "ax.set_title(f\"Comparison of models with loo criterion\")\n",
    "plt.show()"
   ]
  },
  {
   "cell_type": "code",
   "execution_count": 38,
   "metadata": {},
   "outputs": [
    {
     "data": {
      "text/html": [
       "<div>\n",
       "<style scoped>\n",
       "    .dataframe tbody tr th:only-of-type {\n",
       "        vertical-align: middle;\n",
       "    }\n",
       "\n",
       "    .dataframe tbody tr th {\n",
       "        vertical-align: top;\n",
       "    }\n",
       "\n",
       "    .dataframe thead th {\n",
       "        text-align: right;\n",
       "    }\n",
       "</style>\n",
       "<table border=\"1\" class=\"dataframe\">\n",
       "  <thead>\n",
       "    <tr style=\"text-align: right;\">\n",
       "      <th></th>\n",
       "      <th>rank</th>\n",
       "      <th>loo</th>\n",
       "      <th>p_loo</th>\n",
       "      <th>d_loo</th>\n",
       "      <th>weight</th>\n",
       "      <th>se</th>\n",
       "      <th>dse</th>\n",
       "      <th>warning</th>\n",
       "      <th>loo_scale</th>\n",
       "    </tr>\n",
       "  </thead>\n",
       "  <tbody>\n",
       "    <tr>\n",
       "      <th>fit_1</th>\n",
       "      <td>0</td>\n",
       "      <td>773.472448</td>\n",
       "      <td>1.650144</td>\n",
       "      <td>0.000000</td>\n",
       "      <td>1.000000e+00</td>\n",
       "      <td>28.535567</td>\n",
       "      <td>0.000000</td>\n",
       "      <td>False</td>\n",
       "      <td>log</td>\n",
       "    </tr>\n",
       "    <tr>\n",
       "      <th>fit_2</th>\n",
       "      <td>1</td>\n",
       "      <td>706.214781</td>\n",
       "      <td>2.545365</td>\n",
       "      <td>67.257666</td>\n",
       "      <td>3.261391e-12</td>\n",
       "      <td>32.926727</td>\n",
       "      <td>5.456355</td>\n",
       "      <td>False</td>\n",
       "      <td>log</td>\n",
       "    </tr>\n",
       "  </tbody>\n",
       "</table>\n",
       "</div>"
      ],
      "text/plain": [
       "       rank         loo     p_loo      d_loo        weight         se  \\\n",
       "fit_1     0  773.472448  1.650144   0.000000  1.000000e+00  28.535567   \n",
       "fit_2     1  706.214781  2.545365  67.257666  3.261391e-12  32.926727   \n",
       "\n",
       "            dse  warning loo_scale  \n",
       "fit_1  0.000000    False       log  \n",
       "fit_2  5.456355    False       log  "
      ]
     },
     "metadata": {},
     "output_type": "display_data"
    }
   ],
   "source": [
    "display(compare_model_loo)"
   ]
  },
  {
   "cell_type": "markdown",
   "metadata": {},
   "source": [
    "The results of the LOO analysis comparison are as follows:\n",
    "\n",
    "- rank: The ranking of the models based on their LOO values. In this case, fit_1 is ranked at 0, indicating that fit_1 is preffered.\n",
    "- loo: The LOO value for each model. The LOO is a measure of the out-of-sample predictive accuracy of the model. In this case, fit_1 has a higher LOO value of 773.186874, while fit_2 has a lower LOO value of 705.931121.\n",
    "- p_loo: The estimated effective number of parameters based on the LOO, used to compare the complexity of the models.\n",
    "- d_loo: The difference in LOO values between the models. In this case, fit_2 has a higher LOO value by 67.255753 compared to fit_1.\n",
    "- weight: The weight of each model in the model comparison, representing the probability of each model being the best model among the compared models. In this case, fit_1 has a weight of 1.0, indicating it is the preferred model over fit_2, which has a weight of 0.0.\n",
    "- se: The standard error of the LOO estimate, providing a measure of uncertainty associated with the LOO value.\n",
    "- dse: The standard error of the difference in LOO values, providing a measure of uncertainty associated with the difference in LOO values between the models.\n",
    "- warning: Indicates whether there are any warnings associated with the model comparison. In this case, there is no warning.\n",
    "- loo_scale: The scale of the LOO values. In this case, the values are on a log scale.\n",
    "\n",
    "Based on these results, fit_2 is ranked higher with a lower WAIC value, indicating better model performance. Although the weight for fit_1 is 1.0, suggesting it is the preferred model, this contradicts the lower LOO value of fit_2. Additionaly the rank suggest to choose fit_1. Therefore, the results of fit_1 and fit_2 overlap and further analysis is needed"
   ]
  }
 ],
 "metadata": {
  "kernelspec": {
   "display_name": "Python 3",
   "language": "python",
   "name": "python3"
  },
  "language_info": {
   "codemirror_mode": {
    "name": "ipython",
    "version": 3
   },
   "file_extension": ".py",
   "mimetype": "text/x-python",
   "name": "python",
   "nbconvert_exporter": "python",
   "pygments_lexer": "ipython3",
   "version": "3.9.11"
  },
  "orig_nbformat": 4
 },
 "nbformat": 4,
 "nbformat_minor": 2
}
