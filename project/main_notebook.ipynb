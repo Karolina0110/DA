{
 "cells": [
  {
   "cell_type": "markdown",
   "metadata": {},
   "source": [
    "# 1. Problem formulation:"
   ]
  },
  {
   "cell_type": "markdown",
   "metadata": {},
   "source": [
    "Opis problemu"
   ]
  },
  {
   "cell_type": "code",
   "execution_count": 13,
   "metadata": {},
   "outputs": [],
   "source": [
    "import pandas as pd\n",
    "import numpy as np\n",
    "import matplotlib.pyplot as plt\n",
    "import arviz as az\n",
    "import seaborn as sns\n",
    "import cmdstanpy\n",
    "\n",
    "BINS = 20"
   ]
  },
  {
   "cell_type": "code",
   "execution_count": 14,
   "metadata": {},
   "outputs": [
    {
     "data": {
      "text/html": [
       "<div>\n",
       "<style scoped>\n",
       "    .dataframe tbody tr th:only-of-type {\n",
       "        vertical-align: middle;\n",
       "    }\n",
       "\n",
       "    .dataframe tbody tr th {\n",
       "        vertical-align: top;\n",
       "    }\n",
       "\n",
       "    .dataframe thead th {\n",
       "        text-align: right;\n",
       "    }\n",
       "</style>\n",
       "<table border=\"1\" class=\"dataframe\">\n",
       "  <thead>\n",
       "    <tr style=\"text-align: right;\">\n",
       "      <th></th>\n",
       "      <th>Price</th>\n",
       "      <th>Production_year</th>\n",
       "      <th>Mileage_km</th>\n",
       "    </tr>\n",
       "  </thead>\n",
       "  <tbody>\n",
       "    <tr>\n",
       "      <th>0</th>\n",
       "      <td>0.190769</td>\n",
       "      <td>0.739130</td>\n",
       "      <td>0.472726</td>\n",
       "    </tr>\n",
       "    <tr>\n",
       "      <th>1</th>\n",
       "      <td>0.037814</td>\n",
       "      <td>0.434783</td>\n",
       "      <td>0.515908</td>\n",
       "    </tr>\n",
       "    <tr>\n",
       "      <th>2</th>\n",
       "      <td>0.071804</td>\n",
       "      <td>0.434783</td>\n",
       "      <td>0.713306</td>\n",
       "    </tr>\n",
       "    <tr>\n",
       "      <th>3</th>\n",
       "      <td>0.063306</td>\n",
       "      <td>0.391304</td>\n",
       "      <td>0.549999</td>\n",
       "    </tr>\n",
       "    <tr>\n",
       "      <th>4</th>\n",
       "      <td>0.076053</td>\n",
       "      <td>0.347826</td>\n",
       "      <td>0.545454</td>\n",
       "    </tr>\n",
       "  </tbody>\n",
       "</table>\n",
       "</div>"
      ],
      "text/plain": [
       "      Price  Production_year  Mileage_km\n",
       "0  0.190769         0.739130    0.472726\n",
       "1  0.037814         0.434783    0.515908\n",
       "2  0.071804         0.434783    0.713306\n",
       "3  0.063306         0.391304    0.549999\n",
       "4  0.076053         0.347826    0.545454"
      ]
     },
     "execution_count": 14,
     "metadata": {},
     "output_type": "execute_result"
    }
   ],
   "source": [
    "audi_a3_2000ccm_standarized = pd.read_csv(\"data/audi_data_standarized.csv\")\n",
    "audi_a3_2000ccm_standarized.head()"
   ]
  },
  {
   "cell_type": "markdown",
   "metadata": {},
   "source": [
    "# 2. Model"
   ]
  },
  {
   "cell_type": "markdown",
   "metadata": {},
   "source": [
    "Opis modeli"
   ]
  },
  {
   "cell_type": "markdown",
   "metadata": {},
   "source": [
    "## 2.1 Model 1- prior"
   ]
  },
  {
   "cell_type": "code",
   "execution_count": 15,
   "metadata": {},
   "outputs": [
    {
     "name": "stderr",
     "output_type": "stream",
     "text": [
      "22:43:21 - cmdstanpy - INFO - compiling stan file /home/car_prices_pr/DA/project/stan_files/exp_model_ppc.stan to exe file /home/car_prices_pr/DA/project/stan_files/exp_model_ppc\n",
      "22:43:36 - cmdstanpy - INFO - compiled model executable: /home/car_prices_pr/DA/project/stan_files/exp_model_ppc\n",
      "22:43:36 - cmdstanpy - INFO - CmdStan start processing\n",
      "chain 1 |\u001b[33m          \u001b[0m| 00:00 Status\n",
      "\u001b[A\n",
      "\n",
      "chain 1 |\u001b[34m█▎        \u001b[0m| 00:00 Iteration: 100 / 1000 [ 10%]  (Sampling)\n",
      "\n",
      "\u001b[A\u001b[A\n",
      "chain 1 |\u001b[34m███▏      \u001b[0m| 00:00 Iteration: 500 / 1000 [ 50%]  (Sampling)\n",
      "\n",
      "\u001b[A\u001b[A\n",
      "chain 1 |\u001b[34m████▌     \u001b[0m| 00:00 Iteration: 800 / 1000 [ 80%]  (Sampling)\n",
      "\u001b[A\n",
      "\n",
      "chain 1 |\u001b[34m██████████\u001b[0m| 00:00 Sampling completed                      \n",
      "chain 2 |\u001b[34m██████████\u001b[0m| 00:00 Sampling completed                      \n",
      "chain 3 |\u001b[34m██████████\u001b[0m| 00:00 Sampling completed                      \n",
      "chain 4 |\u001b[34m██████████\u001b[0m| 00:00 Sampling completed                      "
     ]
    },
    {
     "name": "stdout",
     "output_type": "stream",
     "text": [
      "                                                                                                                                                                                                                                                                                                                                "
     ]
    },
    {
     "name": "stderr",
     "output_type": "stream",
     "text": [
      "\n",
      "22:43:36 - cmdstanpy - INFO - CmdStan done processing.\n"
     ]
    },
    {
     "name": "stdout",
     "output_type": "stream",
     "text": [
      "\n"
     ]
    },
    {
     "data": {
      "text/html": [
       "<div>\n",
       "<style scoped>\n",
       "    .dataframe tbody tr th:only-of-type {\n",
       "        vertical-align: middle;\n",
       "    }\n",
       "\n",
       "    .dataframe tbody tr th {\n",
       "        vertical-align: top;\n",
       "    }\n",
       "\n",
       "    .dataframe thead th {\n",
       "        text-align: right;\n",
       "    }\n",
       "</style>\n",
       "<table border=\"1\" class=\"dataframe\">\n",
       "  <thead>\n",
       "    <tr style=\"text-align: right;\">\n",
       "      <th></th>\n",
       "      <th>lp__</th>\n",
       "      <th>accept_stat__</th>\n",
       "      <th>price[1]</th>\n",
       "      <th>price[2]</th>\n",
       "      <th>price[3]</th>\n",
       "      <th>price[4]</th>\n",
       "      <th>price[5]</th>\n",
       "      <th>price[6]</th>\n",
       "      <th>price[7]</th>\n",
       "      <th>price[8]</th>\n",
       "      <th>...</th>\n",
       "      <th>price[528]</th>\n",
       "      <th>price[529]</th>\n",
       "      <th>price[530]</th>\n",
       "      <th>price[531]</th>\n",
       "      <th>price[532]</th>\n",
       "      <th>alpha</th>\n",
       "      <th>beta1</th>\n",
       "      <th>beta2</th>\n",
       "      <th>sigma</th>\n",
       "      <th>lambda</th>\n",
       "    </tr>\n",
       "  </thead>\n",
       "  <tbody>\n",
       "    <tr>\n",
       "      <th>0</th>\n",
       "      <td>0.0</td>\n",
       "      <td>0.0</td>\n",
       "      <td>0.672987</td>\n",
       "      <td>0.014312</td>\n",
       "      <td>0.144146</td>\n",
       "      <td>0.061797</td>\n",
       "      <td>0.178154</td>\n",
       "      <td>0.043699</td>\n",
       "      <td>0.135767</td>\n",
       "      <td>0.085978</td>\n",
       "      <td>...</td>\n",
       "      <td>0.390938</td>\n",
       "      <td>0.038875</td>\n",
       "      <td>0.288366</td>\n",
       "      <td>0.207170</td>\n",
       "      <td>0.163210</td>\n",
       "      <td>0.143181</td>\n",
       "      <td>0.369591</td>\n",
       "      <td>0.325662</td>\n",
       "      <td>0.141174</td>\n",
       "      <td>0.024795</td>\n",
       "    </tr>\n",
       "    <tr>\n",
       "      <th>1</th>\n",
       "      <td>0.0</td>\n",
       "      <td>0.0</td>\n",
       "      <td>0.138093</td>\n",
       "      <td>0.039336</td>\n",
       "      <td>0.006280</td>\n",
       "      <td>0.048027</td>\n",
       "      <td>0.020090</td>\n",
       "      <td>0.013387</td>\n",
       "      <td>0.011450</td>\n",
       "      <td>0.097782</td>\n",
       "      <td>...</td>\n",
       "      <td>0.123396</td>\n",
       "      <td>0.089485</td>\n",
       "      <td>0.077193</td>\n",
       "      <td>0.164385</td>\n",
       "      <td>0.052052</td>\n",
       "      <td>0.228264</td>\n",
       "      <td>0.360919</td>\n",
       "      <td>0.350844</td>\n",
       "      <td>0.151328</td>\n",
       "      <td>0.024994</td>\n",
       "    </tr>\n",
       "    <tr>\n",
       "      <th>2</th>\n",
       "      <td>0.0</td>\n",
       "      <td>0.0</td>\n",
       "      <td>0.029711</td>\n",
       "      <td>0.008726</td>\n",
       "      <td>0.187460</td>\n",
       "      <td>0.099932</td>\n",
       "      <td>0.040109</td>\n",
       "      <td>0.384369</td>\n",
       "      <td>0.621440</td>\n",
       "      <td>0.040153</td>\n",
       "      <td>...</td>\n",
       "      <td>0.289216</td>\n",
       "      <td>0.101878</td>\n",
       "      <td>0.009944</td>\n",
       "      <td>0.572060</td>\n",
       "      <td>0.390120</td>\n",
       "      <td>0.166703</td>\n",
       "      <td>0.370541</td>\n",
       "      <td>0.371464</td>\n",
       "      <td>0.156121</td>\n",
       "      <td>0.024915</td>\n",
       "    </tr>\n",
       "    <tr>\n",
       "      <th>3</th>\n",
       "      <td>0.0</td>\n",
       "      <td>0.0</td>\n",
       "      <td>0.187741</td>\n",
       "      <td>0.422481</td>\n",
       "      <td>0.039719</td>\n",
       "      <td>0.194844</td>\n",
       "      <td>0.134059</td>\n",
       "      <td>0.063878</td>\n",
       "      <td>0.082119</td>\n",
       "      <td>0.415049</td>\n",
       "      <td>...</td>\n",
       "      <td>0.083182</td>\n",
       "      <td>0.158516</td>\n",
       "      <td>0.089108</td>\n",
       "      <td>0.063350</td>\n",
       "      <td>0.116270</td>\n",
       "      <td>0.152025</td>\n",
       "      <td>0.318681</td>\n",
       "      <td>0.356433</td>\n",
       "      <td>0.157690</td>\n",
       "      <td>0.025172</td>\n",
       "    </tr>\n",
       "    <tr>\n",
       "      <th>4</th>\n",
       "      <td>0.0</td>\n",
       "      <td>0.0</td>\n",
       "      <td>0.010556</td>\n",
       "      <td>0.027445</td>\n",
       "      <td>0.021717</td>\n",
       "      <td>0.273065</td>\n",
       "      <td>0.012817</td>\n",
       "      <td>0.126859</td>\n",
       "      <td>0.037701</td>\n",
       "      <td>0.443367</td>\n",
       "      <td>...</td>\n",
       "      <td>0.012782</td>\n",
       "      <td>0.235359</td>\n",
       "      <td>0.018223</td>\n",
       "      <td>0.088182</td>\n",
       "      <td>0.112688</td>\n",
       "      <td>0.147245</td>\n",
       "      <td>0.383127</td>\n",
       "      <td>0.400459</td>\n",
       "      <td>0.135547</td>\n",
       "      <td>0.025100</td>\n",
       "    </tr>\n",
       "  </tbody>\n",
       "</table>\n",
       "<p>5 rows × 539 columns</p>\n",
       "</div>"
      ],
      "text/plain": [
       "   lp__  accept_stat__  price[1]  price[2]  price[3]  price[4]  price[5]  \\\n",
       "0   0.0            0.0  0.672987  0.014312  0.144146  0.061797  0.178154   \n",
       "1   0.0            0.0  0.138093  0.039336  0.006280  0.048027  0.020090   \n",
       "2   0.0            0.0  0.029711  0.008726  0.187460  0.099932  0.040109   \n",
       "3   0.0            0.0  0.187741  0.422481  0.039719  0.194844  0.134059   \n",
       "4   0.0            0.0  0.010556  0.027445  0.021717  0.273065  0.012817   \n",
       "\n",
       "   price[6]  price[7]  price[8]  ...  price[528]  price[529]  price[530]  \\\n",
       "0  0.043699  0.135767  0.085978  ...    0.390938    0.038875    0.288366   \n",
       "1  0.013387  0.011450  0.097782  ...    0.123396    0.089485    0.077193   \n",
       "2  0.384369  0.621440  0.040153  ...    0.289216    0.101878    0.009944   \n",
       "3  0.063878  0.082119  0.415049  ...    0.083182    0.158516    0.089108   \n",
       "4  0.126859  0.037701  0.443367  ...    0.012782    0.235359    0.018223   \n",
       "\n",
       "   price[531]  price[532]     alpha     beta1     beta2     sigma    lambda  \n",
       "0    0.207170    0.163210  0.143181  0.369591  0.325662  0.141174  0.024795  \n",
       "1    0.164385    0.052052  0.228264  0.360919  0.350844  0.151328  0.024994  \n",
       "2    0.572060    0.390120  0.166703  0.370541  0.371464  0.156121  0.024915  \n",
       "3    0.063350    0.116270  0.152025  0.318681  0.356433  0.157690  0.025172  \n",
       "4    0.088182    0.112688  0.147245  0.383127  0.400459  0.135547  0.025100  \n",
       "\n",
       "[5 rows x 539 columns]"
      ]
     },
     "execution_count": 15,
     "metadata": {},
     "output_type": "execute_result"
    }
   ],
   "source": [
    "model_exp_ppc = cmdstanpy.CmdStanModel(stan_file='stan_files/exp_model_ppc.stan')\n",
    "\n",
    "#Parameters\n",
    "N = 532\n",
    "mu_a =0.17\n",
    "sig_a =0.02\n",
    "mu_b1 = 0.36\n",
    "sig_b1 = 0.02\n",
    "mu_b2 = 0.36\n",
    "sig_b2 = 0.02\n",
    "\n",
    "data = {\"N\": N, \n",
    "        \"mileage\" : np.linspace(0.01,1,N),\n",
    "        \"production_year\" : np.linspace(0.01,1,N),\n",
    "        \"mu_a\" : mu_a,\n",
    "        \"sig_a\" : sig_a,\n",
    "        \"mu_b1\" : mu_b1,\n",
    "        \"mu_b2\" : mu_b2,\n",
    "        \"sig_b1\" : sig_b1,\n",
    "        \"sig_b2\" : sig_b2,\n",
    "        }\n",
    "\n",
    "\n",
    "sim_exp_fit=model_exp_ppc.sample(data=data)\n",
    "sim_exp_fit_pd = sim_exp_fit.draws_pd()\n",
    "sim_exp_fit_pd.head()"
   ]
  },
  {
   "cell_type": "code",
   "execution_count": 16,
   "metadata": {},
   "outputs": [
    {
     "data": {
      "image/png": "[encoded data removed]",
      "text/plain": [
       "<Figure size 1728x360 with 5 Axes>"
      ]
     },
     "metadata": {
      "needs_background": "light"
     },
     "output_type": "display_data"
    }
   ],
   "source": [
    "_, ax = plt.subplots(1, 5, figsize=(24, 5))\n",
    "ax = ax.flatten()\n",
    "sns.histplot(data=sim_exp_fit_pd, x=\"alpha\", stat=\"density\", ax=ax[0], bins=BINS)\n",
    "sns.histplot(data=sim_exp_fit_pd, x=\"beta1\", stat=\"density\", ax=ax[1], bins=BINS)\n",
    "sns.histplot(data=sim_exp_fit_pd, x=\"beta2\", stat=\"density\", ax=ax[2], bins=BINS)\n",
    "sns.histplot(data=sim_exp_fit_pd, x=\"price[1]\", stat=\"density\", ax=ax[3], bins=BINS)\n",
    "\n",
    "ax[4].hist(sim_exp_fit_pd[\"price[1]\"], bins=BINS, alpha=0.5, density=True, label=\"Prior\")\n",
    "ax[4].hist(audi_a3_2000ccm_standarized[\"Price\"], bins=BINS, alpha=0.5, density=True, label=\"Model samples\")\n",
    "\n",
    "\n",
    "ax[0].grid()\n",
    "ax[1].grid()\n",
    "ax[2].grid()\n",
    "ax[3].grid()\n",
    "\n",
    "ax[0].set_xlabel(\"alpha\"), \n",
    "ax[1].set_xlabel(\"beta1\"), \n",
    "ax[2].set_xlabel(\"beta2\"), \n",
    "ax[3].set_xlabel(\"Predicted prices\"), \n",
    "ax[4].set_xlabel(\"Predicted prices vs dataset prices\")\n",
    "\n",
    "ax[4].set_ylabel(\"Density\")\n",
    "ax[4].legend()\n",
    "plt.suptitle(\"Histograms\")\n",
    "plt.show()"
   ]
  },
  {
   "cell_type": "markdown",
   "metadata": {},
   "source": [
    "## 2.2 Model 1- posterior"
   ]
  },
  {
   "cell_type": "code",
   "execution_count": 18,
   "metadata": {},
   "outputs": [
    {
     "name": "stderr",
     "output_type": "stream",
     "text": [
      "22:45:58 - cmdstanpy - INFO - CmdStan start processing\n",
      "chain 1 |\u001b[33m          \u001b[0m| 00:00 Status\n",
      "\u001b[A\n",
      "\n",
      "chain 1 |\u001b[34m██████████\u001b[0m| 00:00 Sampling completed\n",
      "chain 2 |\u001b[34m██████████\u001b[0m| 00:00 Sampling completed\n",
      "chain 3 |\u001b[34m██████████\u001b[0m| 00:00 Sampling completed\n",
      "chain 4 |\u001b[34m██████████\u001b[0m| 00:00 Sampling completed"
     ]
    },
    {
     "name": "stdout",
     "output_type": "stream",
     "text": [
      "                                                                                                                                                                                                                                                                                                                                "
     ]
    },
    {
     "name": "stderr",
     "output_type": "stream",
     "text": [
      "\n",
      "22:45:58 - cmdstanpy - INFO - CmdStan done processing.\n"
     ]
    },
    {
     "name": "stdout",
     "output_type": "stream",
     "text": [
      "\n"
     ]
    },
    {
     "data": {
      "text/html": [
       "<div>\n",
       "<style scoped>\n",
       "    .dataframe tbody tr th:only-of-type {\n",
       "        vertical-align: middle;\n",
       "    }\n",
       "\n",
       "    .dataframe tbody tr th {\n",
       "        vertical-align: top;\n",
       "    }\n",
       "\n",
       "    .dataframe thead th {\n",
       "        text-align: right;\n",
       "    }\n",
       "</style>\n",
       "<table border=\"1\" class=\"dataframe\">\n",
       "  <thead>\n",
       "    <tr style=\"text-align: right;\">\n",
       "      <th></th>\n",
       "      <th>lp__</th>\n",
       "      <th>accept_stat__</th>\n",
       "    </tr>\n",
       "  </thead>\n",
       "  <tbody>\n",
       "    <tr>\n",
       "      <th>0</th>\n",
       "      <td>0.0</td>\n",
       "      <td>0.0</td>\n",
       "    </tr>\n",
       "    <tr>\n",
       "      <th>1</th>\n",
       "      <td>0.0</td>\n",
       "      <td>0.0</td>\n",
       "    </tr>\n",
       "    <tr>\n",
       "      <th>2</th>\n",
       "      <td>0.0</td>\n",
       "      <td>0.0</td>\n",
       "    </tr>\n",
       "    <tr>\n",
       "      <th>3</th>\n",
       "      <td>0.0</td>\n",
       "      <td>0.0</td>\n",
       "    </tr>\n",
       "    <tr>\n",
       "      <th>4</th>\n",
       "      <td>0.0</td>\n",
       "      <td>0.0</td>\n",
       "    </tr>\n",
       "  </tbody>\n",
       "</table>\n",
       "</div>"
      ],
      "text/plain": [
       "   lp__  accept_stat__\n",
       "0   0.0            0.0\n",
       "1   0.0            0.0\n",
       "2   0.0            0.0\n",
       "3   0.0            0.0\n",
       "4   0.0            0.0"
      ]
     },
     "execution_count": 18,
     "metadata": {},
     "output_type": "execute_result"
    }
   ],
   "source": [
    "model_exp_fit = cmdstanpy.CmdStanModel(stan_file='stan_files/exp_model_fit.stan')\n",
    "\n",
    "#Parameters\n",
    "\n",
    "data = {\"N\": N, \n",
    "        \"mileage\" : np.linspace(0.01,1,N),\n",
    "        \"production_year\" : np.linspace(0.01,1,N),\n",
    "        \"mu_a\" : mu_a,\n",
    "        \"sig_a\" : sig_a,\n",
    "        \"mu_b1\" : mu_b1,\n",
    "        \"mu_b2\" : mu_b2,\n",
    "        \"sig_b1\" : sig_b1,\n",
    "        \"sig_b2\" : sig_b2,\n",
    "        }\n",
    "\n",
    "sim_exp_fit=model_exp_fit.sample(data=data)\n",
    "sim_exp_fit_pd = sim_exp_fit.draws_pd()\n",
    "sim_exp_fit_pd.head()"
   ]
  },
  {
   "cell_type": "code",
   "execution_count": null,
   "metadata": {},
   "outputs": [],
   "source": [
    "_, ax = plt.subplots(1, 5, figsize=(24, 5))\n",
    "ax = ax.flatten()\n",
    "sns.histplot(data=sim_exp_fit_pd, x=\"alpha\", stat=\"density\", ax=ax[0], bins=BINS)\n",
    "sns.histplot(data=sim_exp_fit_pd, x=\"beta1\", stat=\"density\", ax=ax[1], bins=BINS)\n",
    "sns.histplot(data=sim_exp_fit_pd, x=\"beta2\", stat=\"density\", ax=ax[2], bins=BINS)\n",
    "sns.histplot(data=sim_exp_fit_pd, x=\"price[1]\", stat=\"density\", ax=ax[3], bins=BINS)\n",
    "\n",
    "ax[4].hist(sim_exp_fit_pd[\"price[1]\"], bins=BINS, alpha=0.5, density=True, label=\"Prior\")\n",
    "ax[4].hist(audi_a3_2000ccm_standarized[\"Price\"], bins=BINS, alpha=0.5, density=True, label=\"Model samples\")\n",
    "\n",
    "\n",
    "ax[0].grid()\n",
    "ax[1].grid()\n",
    "ax[2].grid()\n",
    "ax[3].grid()\n",
    "\n",
    "ax[0].set_xlabel(\"alpha\"), \n",
    "ax[1].set_xlabel(\"beta1\"), \n",
    "ax[2].set_xlabel(\"beta2\"), \n",
    "ax[3].set_xlabel(\"Predicted prices\"), \n",
    "ax[4].set_xlabel(\"Predicted prices vs dataset prices\")\n",
    "\n",
    "ax[4].set_ylabel(\"Density\")\n",
    "ax[4].legend()\n",
    "plt.suptitle(\"Histograms\")\n",
    "plt.show()"
   ]
  },
  {
   "cell_type": "markdown",
   "metadata": {},
   "source": [
    "## 2.3 Model 2- prior"
   ]
  },
  {
   "cell_type": "code",
   "execution_count": null,
   "metadata": {},
   "outputs": [],
   "source": []
  },
  {
   "cell_type": "markdown",
   "metadata": {},
   "source": [
    "## 2.4 Model 2- posterior"
   ]
  },
  {
   "cell_type": "code",
   "execution_count": null,
   "metadata": {},
   "outputs": [],
   "source": []
  },
  {
   "cell_type": "markdown",
   "metadata": {},
   "source": [
    "# 3. Model comparison"
   ]
  }
 ],
 "metadata": {
  "kernelspec": {
   "display_name": "Python 3",
   "language": "python",
   "name": "python3"
  },
  "language_info": {
   "codemirror_mode": {
    "name": "ipython",
    "version": 3
   },
   "file_extension": ".py",
   "mimetype": "text/x-python",
   "name": "python",
   "nbconvert_exporter": "python",
   "pygments_lexer": "ipython3",
   "version": "3.9.11"
  },
  "orig_nbformat": 4
 },
 "nbformat": 4,
 "nbformat_minor": 2
}
