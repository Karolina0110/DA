{
 "cells": [
  {
   "cell_type": "markdown",
   "metadata": {},
   "source": [
    "# 1. Problem formulation:"
   ]
  },
  {
   "cell_type": "markdown",
   "metadata": {},
   "source": [
    "The problem we focused on is predicting the car price based on its charakteristics. The dataset contains a large number of cars both new and used that were listed for sale in the otomoto.pl portal. We focused on one specific vehicle type - Audi A3 with the engine size of 2000cm^3. \n",
    "\n",
    "We chose this problem, because we are interested in purchasing a car in near futer and the analysis of the data can help us rate if the car price of specific parameters is reasonable or not. Another use case is to apply this model to vehicles with different brands and characteristic and check how common the model is/ \n",
    "\n",
    "The chosen dataset is called \"Poland cars for sale dataset (200k adverts)\" and can be found under this link https://www.kaggle.com/datasets/bartoszpieniak/poland-cars-for-sale-dataset. This dataset was created by webscraping over 200,000 car offers from one of the largest car advertisement sites in Poland (otomoto). It contains 25 parameters listed below:\n",
    "\n",
    "ID - unique ID of offer <br>\n",
    "Price - value of the price <br>\n",
    "Currency - currency of the price (mostly polish złoty, but also some euro)<br>\n",
    "Condition - new or used<br>\n",
    "Vehicle_brand - brand of vehicle in offer<br>\n",
    "Vehicle_model - model of vehicle in offer<br>\n",
    "Vehicle_generation - generation of vehicle in offer<br>\n",
    "Vehicle_version - version of vehicle in offer<br>\n",
    "Production_year - year of car production<br>\n",
    "Mileage_km - total distance that the car has driven in kilometers<br>\n",
    "Power_HP - car engine power in horsepower<br>\n",
    "Displacement_cm3 - car engine size in cubic centimeters<br>\n",
    "Fuel_type - car fuel type<br>\n",
    "CO2_emissions - car CO2 emissions in g/km<br>\n",
    "Drive - type of car drive<br>\n",
    "Transmission - type of car transmission<br>\n",
    "Type - car body style<br>\n",
    "Doors_number - number of car doors<br>\n",
    "Colour - car body color<br>\n",
    "Origin_country - country of origin of the car<br>\n",
    "First_owner - whether the owner is the first owner<br>\n",
    "First_registration_date - date of first registration<br>\n",
    "Offer_publication_date - date of publication of the offer<br>\n",
    "Offer_location - address provided by the issuer<br>\n",
    "Features - listed car features (ABS, airbag, parking sensors e.t.c)<br>"
   ]
  },
  {
   "cell_type": "markdown",
   "metadata": {},
   "source": [
    "**DAG Diagram**"
   ]
  },
  {
   "cell_type": "markdown",
   "metadata": {},
   "source": [
    "Based on the data, we created a DAG diagram to describe what parameters affect the price and each other. We divided the data in categories, so it is easier to read it. \n",
    "\n",
    "\n",
    "<img src=\"/home/DA/project/DAG_cars.png\" alt=\"Alternative text\" />"
   ]
  },
  {
   "cell_type": "markdown",
   "metadata": {},
   "source": [
    "# 2. Data preprocessing"
   ]
  },
  {
   "cell_type": "markdown",
   "metadata": {},
   "source": [
    "Imports:"
   ]
  },
  {
   "cell_type": "code",
   "execution_count": 47,
   "metadata": {},
   "outputs": [],
   "source": [
    "import pandas as pd\n",
    "import numpy as np\n",
    "import matplotlib.pyplot as plt\n",
    "import arviz as az\n",
    "import seaborn as sns\n",
    "import cmdstanpy\n",
    "import pandas as pd\n",
    "import numpy as np\n",
    "from scipy import stats\n",
    "from scipy.optimize import curve_fit\n",
    "import matplotlib.pyplot as plt\n",
    "import seaborn as sns\n",
    "import os\n",
    "from sklearn.preprocessing import MinMaxScaler\n",
    "from fitter import Fitter, get_common_distributions, get_distributions\n",
    "\n",
    "\n",
    "BINS = 20"
   ]
  },
  {
   "cell_type": "markdown",
   "metadata": {},
   "source": [
    "Functions"
   ]
  },
  {
   "cell_type": "code",
   "execution_count": 48,
   "metadata": {},
   "outputs": [],
   "source": [
    "def price_plot(df, column_name, plot_trend = False):\n",
    "    price = df[\"Price\"]\n",
    "    data = df[column_name]\n",
    "    plt.figure()\n",
    "    plt.plot(data,price, 'o')\n",
    "    plt.xlabel(column_name)\n",
    "    plt.ylabel(\"Price_PLN\")\n",
    "    if plot_trend:\n",
    "        z = np.polyfit(data, price, 1)\n",
    "        p = np.poly1d(z)\n",
    "        print(f\"Polyfit equation: {p}\")\n",
    "        plt.plot(data, p(data))\n",
    "        plt.axvline(data.mean(), color=\"red\")\n",
    "        plt.axhline(price.mean(), color=\"red\")\n",
    "    plt.show()"
   ]
  },
  {
   "cell_type": "markdown",
   "metadata": {},
   "source": [
    "Loading the data:"
   ]
  },
  {
   "cell_type": "code",
   "execution_count": 49,
   "metadata": {},
   "outputs": [
    {
     "data": {
      "text/html": [
       "<div>\n",
       "<style scoped>\n",
       "    .dataframe tbody tr th:only-of-type {\n",
       "        vertical-align: middle;\n",
       "    }\n",
       "\n",
       "    .dataframe tbody tr th {\n",
       "        vertical-align: top;\n",
       "    }\n",
       "\n",
       "    .dataframe thead th {\n",
       "        text-align: right;\n",
       "    }\n",
       "</style>\n",
       "<table border=\"1\" class=\"dataframe\">\n",
       "  <thead>\n",
       "    <tr style=\"text-align: right;\">\n",
       "      <th></th>\n",
       "      <th>Index</th>\n",
       "      <th>Price</th>\n",
       "      <th>Currency</th>\n",
       "      <th>Condition</th>\n",
       "      <th>Vehicle_brand</th>\n",
       "      <th>Vehicle_model</th>\n",
       "      <th>Vehicle_version</th>\n",
       "      <th>Vehicle_generation</th>\n",
       "      <th>Production_year</th>\n",
       "      <th>Mileage_km</th>\n",
       "      <th>...</th>\n",
       "      <th>Transmission</th>\n",
       "      <th>Type</th>\n",
       "      <th>Doors_number</th>\n",
       "      <th>Colour</th>\n",
       "      <th>Origin_country</th>\n",
       "      <th>First_owner</th>\n",
       "      <th>First_registration_date</th>\n",
       "      <th>Offer_publication_date</th>\n",
       "      <th>Offer_location</th>\n",
       "      <th>Features</th>\n",
       "    </tr>\n",
       "  </thead>\n",
       "  <tbody>\n",
       "    <tr>\n",
       "      <th>0</th>\n",
       "      <td>0</td>\n",
       "      <td>86200</td>\n",
       "      <td>PLN</td>\n",
       "      <td>New</td>\n",
       "      <td>Abarth</td>\n",
       "      <td>595</td>\n",
       "      <td>NaN</td>\n",
       "      <td>NaN</td>\n",
       "      <td>2021</td>\n",
       "      <td>1.0</td>\n",
       "      <td>...</td>\n",
       "      <td>Manual</td>\n",
       "      <td>small_cars</td>\n",
       "      <td>3.0</td>\n",
       "      <td>gray</td>\n",
       "      <td>NaN</td>\n",
       "      <td>NaN</td>\n",
       "      <td>NaN</td>\n",
       "      <td>04/05/2021</td>\n",
       "      <td>ul. Jubilerska 6 - 04-190 Warszawa, Mazowiecki...</td>\n",
       "      <td>[]</td>\n",
       "    </tr>\n",
       "    <tr>\n",
       "      <th>1</th>\n",
       "      <td>1</td>\n",
       "      <td>43500</td>\n",
       "      <td>PLN</td>\n",
       "      <td>Used</td>\n",
       "      <td>Abarth</td>\n",
       "      <td>Other</td>\n",
       "      <td>NaN</td>\n",
       "      <td>NaN</td>\n",
       "      <td>1974</td>\n",
       "      <td>59000.0</td>\n",
       "      <td>...</td>\n",
       "      <td>Manual</td>\n",
       "      <td>coupe</td>\n",
       "      <td>2.0</td>\n",
       "      <td>silver</td>\n",
       "      <td>NaN</td>\n",
       "      <td>NaN</td>\n",
       "      <td>NaN</td>\n",
       "      <td>03/05/2021</td>\n",
       "      <td>kanonierska12 - 04-425 Warszawa, Rembertów (Po...</td>\n",
       "      <td>[]</td>\n",
       "    </tr>\n",
       "    <tr>\n",
       "      <th>2</th>\n",
       "      <td>2</td>\n",
       "      <td>44900</td>\n",
       "      <td>PLN</td>\n",
       "      <td>Used</td>\n",
       "      <td>Abarth</td>\n",
       "      <td>500</td>\n",
       "      <td>NaN</td>\n",
       "      <td>NaN</td>\n",
       "      <td>2018</td>\n",
       "      <td>52000.0</td>\n",
       "      <td>...</td>\n",
       "      <td>Automatic</td>\n",
       "      <td>small_cars</td>\n",
       "      <td>3.0</td>\n",
       "      <td>silver</td>\n",
       "      <td>NaN</td>\n",
       "      <td>NaN</td>\n",
       "      <td>NaN</td>\n",
       "      <td>03/05/2021</td>\n",
       "      <td>Warszawa, Mazowieckie, Białołęka</td>\n",
       "      <td>['ABS', 'Electric front windows', 'Drivers air...</td>\n",
       "    </tr>\n",
       "    <tr>\n",
       "      <th>3</th>\n",
       "      <td>3</td>\n",
       "      <td>39900</td>\n",
       "      <td>PLN</td>\n",
       "      <td>Used</td>\n",
       "      <td>Abarth</td>\n",
       "      <td>500</td>\n",
       "      <td>NaN</td>\n",
       "      <td>NaN</td>\n",
       "      <td>2012</td>\n",
       "      <td>29000.0</td>\n",
       "      <td>...</td>\n",
       "      <td>Manual</td>\n",
       "      <td>small_cars</td>\n",
       "      <td>3.0</td>\n",
       "      <td>gray</td>\n",
       "      <td>NaN</td>\n",
       "      <td>NaN</td>\n",
       "      <td>NaN</td>\n",
       "      <td>30/04/2021</td>\n",
       "      <td>Jaworzno, Śląskie</td>\n",
       "      <td>['ABS', 'Electric front windows', 'Drivers air...</td>\n",
       "    </tr>\n",
       "    <tr>\n",
       "      <th>4</th>\n",
       "      <td>4</td>\n",
       "      <td>97900</td>\n",
       "      <td>PLN</td>\n",
       "      <td>New</td>\n",
       "      <td>Abarth</td>\n",
       "      <td>595</td>\n",
       "      <td>NaN</td>\n",
       "      <td>NaN</td>\n",
       "      <td>2021</td>\n",
       "      <td>600.0</td>\n",
       "      <td>...</td>\n",
       "      <td>Manual</td>\n",
       "      <td>small_cars</td>\n",
       "      <td>3.0</td>\n",
       "      <td>blue</td>\n",
       "      <td>NaN</td>\n",
       "      <td>NaN</td>\n",
       "      <td>NaN</td>\n",
       "      <td>30/04/2021</td>\n",
       "      <td>ul. Gorzysława 9 - 61-057 Poznań, Nowe Miasto ...</td>\n",
       "      <td>['ABS', 'Electrically adjustable mirrors', 'Pa...</td>\n",
       "    </tr>\n",
       "  </tbody>\n",
       "</table>\n",
       "<p>5 rows × 25 columns</p>\n",
       "</div>"
      ],
      "text/plain": [
       "   Index  Price Currency Condition Vehicle_brand Vehicle_model  \\\n",
       "0      0  86200      PLN       New        Abarth           595   \n",
       "1      1  43500      PLN      Used        Abarth         Other   \n",
       "2      2  44900      PLN      Used        Abarth           500   \n",
       "3      3  39900      PLN      Used        Abarth           500   \n",
       "4      4  97900      PLN       New        Abarth           595   \n",
       "\n",
       "  Vehicle_version Vehicle_generation  Production_year  Mileage_km  ...  \\\n",
       "0             NaN                NaN             2021         1.0  ...   \n",
       "1             NaN                NaN             1974     59000.0  ...   \n",
       "2             NaN                NaN             2018     52000.0  ...   \n",
       "3             NaN                NaN             2012     29000.0  ...   \n",
       "4             NaN                NaN             2021       600.0  ...   \n",
       "\n",
       "   Transmission        Type Doors_number  Colour Origin_country First_owner  \\\n",
       "0        Manual  small_cars          3.0    gray            NaN         NaN   \n",
       "1        Manual       coupe          2.0  silver            NaN         NaN   \n",
       "2     Automatic  small_cars          3.0  silver            NaN         NaN   \n",
       "3        Manual  small_cars          3.0    gray            NaN         NaN   \n",
       "4        Manual  small_cars          3.0    blue            NaN         NaN   \n",
       "\n",
       "  First_registration_date  Offer_publication_date  \\\n",
       "0                     NaN              04/05/2021   \n",
       "1                     NaN              03/05/2021   \n",
       "2                     NaN              03/05/2021   \n",
       "3                     NaN              30/04/2021   \n",
       "4                     NaN              30/04/2021   \n",
       "\n",
       "                                      Offer_location  \\\n",
       "0  ul. Jubilerska 6 - 04-190 Warszawa, Mazowiecki...   \n",
       "1  kanonierska12 - 04-425 Warszawa, Rembertów (Po...   \n",
       "2                   Warszawa, Mazowieckie, Białołęka   \n",
       "3                                  Jaworzno, Śląskie   \n",
       "4  ul. Gorzysława 9 - 61-057 Poznań, Nowe Miasto ...   \n",
       "\n",
       "                                            Features  \n",
       "0                                                 []  \n",
       "1                                                 []  \n",
       "2  ['ABS', 'Electric front windows', 'Drivers air...  \n",
       "3  ['ABS', 'Electric front windows', 'Drivers air...  \n",
       "4  ['ABS', 'Electrically adjustable mirrors', 'Pa...  \n",
       "\n",
       "[5 rows x 25 columns]"
      ]
     },
     "execution_count": 49,
     "metadata": {},
     "output_type": "execute_result"
    }
   ],
   "source": [
    "df = pd.read_csv(\"data/Car_sale_ads.csv\")\n",
    "list(df.columns)\n",
    "df.head()"
   ]
  },
  {
   "cell_type": "markdown",
   "metadata": {},
   "source": [
    "Unification of the price currency and selection of the desired columns"
   ]
  },
  {
   "cell_type": "code",
   "execution_count": 50,
   "metadata": {},
   "outputs": [
    {
     "data": {
      "text/html": [
       "<div>\n",
       "<style scoped>\n",
       "    .dataframe tbody tr th:only-of-type {\n",
       "        vertical-align: middle;\n",
       "    }\n",
       "\n",
       "    .dataframe tbody tr th {\n",
       "        vertical-align: top;\n",
       "    }\n",
       "\n",
       "    .dataframe thead th {\n",
       "        text-align: right;\n",
       "    }\n",
       "</style>\n",
       "<table border=\"1\" class=\"dataframe\">\n",
       "  <thead>\n",
       "    <tr style=\"text-align: right;\">\n",
       "      <th></th>\n",
       "      <th>Price</th>\n",
       "      <th>Vehicle_brand</th>\n",
       "      <th>Vehicle_model</th>\n",
       "      <th>Production_year</th>\n",
       "      <th>Mileage_km</th>\n",
       "      <th>Power_HP</th>\n",
       "      <th>Displacement_cm3</th>\n",
       "    </tr>\n",
       "  </thead>\n",
       "  <tbody>\n",
       "    <tr>\n",
       "      <th>0</th>\n",
       "      <td>86200.0</td>\n",
       "      <td>Abarth</td>\n",
       "      <td>595</td>\n",
       "      <td>2021</td>\n",
       "      <td>1.0</td>\n",
       "      <td>145.0</td>\n",
       "      <td>1400.0</td>\n",
       "    </tr>\n",
       "    <tr>\n",
       "      <th>1</th>\n",
       "      <td>43500.0</td>\n",
       "      <td>Abarth</td>\n",
       "      <td>Other</td>\n",
       "      <td>1974</td>\n",
       "      <td>59000.0</td>\n",
       "      <td>75.0</td>\n",
       "      <td>1100.0</td>\n",
       "    </tr>\n",
       "    <tr>\n",
       "      <th>2</th>\n",
       "      <td>44900.0</td>\n",
       "      <td>Abarth</td>\n",
       "      <td>500</td>\n",
       "      <td>2018</td>\n",
       "      <td>52000.0</td>\n",
       "      <td>180.0</td>\n",
       "      <td>1368.0</td>\n",
       "    </tr>\n",
       "    <tr>\n",
       "      <th>3</th>\n",
       "      <td>39900.0</td>\n",
       "      <td>Abarth</td>\n",
       "      <td>500</td>\n",
       "      <td>2012</td>\n",
       "      <td>29000.0</td>\n",
       "      <td>160.0</td>\n",
       "      <td>1368.0</td>\n",
       "    </tr>\n",
       "    <tr>\n",
       "      <th>4</th>\n",
       "      <td>97900.0</td>\n",
       "      <td>Abarth</td>\n",
       "      <td>595</td>\n",
       "      <td>2021</td>\n",
       "      <td>600.0</td>\n",
       "      <td>165.0</td>\n",
       "      <td>1368.0</td>\n",
       "    </tr>\n",
       "  </tbody>\n",
       "</table>\n",
       "</div>"
      ],
      "text/plain": [
       "     Price Vehicle_brand Vehicle_model  Production_year  Mileage_km  Power_HP  \\\n",
       "0  86200.0        Abarth           595             2021         1.0     145.0   \n",
       "1  43500.0        Abarth         Other             1974     59000.0      75.0   \n",
       "2  44900.0        Abarth           500             2018     52000.0     180.0   \n",
       "3  39900.0        Abarth           500             2012     29000.0     160.0   \n",
       "4  97900.0        Abarth           595             2021       600.0     165.0   \n",
       "\n",
       "   Displacement_cm3  \n",
       "0            1400.0  \n",
       "1            1100.0  \n",
       "2            1368.0  \n",
       "3            1368.0  \n",
       "4            1368.0  "
      ]
     },
     "execution_count": 50,
     "metadata": {},
     "output_type": "execute_result"
    }
   ],
   "source": [
    "price = df[\"Price\"].copy()\n",
    "currency = df[\"Currency\"].copy()\n",
    "\n",
    "for idx, (p, c) in enumerate(zip(price, currency)):\n",
    "    if c == \"EUR\":\n",
    "        price_PLN = p * 4.6\n",
    "        price[idx] = price_PLN\n",
    "        currency[idx] = \"PLN\"\n",
    "\n",
    "\n",
    "df[\"Currency\"] = currency\n",
    "df[\"Price\"] = price\n",
    "\n",
    "cols2add = [\"Price\", \"Vehicle_brand\", \"Vehicle_model\", \"Production_year\", \"Mileage_km\", \"Power_HP\", \"Displacement_cm3\"]\n",
    "test_df = df[cols2add]\n",
    "test_df.head()"
   ]
  },
  {
   "cell_type": "markdown",
   "metadata": {},
   "source": [
    "Due to the extensive size of the dataset and the wide range of car models included, we have made the decision to conduct our analysis solely on a single car model.<br>\n",
    "***Chosen car model:***<br>\n",
    "**Brand:** Audi <br>\n",
    "**Model:** A3<br>"
   ]
  },
  {
   "cell_type": "code",
   "execution_count": 51,
   "metadata": {},
   "outputs": [],
   "source": [
    "audi_cars = test_df[test_df['Vehicle_brand'] == \"Audi\"]\n",
    "audi_a3_cars = audi_cars[audi_cars[\"Vehicle_model\"] == 'A3']"
   ]
  },
  {
   "cell_type": "code",
   "execution_count": 52,
   "metadata": {},
   "outputs": [
    {
     "data": {
      "image/png": "[encoded data removed]",
      "text/plain": [
       "<Figure size 432x288 with 1 Axes>"
      ]
     },
     "metadata": {
      "needs_background": "light"
     },
     "output_type": "display_data"
    }
   ],
   "source": [
    "price_plot(audi_a3_cars,\"Displacement_cm3\")"
   ]
  },
  {
   "cell_type": "code",
   "execution_count": 53,
   "metadata": {},
   "outputs": [
    {
     "data": {
      "image/png": "[encoded data removed]",
      "text/plain": [
       "<Figure size 432x288 with 1 Axes>"
      ]
     },
     "metadata": {
      "needs_background": "light"
     },
     "output_type": "display_data"
    }
   ],
   "source": [
    "price_plot(audi_a3_cars,\"Power_HP\")"
   ]
  },
  {
   "cell_type": "code",
   "execution_count": 54,
   "metadata": {},
   "outputs": [
    {
     "name": "stdout",
     "output_type": "stream",
     "text": [
      "Production_year     0.853472\n",
      "Mileage_km         -0.764658\n",
      "Power_HP            0.354174\n",
      "Displacement_cm3   -0.301169\n",
      "dtype: float64\n"
     ]
    }
   ],
   "source": [
    "correlations = audi_a3_cars.iloc[:, 1:].corrwith(audi_a3_cars['Price'])\n",
    "print(correlations)"
   ]
  },
  {
   "cell_type": "code",
   "execution_count": 55,
   "metadata": {},
   "outputs": [
    {
     "data": {
      "image/png": "[encoded data removed]",
      "text/plain": [
       "<Figure size 432x288 with 2 Axes>"
      ]
     },
     "metadata": {
      "needs_background": "light"
     },
     "output_type": "display_data"
    }
   ],
   "source": [
    "correlation_matrix = audi_a3_cars.corr()\n",
    "mask = np.triu(np.ones_like(correlation_matrix, dtype=bool))\n",
    "sns.heatmap(data=correlation_matrix, mask=mask, annot=True, cmap='RdYlBu')\n",
    "plt.title('Lower Triangular Correlation Matrix')\n",
    "plt.show()"
   ]
  },
  {
   "cell_type": "markdown",
   "metadata": {},
   "source": [
    "Due to small effect of engine power and displacement on the price of a vehicle, it was decided that only cars with a displacement of 2000ccm would be analysed to simplify analizis."
   ]
  },
  {
   "cell_type": "code",
   "execution_count": 56,
   "metadata": {},
   "outputs": [],
   "source": [
    "audi_a3_2010 = audi_a3_cars[audi_a3_cars[\"Production_year\"] == 2010]\n",
    "audi_a3_2000ccm = audi_a3_cars[audi_a3_cars[\"Displacement_cm3\"] >= 1950]\n",
    "audi_a3_2000ccm = audi_a3_2000ccm[audi_a3_2000ccm[\"Displacement_cm3\"] <= 2050]\n",
    "audi_a3_2000ccm = audi_a3_2000ccm.dropna()"
   ]
  },
  {
   "cell_type": "code",
   "execution_count": 57,
   "metadata": {},
   "outputs": [],
   "source": [
    "if \"audi_cars_data.csv\" not in os.listdir(\"data\"):\n",
    "    audi_a3_2000ccm.to_csv('data/audi_cars_data.csv', index=False)"
   ]
  },
  {
   "cell_type": "markdown",
   "metadata": {},
   "source": [
    "### Summary"
   ]
  },
  {
   "cell_type": "code",
   "execution_count": 58,
   "metadata": {},
   "outputs": [
    {
     "data": {
      "text/html": [
       "<div>\n",
       "<style scoped>\n",
       "    .dataframe tbody tr th:only-of-type {\n",
       "        vertical-align: middle;\n",
       "    }\n",
       "\n",
       "    .dataframe tbody tr th {\n",
       "        vertical-align: top;\n",
       "    }\n",
       "\n",
       "    .dataframe thead th {\n",
       "        text-align: right;\n",
       "    }\n",
       "</style>\n",
       "<table border=\"1\" class=\"dataframe\">\n",
       "  <thead>\n",
       "    <tr style=\"text-align: right;\">\n",
       "      <th></th>\n",
       "      <th>Price</th>\n",
       "      <th>Vehicle_brand</th>\n",
       "      <th>Vehicle_model</th>\n",
       "      <th>Production_year</th>\n",
       "      <th>Mileage_km</th>\n",
       "      <th>Power_HP</th>\n",
       "      <th>Displacement_cm3</th>\n",
       "    </tr>\n",
       "  </thead>\n",
       "  <tbody>\n",
       "    <tr>\n",
       "      <th>1929</th>\n",
       "      <td>49900.0</td>\n",
       "      <td>Audi</td>\n",
       "      <td>A3</td>\n",
       "      <td>2015</td>\n",
       "      <td>208000.0</td>\n",
       "      <td>150.0</td>\n",
       "      <td>1968.0</td>\n",
       "    </tr>\n",
       "    <tr>\n",
       "      <th>1932</th>\n",
       "      <td>13900.0</td>\n",
       "      <td>Audi</td>\n",
       "      <td>A3</td>\n",
       "      <td>2008</td>\n",
       "      <td>227000.0</td>\n",
       "      <td>140.0</td>\n",
       "      <td>1968.0</td>\n",
       "    </tr>\n",
       "    <tr>\n",
       "      <th>1933</th>\n",
       "      <td>21900.0</td>\n",
       "      <td>Audi</td>\n",
       "      <td>A3</td>\n",
       "      <td>2008</td>\n",
       "      <td>313855.0</td>\n",
       "      <td>140.0</td>\n",
       "      <td>1968.0</td>\n",
       "    </tr>\n",
       "    <tr>\n",
       "      <th>1934</th>\n",
       "      <td>19900.0</td>\n",
       "      <td>Audi</td>\n",
       "      <td>A3</td>\n",
       "      <td>2007</td>\n",
       "      <td>242000.0</td>\n",
       "      <td>170.0</td>\n",
       "      <td>1968.0</td>\n",
       "    </tr>\n",
       "    <tr>\n",
       "      <th>1936</th>\n",
       "      <td>22900.0</td>\n",
       "      <td>Audi</td>\n",
       "      <td>A3</td>\n",
       "      <td>2006</td>\n",
       "      <td>240000.0</td>\n",
       "      <td>200.0</td>\n",
       "      <td>1984.0</td>\n",
       "    </tr>\n",
       "  </tbody>\n",
       "</table>\n",
       "</div>"
      ],
      "text/plain": [
       "        Price Vehicle_brand Vehicle_model  Production_year  Mileage_km  \\\n",
       "1929  49900.0          Audi            A3             2015    208000.0   \n",
       "1932  13900.0          Audi            A3             2008    227000.0   \n",
       "1933  21900.0          Audi            A3             2008    313855.0   \n",
       "1934  19900.0          Audi            A3             2007    242000.0   \n",
       "1936  22900.0          Audi            A3             2006    240000.0   \n",
       "\n",
       "      Power_HP  Displacement_cm3  \n",
       "1929     150.0            1968.0  \n",
       "1932     140.0            1968.0  \n",
       "1933     140.0            1968.0  \n",
       "1934     170.0            1968.0  \n",
       "1936     200.0            1984.0  "
      ]
     },
     "execution_count": 58,
     "metadata": {},
     "output_type": "execute_result"
    }
   ],
   "source": [
    "audi_a3_2000ccm.head()"
   ]
  },
  {
   "cell_type": "code",
   "execution_count": 59,
   "metadata": {},
   "outputs": [
    {
     "name": "stdout",
     "output_type": "stream",
     "text": [
      "Polyfit equation:  \n",
      "4988 x - 9.99e+06\n"
     ]
    },
    {
     "data": {
      "image/png": "[encoded data removed]",
      "text/plain": [
       "<Figure size 432x288 with 1 Axes>"
      ]
     },
     "metadata": {
      "needs_background": "light"
     },
     "output_type": "display_data"
    }
   ],
   "source": [
    "price_plot(audi_a3_2000ccm, \"Production_year\", True)"
   ]
  },
  {
   "cell_type": "code",
   "execution_count": 60,
   "metadata": {},
   "outputs": [
    {
     "name": "stdout",
     "output_type": "stream",
     "text": [
      "Polyfit equation:  \n",
      "-0.2344 x + 8.109e+04\n"
     ]
    },
    {
     "data": {
      "image/png": "[encoded data removed]",
      "text/plain": [
       "<Figure size 432x288 with 1 Axes>"
      ]
     },
     "metadata": {
      "needs_background": "light"
     },
     "output_type": "display_data"
    }
   ],
   "source": [
    "price_plot(audi_a3_2000ccm, \"Mileage_km\", True)"
   ]
  },
  {
   "cell_type": "code",
   "execution_count": 61,
   "metadata": {},
   "outputs": [
    {
     "name": "stdout",
     "output_type": "stream",
     "text": [
      "Polyfit equation:  \n",
      "487.6 x - 4.072e+04\n"
     ]
    },
    {
     "data": {
      "image/png": "[encoded data removed]",
      "text/plain": [
       "<Figure size 432x288 with 1 Axes>"
      ]
     },
     "metadata": {
      "needs_background": "light"
     },
     "output_type": "display_data"
    }
   ],
   "source": [
    "price_plot(audi_a3_2000ccm, \"Power_HP\", True)"
   ]
  },
  {
   "cell_type": "code",
   "execution_count": 62,
   "metadata": {},
   "outputs": [
    {
     "name": "stdout",
     "output_type": "stream",
     "text": [
      "Mean: 198361.37403598972\n"
     ]
    },
    {
     "data": {
      "image/png": "[encoded data removed]",
      "text/plain": [
       "<Figure size 432x288 with 1 Axes>"
      ]
     },
     "metadata": {
      "needs_background": "light"
     },
     "output_type": "display_data"
    }
   ],
   "source": [
    "mileage_mean = np.mean(audi_a3_2000ccm[\"Mileage_km\"])\n",
    "print(f\"Mean: {mileage_mean}\")\n",
    "plt.figure()\n",
    "plt.hist(audi_a3_2000ccm[\"Mileage_km\"], bins = 25)\n",
    "plt.axvline(mileage_mean, color=\"red\")\n",
    "plt.xlabel(\"Mileage_km\")\n",
    "plt.ylabel(\"Occurrences\")\n",
    "plt.title(\"Histogram of car mileages\")\n",
    "plt.show()"
   ]
  },
  {
   "cell_type": "code",
   "execution_count": 63,
   "metadata": {},
   "outputs": [
    {
     "name": "stdout",
     "output_type": "stream",
     "text": [
      "Mean: 2009.5719794344473\n"
     ]
    },
    {
     "data": {
      "image/png": "[encoded data removed]",
      "text/plain": [
       "<Figure size 432x288 with 1 Axes>"
      ]
     },
     "metadata": {
      "needs_background": "light"
     },
     "output_type": "display_data"
    }
   ],
   "source": [
    "prod_mean = np.mean(audi_a3_2000ccm[\"Production_year\"])\n",
    "print(f\"Mean: {prod_mean}\")\n",
    "plt.figure()\n",
    "plt.hist(audi_a3_2000ccm[\"Production_year\"], bins = 18)\n",
    "plt.axvline(prod_mean, color=\"red\")\n",
    "plt.xlabel(\"Production year\")\n",
    "plt.ylabel(\"Occurrences\")\n",
    "plt.title(\"Histogram of car production years\")\n",
    "plt.show()"
   ]
  },
  {
   "cell_type": "code",
   "execution_count": 64,
   "metadata": {},
   "outputs": [
    {
     "name": "stdout",
     "output_type": "stream",
     "text": [
      "Mean: 34600.235218509\n"
     ]
    },
    {
     "data": {
      "image/png": "[encoded data removed]",
      "text/plain": [
       "<Figure size 432x288 with 1 Axes>"
      ]
     },
     "metadata": {
      "needs_background": "light"
     },
     "output_type": "display_data"
    }
   ],
   "source": [
    "price_mean = np.mean(audi_a3_2000ccm[\"Price\"])\n",
    "print(f\"Mean: {price_mean}\")\n",
    "plt.figure()\n",
    "plt.hist(audi_a3_2000ccm[\"Price\"], bins = 25)\n",
    "plt.axvline(price_mean, color=\"red\")\n",
    "plt.xlabel(\"Price\")\n",
    "plt.ylabel(\"Occurrences\")\n",
    "plt.title(\"Histogram of cars price\")\n",
    "plt.show()"
   ]
  },
  {
   "cell_type": "markdown",
   "metadata": {},
   "source": [
    "## Data standarization ##"
   ]
  },
  {
   "cell_type": "markdown",
   "metadata": {},
   "source": [
    "Due to the diversity of the data (production year (values form 2003 to 2021), mileage (values from 0 to 400000), price (values from 0 to 160000)), we decided to standardise the data using the MinMax scalar. This way we got all the data in the range from 0 to 1, without loosing information about data and making it easier to analyze it."
   ]
  },
  {
   "cell_type": "code",
   "execution_count": 65,
   "metadata": {},
   "outputs": [
    {
     "data": {
      "text/html": [
       "<div>\n",
       "<style scoped>\n",
       "    .dataframe tbody tr th:only-of-type {\n",
       "        vertical-align: middle;\n",
       "    }\n",
       "\n",
       "    .dataframe tbody tr th {\n",
       "        vertical-align: top;\n",
       "    }\n",
       "\n",
       "    .dataframe thead th {\n",
       "        text-align: right;\n",
       "    }\n",
       "</style>\n",
       "<table border=\"1\" class=\"dataframe\">\n",
       "  <thead>\n",
       "    <tr style=\"text-align: right;\">\n",
       "      <th></th>\n",
       "      <th>Price</th>\n",
       "      <th>Production_year</th>\n",
       "      <th>Mileage_km</th>\n",
       "    </tr>\n",
       "  </thead>\n",
       "  <tbody>\n",
       "    <tr>\n",
       "      <th>count</th>\n",
       "      <td>778.000000</td>\n",
       "      <td>778.000000</td>\n",
       "      <td>778.000000</td>\n",
       "    </tr>\n",
       "    <tr>\n",
       "      <th>mean</th>\n",
       "      <td>0.125764</td>\n",
       "      <td>0.503130</td>\n",
       "      <td>0.450820</td>\n",
       "    </tr>\n",
       "    <tr>\n",
       "      <th>std</th>\n",
       "      <td>0.110705</td>\n",
       "      <td>0.190895</td>\n",
       "      <td>0.173469</td>\n",
       "    </tr>\n",
       "    <tr>\n",
       "      <th>min</th>\n",
       "      <td>0.000000</td>\n",
       "      <td>0.000000</td>\n",
       "      <td>0.000000</td>\n",
       "    </tr>\n",
       "    <tr>\n",
       "      <th>25%</th>\n",
       "      <td>0.053109</td>\n",
       "      <td>0.347826</td>\n",
       "      <td>0.363635</td>\n",
       "    </tr>\n",
       "    <tr>\n",
       "      <th>50%</th>\n",
       "      <td>0.093048</td>\n",
       "      <td>0.478261</td>\n",
       "      <td>0.470453</td>\n",
       "    </tr>\n",
       "    <tr>\n",
       "      <th>75%</th>\n",
       "      <td>0.160497</td>\n",
       "      <td>0.652174</td>\n",
       "      <td>0.561363</td>\n",
       "    </tr>\n",
       "    <tr>\n",
       "      <th>max</th>\n",
       "      <td>1.000000</td>\n",
       "      <td>1.000000</td>\n",
       "      <td>1.000000</td>\n",
       "    </tr>\n",
       "  </tbody>\n",
       "</table>\n",
       "</div>"
      ],
      "text/plain": [
       "            Price  Production_year  Mileage_km\n",
       "count  778.000000       778.000000  778.000000\n",
       "mean     0.125764         0.503130    0.450820\n",
       "std      0.110705         0.190895    0.173469\n",
       "min      0.000000         0.000000    0.000000\n",
       "25%      0.053109         0.347826    0.363635\n",
       "50%      0.093048         0.478261    0.470453\n",
       "75%      0.160497         0.652174    0.561363\n",
       "max      1.000000         1.000000    1.000000"
      ]
     },
     "execution_count": 65,
     "metadata": {},
     "output_type": "execute_result"
    }
   ],
   "source": [
    "scaler = MinMaxScaler()\n",
    "audi_a3_2000ccm_standarized_data = scaler.fit_transform(audi_a3_2000ccm.loc[:,[\"Price\", \"Production_year\", \"Mileage_km\"]])\n",
    "audi_a3_2000ccm_standarized = pd.DataFrame(audi_a3_2000ccm_standarized_data,columns=[\"Price\", \"Production_year\", \"Mileage_km\"])\n",
    "audi_a3_2000ccm_standarized.describe()"
   ]
  },
  {
   "cell_type": "code",
   "execution_count": 66,
   "metadata": {},
   "outputs": [
    {
     "name": "stdout",
     "output_type": "stream",
     "text": [
      "Polyfit equation:  \n",
      "0.4875 x - 0.1195\n"
     ]
    },
    {
     "data": {
      "image/png": "[encoded data removed]",
      "text/plain": [
       "<Figure size 432x288 with 1 Axes>"
      ]
     },
     "metadata": {
      "needs_background": "light"
     },
     "output_type": "display_data"
    },
    {
     "name": "stdout",
     "output_type": "stream",
     "text": [
      "Polyfit equation:  \n",
      "-0.4382 x + 0.3233\n"
     ]
    },
    {
     "data": {
      "image/png": "[encoded data removed]",
      "text/plain": [
       "<Figure size 432x288 with 1 Axes>"
      ]
     },
     "metadata": {
      "needs_background": "light"
     },
     "output_type": "display_data"
    }
   ],
   "source": [
    "price_plot(audi_a3_2000ccm_standarized,\"Production_year\",True)\n",
    "price_plot(audi_a3_2000ccm_standarized,\"Mileage_km\",True)"
   ]
  },
  {
   "cell_type": "code",
   "execution_count": 67,
   "metadata": {},
   "outputs": [
    {
     "name": "stdout",
     "output_type": "stream",
     "text": [
      "Mean: 0.45082005649101414\n"
     ]
    },
    {
     "data": {
      "image/png": "[encoded data removed]",
      "text/plain": [
       "<Figure size 432x288 with 1 Axes>"
      ]
     },
     "metadata": {
      "needs_background": "light"
     },
     "output_type": "display_data"
    },
    {
     "name": "stdout",
     "output_type": "stream",
     "text": [
      "Mean: 0.5031295406281482\n"
     ]
    },
    {
     "data": {
      "image/png": "[encoded data removed]",
      "text/plain": [
       "<Figure size 432x288 with 1 Axes>"
      ]
     },
     "metadata": {
      "needs_background": "light"
     },
     "output_type": "display_data"
    },
    {
     "name": "stdout",
     "output_type": "stream",
     "text": [
      "Mean: 0.12576418221431998\n",
      "Var: 0.012239734156792626\n"
     ]
    },
    {
     "data": {
      "image/png": "[encoded data removed]",
      "text/plain": [
       "<Figure size 432x288 with 1 Axes>"
      ]
     },
     "metadata": {
      "needs_background": "light"
     },
     "output_type": "display_data"
    }
   ],
   "source": [
    "mileage_mean = np.mean(audi_a3_2000ccm_standarized[\"Mileage_km\"])\n",
    "print(f\"Mean: {mileage_mean}\")\n",
    "plt.figure()\n",
    "plt.hist(audi_a3_2000ccm_standarized[\"Mileage_km\"], bins = 25)\n",
    "plt.axvline(mileage_mean, color=\"red\")\n",
    "plt.xlabel(\"Mileage_km\")\n",
    "plt.ylabel(\"Occurrences\")\n",
    "plt.title(\"Histogram of car mileages\")\n",
    "plt.show()\n",
    "\n",
    "prod_mean = np.mean(audi_a3_2000ccm_standarized[\"Production_year\"])\n",
    "print(f\"Mean: {prod_mean}\")\n",
    "plt.figure()\n",
    "plt.hist(audi_a3_2000ccm_standarized[\"Production_year\"], bins = 18)\n",
    "plt.axvline(prod_mean, color=\"red\")\n",
    "plt.xlabel(\"Production year\")\n",
    "plt.ylabel(\"Occurrences\")\n",
    "plt.title(\"Histogram of car production years\")\n",
    "plt.show()\n",
    "\n",
    "price_mean = np.mean(audi_a3_2000ccm_standarized[\"Price\"])\n",
    "price_var = np.var(audi_a3_2000ccm_standarized[\"Price\"])\n",
    "print(f\"Mean: {price_mean}\")\n",
    "print(f\"Var: {price_var}\")\n",
    "plt.figure()\n",
    "plt.hist(audi_a3_2000ccm_standarized[\"Price\"], bins = 25)\n",
    "plt.axvline(price_mean, color=\"red\")\n",
    "plt.xlabel(\"Price\")\n",
    "plt.ylabel(\"Occurrences\")\n",
    "plt.title(\"Histogram of cars price\")\n",
    "plt.show()"
   ]
  },
  {
   "cell_type": "code",
   "execution_count": 68,
   "metadata": {},
   "outputs": [],
   "source": [
    "if 'audi_data_standarized.csv' not in os.listdir(\"data\"):\n",
    "    audi_a3_2000ccm_standarized.to_csv('data/audi_data_standarized.csv', index=False)"
   ]
  },
  {
   "cell_type": "code",
   "execution_count": 69,
   "metadata": {},
   "outputs": [
    {
     "data": {
      "text/html": [
       "<div>\n",
       "<style scoped>\n",
       "    .dataframe tbody tr th:only-of-type {\n",
       "        vertical-align: middle;\n",
       "    }\n",
       "\n",
       "    .dataframe tbody tr th {\n",
       "        vertical-align: top;\n",
       "    }\n",
       "\n",
       "    .dataframe thead th {\n",
       "        text-align: right;\n",
       "    }\n",
       "</style>\n",
       "<table border=\"1\" class=\"dataframe\">\n",
       "  <thead>\n",
       "    <tr style=\"text-align: right;\">\n",
       "      <th></th>\n",
       "      <th>Price</th>\n",
       "      <th>Production_year</th>\n",
       "      <th>Mileage_km</th>\n",
       "    </tr>\n",
       "  </thead>\n",
       "  <tbody>\n",
       "    <tr>\n",
       "      <th>0</th>\n",
       "      <td>0.190769</td>\n",
       "      <td>0.739130</td>\n",
       "      <td>0.472726</td>\n",
       "    </tr>\n",
       "    <tr>\n",
       "      <th>1</th>\n",
       "      <td>0.037814</td>\n",
       "      <td>0.434783</td>\n",
       "      <td>0.515908</td>\n",
       "    </tr>\n",
       "    <tr>\n",
       "      <th>2</th>\n",
       "      <td>0.071804</td>\n",
       "      <td>0.434783</td>\n",
       "      <td>0.713306</td>\n",
       "    </tr>\n",
       "    <tr>\n",
       "      <th>3</th>\n",
       "      <td>0.063306</td>\n",
       "      <td>0.391304</td>\n",
       "      <td>0.549999</td>\n",
       "    </tr>\n",
       "    <tr>\n",
       "      <th>4</th>\n",
       "      <td>0.076053</td>\n",
       "      <td>0.347826</td>\n",
       "      <td>0.545454</td>\n",
       "    </tr>\n",
       "  </tbody>\n",
       "</table>\n",
       "</div>"
      ],
      "text/plain": [
       "      Price  Production_year  Mileage_km\n",
       "0  0.190769         0.739130    0.472726\n",
       "1  0.037814         0.434783    0.515908\n",
       "2  0.071804         0.434783    0.713306\n",
       "3  0.063306         0.391304    0.549999\n",
       "4  0.076053         0.347826    0.545454"
      ]
     },
     "execution_count": 69,
     "metadata": {},
     "output_type": "execute_result"
    }
   ],
   "source": [
    "audi_a3_2000ccm_standarized = pd.read_csv(\"data/audi_data_standarized.csv\")\n",
    "audi_a3_2000ccm_standarized.head()"
   ]
  },
  {
   "cell_type": "markdown",
   "metadata": {},
   "source": [
    "# 3. Model"
   ]
  },
  {
   "cell_type": "markdown",
   "metadata": {},
   "source": [
    "For this project we specified two prior models of exponential range distribution. We wanted to check how adding highly corelated parameter to the model will affect price estimation. \n",
    "In the first model we used linear regression model with exponnenital distribution. We estimate price only based on the production year. In the second model we add mileage as well."
   ]
  },
  {
   "cell_type": "markdown",
   "metadata": {},
   "source": [
    "## 3.1 Model 1- prior"
   ]
  },
  {
   "cell_type": "code",
   "execution_count": 70,
   "metadata": {},
   "outputs": [],
   "source": [
    "model_exp1_ppc = cmdstanpy.CmdStanModel(stan_file='stan_files/exp_model1_ppc.stan')"
   ]
  },
  {
   "cell_type": "code",
   "execution_count": 71,
   "metadata": {},
   "outputs": [
    {
     "name": "stderr",
     "output_type": "stream",
     "text": [
      "16:05:35 - cmdstanpy - INFO - CmdStan start processing\n",
      "chain 1 |\u001b[33m          \u001b[0m| 00:00 Status"
     ]
    },
    {
     "name": "stderr",
     "output_type": "stream",
     "text": [
      "\n",
      "\u001b[A\n",
      "\n",
      "\u001b[A\u001b[A\n",
      "\n",
      "chain 1 |\u001b[34m▍         \u001b[0m| 00:00 Status\n",
      "\u001b[A\n",
      "\u001b[A\n",
      "\n",
      "chain 1 |\u001b[34m█▊        \u001b[0m| 00:00 Iteration: 200 / 1000 [ 20%]  (Sampling)\n",
      "\u001b[A\n",
      "\n",
      "chain 1 |\u001b[34m██▋       \u001b[0m| 00:00 Iteration: 400 / 1000 [ 40%]  (Sampling)\n",
      "\u001b[A\n",
      "\n",
      "chain 1 |\u001b[34m███▋      \u001b[0m| 00:00 Iteration: 600 / 1000 [ 60%]  (Sampling)\n",
      "\u001b[A\n",
      "\n",
      "chain 1 |\u001b[34m████▌     \u001b[0m| 00:00 Iteration: 800 / 1000 [ 80%]  (Sampling)\n",
      "chain 1 |\u001b[34m██████████\u001b[0m| 00:00 Sampling completed                      \n",
      "chain 2 |\u001b[34m██████████\u001b[0m| 00:00 Sampling completed                      \n",
      "chain 3 |\u001b[34m██████████\u001b[0m| 00:00 Sampling completed                      \n",
      "chain 4 |\u001b[34m██████████\u001b[0m| 00:00 Sampling completed                      "
     ]
    },
    {
     "name": "stdout",
     "output_type": "stream",
     "text": [
      "                                                                                "
     ]
    },
    {
     "name": "stderr",
     "output_type": "stream",
     "text": [
      "\n"
     ]
    },
    {
     "name": "stdout",
     "output_type": "stream",
     "text": [
      "                                                                                                                                                                                                                                                "
     ]
    },
    {
     "name": "stderr",
     "output_type": "stream",
     "text": [
      "16:05:36 - cmdstanpy - INFO - CmdStan done processing.\n"
     ]
    },
    {
     "name": "stdout",
     "output_type": "stream",
     "text": [
      "\n"
     ]
    },
    {
     "data": {
      "text/html": [
       "<div>\n",
       "<style scoped>\n",
       "    .dataframe tbody tr th:only-of-type {\n",
       "        vertical-align: middle;\n",
       "    }\n",
       "\n",
       "    .dataframe tbody tr th {\n",
       "        vertical-align: top;\n",
       "    }\n",
       "\n",
       "    .dataframe thead th {\n",
       "        text-align: right;\n",
       "    }\n",
       "</style>\n",
       "<table border=\"1\" class=\"dataframe\">\n",
       "  <thead>\n",
       "    <tr style=\"text-align: right;\">\n",
       "      <th></th>\n",
       "      <th>lp__</th>\n",
       "      <th>accept_stat__</th>\n",
       "      <th>price[1]</th>\n",
       "      <th>price[2]</th>\n",
       "      <th>price[3]</th>\n",
       "      <th>price[4]</th>\n",
       "      <th>price[5]</th>\n",
       "      <th>price[6]</th>\n",
       "      <th>price[7]</th>\n",
       "      <th>price[8]</th>\n",
       "      <th>...</th>\n",
       "      <th>price[773]</th>\n",
       "      <th>price[774]</th>\n",
       "      <th>price[775]</th>\n",
       "      <th>price[776]</th>\n",
       "      <th>price[777]</th>\n",
       "      <th>price[778]</th>\n",
       "      <th>alpha</th>\n",
       "      <th>beta</th>\n",
       "      <th>sigma</th>\n",
       "      <th>lambda</th>\n",
       "    </tr>\n",
       "  </thead>\n",
       "  <tbody>\n",
       "    <tr>\n",
       "      <th>0</th>\n",
       "      <td>0.0</td>\n",
       "      <td>0.0</td>\n",
       "      <td>0.189050</td>\n",
       "      <td>0.067975</td>\n",
       "      <td>0.016232</td>\n",
       "      <td>0.284309</td>\n",
       "      <td>0.514610</td>\n",
       "      <td>0.071915</td>\n",
       "      <td>0.189115</td>\n",
       "      <td>0.118947</td>\n",
       "      <td>...</td>\n",
       "      <td>0.053245</td>\n",
       "      <td>0.067783</td>\n",
       "      <td>0.028893</td>\n",
       "      <td>0.027732</td>\n",
       "      <td>0.011870</td>\n",
       "      <td>0.024682</td>\n",
       "      <td>0.143371</td>\n",
       "      <td>0.356313</td>\n",
       "      <td>0.141801</td>\n",
       "      <td>39.9896</td>\n",
       "    </tr>\n",
       "    <tr>\n",
       "      <th>1</th>\n",
       "      <td>0.0</td>\n",
       "      <td>0.0</td>\n",
       "      <td>0.112777</td>\n",
       "      <td>0.041280</td>\n",
       "      <td>0.089557</td>\n",
       "      <td>0.070160</td>\n",
       "      <td>0.035180</td>\n",
       "      <td>0.208445</td>\n",
       "      <td>0.243089</td>\n",
       "      <td>0.190097</td>\n",
       "      <td>...</td>\n",
       "      <td>0.066825</td>\n",
       "      <td>0.007717</td>\n",
       "      <td>0.088896</td>\n",
       "      <td>0.019470</td>\n",
       "      <td>0.011874</td>\n",
       "      <td>0.022282</td>\n",
       "      <td>0.186083</td>\n",
       "      <td>0.340722</td>\n",
       "      <td>0.182071</td>\n",
       "      <td>39.9385</td>\n",
       "    </tr>\n",
       "    <tr>\n",
       "      <th>2</th>\n",
       "      <td>0.0</td>\n",
       "      <td>0.0</td>\n",
       "      <td>0.106373</td>\n",
       "      <td>0.078541</td>\n",
       "      <td>0.099282</td>\n",
       "      <td>0.011526</td>\n",
       "      <td>0.147559</td>\n",
       "      <td>0.026725</td>\n",
       "      <td>0.167083</td>\n",
       "      <td>0.025590</td>\n",
       "      <td>...</td>\n",
       "      <td>0.011830</td>\n",
       "      <td>0.015457</td>\n",
       "      <td>0.041428</td>\n",
       "      <td>0.040007</td>\n",
       "      <td>0.003612</td>\n",
       "      <td>0.023863</td>\n",
       "      <td>0.208361</td>\n",
       "      <td>0.355158</td>\n",
       "      <td>0.134164</td>\n",
       "      <td>40.0133</td>\n",
       "    </tr>\n",
       "    <tr>\n",
       "      <th>3</th>\n",
       "      <td>0.0</td>\n",
       "      <td>0.0</td>\n",
       "      <td>0.070648</td>\n",
       "      <td>0.057806</td>\n",
       "      <td>0.238537</td>\n",
       "      <td>0.252547</td>\n",
       "      <td>0.449770</td>\n",
       "      <td>0.039843</td>\n",
       "      <td>0.028248</td>\n",
       "      <td>0.151474</td>\n",
       "      <td>...</td>\n",
       "      <td>0.008071</td>\n",
       "      <td>0.115362</td>\n",
       "      <td>0.062247</td>\n",
       "      <td>0.032111</td>\n",
       "      <td>0.035458</td>\n",
       "      <td>0.009186</td>\n",
       "      <td>0.150661</td>\n",
       "      <td>0.364589</td>\n",
       "      <td>0.162502</td>\n",
       "      <td>40.1533</td>\n",
       "    </tr>\n",
       "    <tr>\n",
       "      <th>4</th>\n",
       "      <td>0.0</td>\n",
       "      <td>0.0</td>\n",
       "      <td>0.123136</td>\n",
       "      <td>0.435175</td>\n",
       "      <td>0.444392</td>\n",
       "      <td>0.225076</td>\n",
       "      <td>0.561102</td>\n",
       "      <td>0.061190</td>\n",
       "      <td>0.114695</td>\n",
       "      <td>0.168846</td>\n",
       "      <td>...</td>\n",
       "      <td>0.022551</td>\n",
       "      <td>0.022506</td>\n",
       "      <td>0.075144</td>\n",
       "      <td>0.008225</td>\n",
       "      <td>0.145246</td>\n",
       "      <td>0.017665</td>\n",
       "      <td>0.152933</td>\n",
       "      <td>0.359761</td>\n",
       "      <td>0.161398</td>\n",
       "      <td>39.8129</td>\n",
       "    </tr>\n",
       "  </tbody>\n",
       "</table>\n",
       "<p>5 rows × 784 columns</p>\n",
       "</div>"
      ],
      "text/plain": [
       "   lp__  accept_stat__  price[1]  price[2]  price[3]  price[4]  price[5]  \\\n",
       "0   0.0            0.0  0.189050  0.067975  0.016232  0.284309  0.514610   \n",
       "1   0.0            0.0  0.112777  0.041280  0.089557  0.070160  0.035180   \n",
       "2   0.0            0.0  0.106373  0.078541  0.099282  0.011526  0.147559   \n",
       "3   0.0            0.0  0.070648  0.057806  0.238537  0.252547  0.449770   \n",
       "4   0.0            0.0  0.123136  0.435175  0.444392  0.225076  0.561102   \n",
       "\n",
       "   price[6]  price[7]  price[8]  ...  price[773]  price[774]  price[775]  \\\n",
       "0  0.071915  0.189115  0.118947  ...    0.053245    0.067783    0.028893   \n",
       "1  0.208445  0.243089  0.190097  ...    0.066825    0.007717    0.088896   \n",
       "2  0.026725  0.167083  0.025590  ...    0.011830    0.015457    0.041428   \n",
       "3  0.039843  0.028248  0.151474  ...    0.008071    0.115362    0.062247   \n",
       "4  0.061190  0.114695  0.168846  ...    0.022551    0.022506    0.075144   \n",
       "\n",
       "   price[776]  price[777]  price[778]     alpha      beta     sigma   lambda  \n",
       "0    0.027732    0.011870    0.024682  0.143371  0.356313  0.141801  39.9896  \n",
       "1    0.019470    0.011874    0.022282  0.186083  0.340722  0.182071  39.9385  \n",
       "2    0.040007    0.003612    0.023863  0.208361  0.355158  0.134164  40.0133  \n",
       "3    0.032111    0.035458    0.009186  0.150661  0.364589  0.162502  40.1533  \n",
       "4    0.008225    0.145246    0.017665  0.152933  0.359761  0.161398  39.8129  \n",
       "\n",
       "[5 rows x 784 columns]"
      ]
     },
     "execution_count": 71,
     "metadata": {},
     "output_type": "execute_result"
    }
   ],
   "source": [
    "N = len(audi_a3_2000ccm_standarized)\n",
    "\n",
    "data = {\"N\": N, \n",
    "        \"mileage\" : np.linspace(0.01,1,N),\n",
    "        \"production_year\" : np.linspace(0.01,1,N)\n",
    "}\n",
    "sim_exp_fit1=model_exp1_ppc.sample(data=data)\n",
    "sim_exp_fit1_pd = sim_exp_fit1.draws_pd()\n",
    "sim_exp_fit1_pd.head()"
   ]
  },
  {
   "cell_type": "code",
   "execution_count": 72,
   "metadata": {},
   "outputs": [
    {
     "data": {
      "image/png": "[encoded data removed]",
      "text/plain": [
       "<Figure size 1728x360 with 4 Axes>"
      ]
     },
     "metadata": {
      "needs_background": "light"
     },
     "output_type": "display_data"
    }
   ],
   "source": [
    "_, ax = plt.subplots(1, 4, figsize=(24, 5))\n",
    "ax = ax.flatten()\n",
    "sns.histplot(data=sim_exp_fit1_pd, x=\"alpha\", stat=\"density\", ax=ax[0], bins=BINS)\n",
    "sns.histplot(data=sim_exp_fit1_pd, x=\"beta\", stat=\"density\", ax=ax[1], bins=BINS)\n",
    "sns.histplot(data=sim_exp_fit1_pd, x=\"price[1]\", stat=\"density\", ax=ax[2], bins=BINS)\n",
    "\n",
    "ax[3].hist(sim_exp_fit1_pd[\"price[1]\"], bins=BINS, alpha=0.5, density=True, label=\"Prior\")\n",
    "ax[3].hist(audi_a3_2000ccm_standarized[\"Price\"], bins=BINS, alpha=0.5, density=True, label=\"Model samples\")\n",
    "\n",
    "\n",
    "ax[0].grid()\n",
    "ax[1].grid()\n",
    "ax[2].grid()\n",
    "ax[3].grid()\n",
    "\n",
    "ax[0].set_xlabel(\"alpha\"), \n",
    "ax[1].set_xlabel(\"beta1\"), \n",
    "ax[2].set_xlabel(\"Predicted prices\"), \n",
    "ax[3].set_xlabel(\"Predicted prices vs dataset prices\")\n",
    "\n",
    "ax[3].set_ylabel(\"Density\")\n",
    "ax[3].legend()\n",
    "plt.suptitle(\"Histograms\")\n",
    "plt.show()"
   ]
  },
  {
   "cell_type": "markdown",
   "metadata": {},
   "source": [
    "## 3.2 Model 1- posterior"
   ]
  },
  {
   "cell_type": "code",
   "execution_count": 73,
   "metadata": {},
   "outputs": [
    {
     "name": "stderr",
     "output_type": "stream",
     "text": [
      "16:05:39 - cmdstanpy - INFO - CmdStan start processing\n",
      "chain 1 |\u001b[33m          \u001b[0m| 00:00 Status\n",
      "\u001b[A\n",
      "\n",
      "\u001b[A\u001b[A\n",
      "chain 1 |\u001b[33m▉         \u001b[0m| 00:00 Iteration:    1 / 2000 [  0%]  (Warmup)\n",
      "\n",
      "\u001b[A\u001b[A\n",
      "chain 1 |\u001b[33m█▊        \u001b[0m| 00:00 Iteration:  200 / 2000 [ 10%]  (Warmup)\n",
      "\u001b[A\n",
      "\n",
      "chain 1 |\u001b[33m██▋       \u001b[0m| 00:00 Iteration:  400 / 2000 [ 20%]  (Warmup)\n",
      "\u001b[A\n",
      "\n",
      "chain 1 |\u001b[33m███▋      \u001b[0m| 00:00 Iteration:  600 / 2000 [ 30%]  (Warmup)\n",
      "\u001b[A\n",
      "\n",
      "chain 1 |\u001b[33m████▌     \u001b[0m| 00:00 Iteration:  800 / 2000 [ 40%]  (Warmup)\n",
      "\n",
      "\u001b[A\u001b[A\n",
      "chain 1 |\u001b[34m█████▉    \u001b[0m| 00:00 Iteration: 1001 / 2000 [ 50%]  (Sampling)\n",
      "\n",
      "\u001b[A\u001b[A\n",
      "chain 1 |\u001b[34m██████▊   \u001b[0m| 00:01 Iteration: 1200 / 2000 [ 60%]  (Sampling)\n",
      "\n",
      "\u001b[A\u001b[A\n",
      "chain 1 |\u001b[34m███████▋  \u001b[0m| 00:01 Iteration: 1400 / 2000 [ 70%]  (Sampling)\n",
      "\u001b[A\n",
      "\n",
      "chain 1 |\u001b[34m████████▏ \u001b[0m| 00:01 Iteration: 1500 / 2000 [ 75%]  (Sampling)\n",
      "\u001b[A\n",
      "\n",
      "chain 1 |\u001b[34m████████▋ \u001b[0m| 00:02 Iteration: 1600 / 2000 [ 80%]  (Sampling)\n",
      "chain 1 |\u001b[34m█████████ \u001b[0m| 00:02 Iteration: 1700 / 2000 [ 85%]  (Sampling)\n",
      "\n",
      "\u001b[A\u001b[A\n",
      "chain 1 |\u001b[34m█████████▌\u001b[0m| 00:03 Iteration: 1800 / 2000 [ 90%]  (Sampling)\n",
      "\n",
      "\u001b[A\u001b[A\n",
      "chain 1 |\u001b[34m██████████\u001b[0m| 00:03 Iteration: 1900 / 2000 [ 95%]  (Sampling)\n",
      "\n",
      "\u001b[A\u001b[A\n",
      "\n",
      "chain 1 |\u001b[34m██████████\u001b[0m| 00:03 Sampling completed                       \n",
      "chain 2 |\u001b[34m██████████\u001b[0m| 00:03 Sampling completed                       \n",
      "chain 3 |\u001b[34m██████████\u001b[0m| 00:03 Sampling completed                       \n",
      "chain 4 |\u001b[34m██████████\u001b[0m| 00:03 Sampling completed                       "
     ]
    },
    {
     "name": "stdout",
     "output_type": "stream",
     "text": [
      "                                                                                                                                                                                                                                                                                                                                "
     ]
    },
    {
     "name": "stderr",
     "output_type": "stream",
     "text": [
      "\n",
      "16:05:42 - cmdstanpy - INFO - CmdStan done processing.\n",
      "16:05:42 - cmdstanpy - WARNING - Non-fatal error during sampling:\n",
      "Exception: exponential_lpdf: Inverse scale parameter is -inf, but must be positive finite! (in '/home/car_prices_pr/DA/project/stan_files/exp_model1_fit.stan', line 28, column 4 to column 52)\n",
      "\tException: exponential_lpdf: Inverse scale parameter is -inf, but must be positive finite! (in '/home/car_prices_pr/DA/project/stan_files/exp_model1_fit.stan', line 28, column 4 to column 52)\n",
      "\tException: exponential_lpdf: Inverse scale parameter is -2.02448e+204, but must be positive finite! (in '/home/car_prices_pr/DA/project/stan_files/exp_model1_fit.stan', line 28, column 4 to column 52)\n",
      "\tException: exponential_lpdf: Inverse scale parameter is -6.34165e+52, but must be positive finite! (in '/home/car_prices_pr/DA/project/stan_files/exp_model1_fit.stan', line 28, column 4 to column 52)\n",
      "\tException: exponential_lpdf: Inverse scale parameter is -2.3167e+14, but must be positive finite! (in '/home/car_prices_pr/DA/project/stan_files/exp_model1_fit.stan', line 28, column 4 to column 52)\n",
      "\tException: exponential_lpdf: Inverse scale parameter is -19074.2, but must be positive finite! (in '/home/car_prices_pr/DA/project/stan_files/exp_model1_fit.stan', line 28, column 4 to column 52)\n",
      "\tException: exponential_lpdf: Inverse scale parameter is -inf, but must be positive finite! (in '/home/car_prices_pr/DA/project/stan_files/exp_model1_fit.stan', line 28, column 4 to column 52)\n",
      "\tException: exponential_lpdf: Inverse scale parameter is -inf, but must be positive finite! (in '/home/car_prices_pr/DA/project/stan_files/exp_model1_fit.stan', line 28, column 4 to column 52)\n",
      "\tException: exponential_lpdf: Inverse scale parameter is -1.95885e+12, but must be positive finite! (in '/home/car_prices_pr/DA/project/stan_files/exp_model1_fit.stan', line 28, column 4 to column 52)\n",
      "\tException: exponential_lpdf: Inverse scale parameter is -1.16766, but must be positive finite! (in '/home/car_prices_pr/DA/project/stan_files/exp_model1_fit.stan', line 28, column 4 to column 52)\n",
      "\tException: exponential_lpdf: Inverse scale parameter is -0.465025, but must be positive finite! (in '/home/car_prices_pr/DA/project/stan_files/exp_model1_fit.stan', line 28, column 4 to column 52)\n",
      "\tException: exponential_lpdf: Inverse scale parameter is -1.35145, but must be positive finite! (in '/home/car_prices_pr/DA/project/stan_files/exp_model1_fit.stan', line 28, column 4 to column 52)\n",
      "\tException: exponential_lpdf: Inverse scale parameter is -0.771625, but must be positive finite! (in '/home/car_prices_pr/DA/project/stan_files/exp_model1_fit.stan', line 28, column 4 to column 52)\n",
      "Exception: exponential_lpdf: Inverse scale parameter is -1.34921e+202, but must be positive finite! (in '/home/car_prices_pr/DA/project/stan_files/exp_model1_fit.stan', line 28, column 4 to column 52)\n",
      "\tException: exponential_lpdf: Inverse scale parameter is -1.12634e+202, but must be positive finite! (in '/home/car_prices_pr/DA/project/stan_files/exp_model1_fit.stan', line 28, column 4 to column 52)\n",
      "\tException: exponential_lpdf: Inverse scale parameter is -3.63445e+51, but must be positive finite! (in '/home/car_prices_pr/DA/project/stan_files/exp_model1_fit.stan', line 28, column 4 to column 52)\n",
      "\tException: exponential_lpdf: Inverse scale parameter is -4.55999e+13, but must be positive finite! (in '/home/car_prices_pr/DA/project/stan_files/exp_model1_fit.stan', line 28, column 4 to column 52)\n",
      "\tException: exponential_lpdf: Inverse scale parameter is -5627.37, but must be positive finite! (in '/home/car_prices_pr/DA/project/stan_files/exp_model1_fit.stan', line 28, column 4 to column 52)\n",
      "\tException: exponential_lpdf: Inverse scale parameter is -4.52934, but must be positive finite! (in '/home/car_prices_pr/DA/project/stan_files/exp_model1_fit.stan', line 28, column 4 to column 52)\n",
      "\tException: exponential_lpdf: Inverse scale parameter is -0.00841758, but must be positive finite! (in '/home/car_prices_pr/DA/project/stan_files/exp_model1_fit.stan', line 28, column 4 to column 52)\n",
      "\tException: exponential_lpdf: Inverse scale parameter is -inf, but must be positive finite! (in '/home/car_prices_pr/DA/project/stan_files/exp_model1_fit.stan', line 28, column 4 to column 52)\n",
      "\tException: exponential_lpdf: Inverse scale parameter is -inf, but must be positive finite! (in '/home/car_prices_pr/DA/project/stan_files/exp_model1_fit.stan', line 28, column 4 to column 52)\n",
      "\tException: exponential_lpdf: Inverse scale parameter is -46586.1, but must be positive finite! (in '/home/car_prices_pr/DA/project/stan_files/exp_model1_fit.stan', line 28, column 4 to column 52)\n",
      "\tException: exponential_lpdf: Inverse scale parameter is -0.83216, but must be positive finite! (in '/home/car_prices_pr/DA/project/stan_files/exp_model1_fit.stan', line 28, column 4 to column 52)\n",
      "\tException: exponential_lpdf: Inverse scale parameter is -1.93219, but must be positive finite! (in '/home/car_prices_pr/DA/project/stan_files/exp_model1_fit.stan', line 28, column 4 to column 52)\n",
      "Exception: exponential_lpdf: Inverse scale parameter is -2.1333, but must be positive finite! (in '/home/car_prices_pr/DA/project/stan_files/exp_model1_fit.stan', line 28, column 4 to column 52)\n",
      "\tException: exponential_lpdf: Inverse scale parameter is -6.25909e+253, but must be positive finite! (in '/home/car_prices_pr/DA/project/stan_files/exp_model1_fit.stan', line 28, column 4 to column 52)\n",
      "\tException: exponential_lpdf: Inverse scale parameter is -1.49088e+252, but must be positive finite! (in '/home/car_prices_pr/DA/project/stan_files/exp_model1_fit.stan', line 28, column 4 to column 52)\n",
      "\tException: exponential_lpdf: Inverse scale parameter is -7.8681e+64, but must be positive finite! (in '/home/car_prices_pr/DA/project/stan_files/exp_model1_fit.stan', line 28, column 4 to column 52)\n",
      "\tException: exponential_lpdf: Inverse scale parameter is -5.22472e+17, but must be positive finite! (in '/home/car_prices_pr/DA/project/stan_files/exp_model1_fit.stan', line 28, column 4 to column 52)\n",
      "\tException: exponential_lpdf: Inverse scale parameter is -138911, but must be positive finite! (in '/home/car_prices_pr/DA/project/stan_files/exp_model1_fit.stan', line 28, column 4 to column 52)\n",
      "\tException: exponential_lpdf: Inverse scale parameter is -33.8251, but must be positive finite! (in '/home/car_prices_pr/DA/project/stan_files/exp_model1_fit.stan', line 28, column 4 to column 52)\n",
      "\tException: exponential_lpdf: Inverse scale parameter is -0.00716757, but must be positive finite! (in '/home/car_prices_pr/DA/project/stan_files/exp_model1_fit.stan', line 28, column 4 to column 52)\n",
      "\tException: exponential_lpdf: Inverse scale parameter is -inf, but must be positive finite! (in '/home/car_prices_pr/DA/project/stan_files/exp_model1_fit.stan', line 28, column 4 to column 52)\n",
      "\tException: exponential_lpdf: Inverse scale parameter is -inf, but must be positive finite! (in '/home/car_prices_pr/DA/project/stan_files/exp_model1_fit.stan', line 28, column 4 to column 52)\n",
      "\tException: exponential_lpdf: Inverse scale parameter is -1.10243e+17, but must be positive finite! (in '/home/car_prices_pr/DA/project/stan_files/exp_model1_fit.stan', line 28, column 4 to column 52)\n",
      "\tException: exponential_lpdf: Inverse scale parameter is -0.224252, but must be positive finite! (in '/home/car_prices_pr/DA/project/stan_files/exp_model1_fit.stan', line 28, column 4 to column 52)\n",
      "\tException: exponential_lpdf: Inverse scale parameter is -6.4047, but must be positive finite! (in '/home/car_prices_pr/DA/project/stan_files/exp_model1_fit.stan', line 28, column 4 to column 52)\n",
      "\tException: exponential_lpdf: Inverse scale parameter is -3.20345, but must be positive finite! (in '/home/car_prices_pr/DA/project/stan_files/exp_model1_fit.stan', line 28, column 4 to column 52)\n",
      "\tException: exponential_lpdf: Inverse scale parameter is -0.0172253, but must be positive finite! (in '/home/car_prices_pr/DA/project/stan_files/exp_model1_fit.stan', line 28, column 4 to column 52)\n",
      "\tException: exponential_lpdf: Inverse scale parameter is -35.4206, but must be positive finite! (in '/home/car_prices_pr/DA/project/stan_files/exp_model1_fit.stan', line 28, column 4 to column 52)\n",
      "\tException: exponential_lpdf: Inverse scale parameter is -26.4903, but must be positive finite! (in '/home/car_prices_pr/DA/project/stan_files/exp_model1_fit.stan', line 28, column 4 to column 52)\n",
      "Exception: exponential_lpdf: Inverse scale parameter is -inf, but must be positive finite! (in '/home/car_prices_pr/DA/project/stan_files/exp_model1_fit.stan', line 28, column 4 to column 52)\n",
      "\tException: exponential_lpdf: Inverse scale parameter is -inf, but must be positive finite! (in '/home/car_prices_pr/DA/project/stan_files/exp_model1_fit.stan', line 28, column 4 to column 52)\n",
      "\tException: exponential_lpdf: Inverse scale parameter is -3.0528e+228, but must be positive finite! (in '/home/car_prices_pr/DA/project/stan_files/exp_model1_fit.stan', line 28, column 4 to column 52)\n",
      "\tException: exponential_lpdf: Inverse scale parameter is -8.36126e+58, but must be positive finite! (in '/home/car_prices_pr/DA/project/stan_files/exp_model1_fit.stan', line 28, column 4 to column 52)\n",
      "\tException: exponential_lpdf: Inverse scale parameter is -1.47613e+16, but must be positive finite! (in '/home/car_prices_pr/DA/project/stan_files/exp_model1_fit.stan', line 28, column 4 to column 52)\n",
      "\tException: exponential_lpdf: Inverse scale parameter is -53769, but must be positive finite! (in '/home/car_prices_pr/DA/project/stan_files/exp_model1_fit.stan', line 28, column 4 to column 52)\n",
      "\tException: exponential_lpdf: Inverse scale parameter is -0.449675, but must be positive finite! (in '/home/car_prices_pr/DA/project/stan_files/exp_model1_fit.stan', line 28, column 4 to column 52)\n",
      "\tException: exponential_lpdf: Inverse scale parameter is -inf, but must be positive finite! (in '/home/car_prices_pr/DA/project/stan_files/exp_model1_fit.stan', line 28, column 4 to column 52)\n",
      "\tException: exponential_lpdf: Inverse scale parameter is -inf, but must be positive finite! (in '/home/car_prices_pr/DA/project/stan_files/exp_model1_fit.stan', line 28, column 4 to column 52)\n",
      "\tException: exponential_lpdf: Inverse scale parameter is -2.16237e+59, but must be positive finite! (in '/home/car_prices_pr/DA/project/stan_files/exp_model1_fit.stan', line 28, column 4 to column 52)\n",
      "\tException: exponential_lpdf: Inverse scale parameter is -9.09346, but must be positive finite! (in '/home/car_prices_pr/DA/project/stan_files/exp_model1_fit.stan', line 28, column 4 to column 52)\n",
      "\tException: exponential_lpdf: Inverse scale parameter is -1.59505, but must be positive finite! (in '/home/car_prices_pr/DA/project/stan_files/exp_model1_fit.stan', line 28, column 4 to column 52)\n",
      "\tException: exponential_lpdf: Inverse scale parameter is -14.7273, but must be positive finite! (in '/home/car_prices_pr/DA/project/stan_files/exp_model1_fit.stan', line 28, column 4 to column 52)\n",
      "Consider re-running with show_console=True if the above output is unclear!\n"
     ]
    },
    {
     "name": "stdout",
     "output_type": "stream",
     "text": [
      "\n"
     ]
    },
    {
     "data": {
      "text/html": [
       "<div>\n",
       "<style scoped>\n",
       "    .dataframe tbody tr th:only-of-type {\n",
       "        vertical-align: middle;\n",
       "    }\n",
       "\n",
       "    .dataframe tbody tr th {\n",
       "        vertical-align: top;\n",
       "    }\n",
       "\n",
       "    .dataframe thead th {\n",
       "        text-align: right;\n",
       "    }\n",
       "</style>\n",
       "<table border=\"1\" class=\"dataframe\">\n",
       "  <thead>\n",
       "    <tr style=\"text-align: right;\">\n",
       "      <th></th>\n",
       "      <th>lp__</th>\n",
       "      <th>accept_stat__</th>\n",
       "      <th>stepsize__</th>\n",
       "      <th>treedepth__</th>\n",
       "      <th>n_leapfrog__</th>\n",
       "      <th>divergent__</th>\n",
       "      <th>energy__</th>\n",
       "      <th>alpha</th>\n",
       "      <th>beta</th>\n",
       "      <th>sigma</th>\n",
       "      <th>...</th>\n",
       "      <th>log_lik[769]</th>\n",
       "      <th>log_lik[770]</th>\n",
       "      <th>log_lik[771]</th>\n",
       "      <th>log_lik[772]</th>\n",
       "      <th>log_lik[773]</th>\n",
       "      <th>log_lik[774]</th>\n",
       "      <th>log_lik[775]</th>\n",
       "      <th>log_lik[776]</th>\n",
       "      <th>log_lik[777]</th>\n",
       "      <th>log_lik[778]</th>\n",
       "    </tr>\n",
       "  </thead>\n",
       "  <tbody>\n",
       "    <tr>\n",
       "      <th>0</th>\n",
       "      <td>692.098</td>\n",
       "      <td>0.572934</td>\n",
       "      <td>0.539885</td>\n",
       "      <td>3.0</td>\n",
       "      <td>7.0</td>\n",
       "      <td>0.0</td>\n",
       "      <td>-688.283</td>\n",
       "      <td>0.153435</td>\n",
       "      <td>0.110960</td>\n",
       "      <td>0.169984</td>\n",
       "      <td>...</td>\n",
       "      <td>1.12846</td>\n",
       "      <td>1.49796</td>\n",
       "      <td>1.13214</td>\n",
       "      <td>1.68011</td>\n",
       "      <td>0.880573</td>\n",
       "      <td>1.26412</td>\n",
       "      <td>0.099497</td>\n",
       "      <td>1.39851</td>\n",
       "      <td>1.46161</td>\n",
       "      <td>0.874472</td>\n",
       "    </tr>\n",
       "    <tr>\n",
       "      <th>1</th>\n",
       "      <td>691.088</td>\n",
       "      <td>0.977385</td>\n",
       "      <td>0.539885</td>\n",
       "      <td>2.0</td>\n",
       "      <td>3.0</td>\n",
       "      <td>0.0</td>\n",
       "      <td>-690.624</td>\n",
       "      <td>0.152478</td>\n",
       "      <td>0.107383</td>\n",
       "      <td>0.181998</td>\n",
       "      <td>...</td>\n",
       "      <td>1.12874</td>\n",
       "      <td>1.49394</td>\n",
       "      <td>1.13238</td>\n",
       "      <td>1.67440</td>\n",
       "      <td>0.883235</td>\n",
       "      <td>1.26457</td>\n",
       "      <td>0.113800</td>\n",
       "      <td>1.39539</td>\n",
       "      <td>1.45938</td>\n",
       "      <td>0.877554</td>\n",
       "    </tr>\n",
       "    <tr>\n",
       "      <th>2</th>\n",
       "      <td>692.558</td>\n",
       "      <td>1.000000</td>\n",
       "      <td>0.539885</td>\n",
       "      <td>2.0</td>\n",
       "      <td>3.0</td>\n",
       "      <td>0.0</td>\n",
       "      <td>-690.096</td>\n",
       "      <td>0.148523</td>\n",
       "      <td>0.097343</td>\n",
       "      <td>0.141857</td>\n",
       "      <td>...</td>\n",
       "      <td>1.12849</td>\n",
       "      <td>1.47375</td>\n",
       "      <td>1.13195</td>\n",
       "      <td>1.64683</td>\n",
       "      <td>0.893424</td>\n",
       "      <td>1.26447</td>\n",
       "      <td>0.170088</td>\n",
       "      <td>1.37984</td>\n",
       "      <td>1.44874</td>\n",
       "      <td>0.889279</td>\n",
       "    </tr>\n",
       "    <tr>\n",
       "      <th>3</th>\n",
       "      <td>692.318</td>\n",
       "      <td>0.985012</td>\n",
       "      <td>0.539885</td>\n",
       "      <td>3.0</td>\n",
       "      <td>7.0</td>\n",
       "      <td>0.0</td>\n",
       "      <td>-691.310</td>\n",
       "      <td>0.142897</td>\n",
       "      <td>0.116667</td>\n",
       "      <td>0.164329</td>\n",
       "      <td>...</td>\n",
       "      <td>1.12885</td>\n",
       "      <td>1.47267</td>\n",
       "      <td>1.13238</td>\n",
       "      <td>1.64816</td>\n",
       "      <td>0.890742</td>\n",
       "      <td>1.26487</td>\n",
       "      <td>0.138587</td>\n",
       "      <td>1.38061</td>\n",
       "      <td>1.45639</td>\n",
       "      <td>0.885425</td>\n",
       "    </tr>\n",
       "    <tr>\n",
       "      <th>4</th>\n",
       "      <td>690.655</td>\n",
       "      <td>0.866542</td>\n",
       "      <td>0.539885</td>\n",
       "      <td>2.0</td>\n",
       "      <td>7.0</td>\n",
       "      <td>0.0</td>\n",
       "      <td>-689.096</td>\n",
       "      <td>0.167925</td>\n",
       "      <td>0.078306</td>\n",
       "      <td>0.135565</td>\n",
       "      <td>...</td>\n",
       "      <td>1.12883</td>\n",
       "      <td>1.50632</td>\n",
       "      <td>1.13245</td>\n",
       "      <td>1.68683</td>\n",
       "      <td>0.883023</td>\n",
       "      <td>1.26479</td>\n",
       "      <td>0.143090</td>\n",
       "      <td>1.40212</td>\n",
       "      <td>1.45172</td>\n",
       "      <td>0.878917</td>\n",
       "    </tr>\n",
       "  </tbody>\n",
       "</table>\n",
       "<p>5 rows × 2345 columns</p>\n",
       "</div>"
      ],
      "text/plain": [
       "      lp__  accept_stat__  stepsize__  treedepth__  n_leapfrog__  divergent__  \\\n",
       "0  692.098       0.572934    0.539885          3.0           7.0          0.0   \n",
       "1  691.088       0.977385    0.539885          2.0           3.0          0.0   \n",
       "2  692.558       1.000000    0.539885          2.0           3.0          0.0   \n",
       "3  692.318       0.985012    0.539885          3.0           7.0          0.0   \n",
       "4  690.655       0.866542    0.539885          2.0           7.0          0.0   \n",
       "\n",
       "   energy__     alpha      beta     sigma  ...  log_lik[769]  log_lik[770]  \\\n",
       "0  -688.283  0.153435  0.110960  0.169984  ...       1.12846       1.49796   \n",
       "1  -690.624  0.152478  0.107383  0.181998  ...       1.12874       1.49394   \n",
       "2  -690.096  0.148523  0.097343  0.141857  ...       1.12849       1.47375   \n",
       "3  -691.310  0.142897  0.116667  0.164329  ...       1.12885       1.47267   \n",
       "4  -689.096  0.167925  0.078306  0.135565  ...       1.12883       1.50632   \n",
       "\n",
       "   log_lik[771]  log_lik[772]  log_lik[773]  log_lik[774]  log_lik[775]  \\\n",
       "0       1.13214       1.68011      0.880573       1.26412      0.099497   \n",
       "1       1.13238       1.67440      0.883235       1.26457      0.113800   \n",
       "2       1.13195       1.64683      0.893424       1.26447      0.170088   \n",
       "3       1.13238       1.64816      0.890742       1.26487      0.138587   \n",
       "4       1.13245       1.68683      0.883023       1.26479      0.143090   \n",
       "\n",
       "   log_lik[776]  log_lik[777]  log_lik[778]  \n",
       "0       1.39851       1.46161      0.874472  \n",
       "1       1.39539       1.45938      0.877554  \n",
       "2       1.37984       1.44874      0.889279  \n",
       "3       1.38061       1.45639      0.885425  \n",
       "4       1.40212       1.45172      0.878917  \n",
       "\n",
       "[5 rows x 2345 columns]"
      ]
     },
     "execution_count": 73,
     "metadata": {},
     "output_type": "execute_result"
    }
   ],
   "source": [
    "model_exp_fit = cmdstanpy.CmdStanModel(stan_file='stan_files/exp_model1_fit.stan')\n",
    "N = len(audi_a3_2000ccm_standarized)\n",
    "#Parameters\n",
    "\n",
    "data = {\"N\": N, \n",
    "        \"mileage\" : audi_a3_2000ccm_standarized['Mileage_km'],\n",
    "        \"production_year\" : audi_a3_2000ccm_standarized['Production_year'],\n",
    "        \"price_observed\": audi_a3_2000ccm_standarized['Price']\n",
    "        }\n",
    "\n",
    "sim_exp_pos1_fit=model_exp_fit.sample(data=data)\n",
    "sim_exp_pos1_fit_pd = sim_exp_pos1_fit.draws_pd()\n",
    "sim_exp_pos1_fit_pd.head()"
   ]
  },
  {
   "cell_type": "code",
   "execution_count": 74,
   "metadata": {},
   "outputs": [
    {
     "data": {
      "image/png": "[encoded data removed]",
      "text/plain": [
       "<Figure size 1728x360 with 4 Axes>"
      ]
     },
     "metadata": {
      "needs_background": "light"
     },
     "output_type": "display_data"
    }
   ],
   "source": [
    "_, ax = plt.subplots(1, 4, figsize=(24, 5))\n",
    "ax = ax.flatten()\n",
    "sns.histplot(data=sim_exp_pos1_fit_pd, x=\"alpha\", stat=\"density\", ax=ax[0], bins=BINS)\n",
    "sns.histplot(data=sim_exp_pos1_fit_pd, x=\"beta\", stat=\"density\", ax=ax[1], bins=BINS)\n",
    "sns.histplot(data=sim_exp_pos1_fit_pd, x=\"price_estimated[1]\", stat=\"density\", ax=ax[2], bins=BINS)\n",
    "\n",
    "ax[3].hist(sim_exp_pos1_fit_pd[\"price_estimated[1]\"], bins=BINS, alpha=0.5, density=True, label=\"Posterior\")\n",
    "ax[3].hist(audi_a3_2000ccm_standarized[\"Price\"], bins=BINS, alpha=0.5, density=True, label=\"Model samples\")\n",
    "\n",
    "\n",
    "ax[0].grid()\n",
    "ax[1].grid()\n",
    "ax[2].grid()\n",
    "ax[3].grid()\n",
    "\n",
    "ax[0].set_xlabel(\"alpha\"), \n",
    "ax[1].set_xlabel(\"beta2\"), \n",
    "ax[2].set_xlabel(\"Predicted prices\"), \n",
    "ax[3].set_xlabel(\"Predicted prices vs dataset prices\")\n",
    "\n",
    "ax[3].set_ylabel(\"Density\")\n",
    "ax[3].legend()\n",
    "plt.suptitle(\"Histograms\")\n",
    "plt.show()"
   ]
  },
  {
   "cell_type": "markdown",
   "metadata": {},
   "source": [
    "## 3.3 Model 2- prior"
   ]
  },
  {
   "cell_type": "code",
   "execution_count": 75,
   "metadata": {},
   "outputs": [
    {
     "name": "stderr",
     "output_type": "stream",
     "text": [
      "16:05:48 - cmdstanpy - INFO - CmdStan start processing\n",
      "chain 1 |\u001b[33m          \u001b[0m| 00:00 Status\n",
      "\u001b[A\n",
      "\n",
      "\u001b[A\u001b[A\n",
      "\u001b[A\n",
      "\n",
      "chain 1 |\u001b[34m▉         \u001b[0m| 00:00 Iteration:   1 / 1000 [  0%]  (Sampling)\n",
      "\n",
      "\u001b[A\u001b[A\n",
      "chain 1 |\u001b[34m██▎       \u001b[0m| 00:00 Iteration: 300 / 1000 [ 30%]  (Sampling)\n",
      "\n",
      "\u001b[A\u001b[A\n",
      "chain 1 |\u001b[34m███▏      \u001b[0m| 00:00 Iteration: 500 / 1000 [ 50%]  (Sampling)\n",
      "\n",
      "\u001b[A\u001b[A\n",
      "chain 1 |\u001b[34m████      \u001b[0m| 00:00 Iteration: 700 / 1000 [ 70%]  (Sampling)\n",
      "\n",
      "\u001b[A\u001b[A\n",
      "chain 1 |\u001b[34m██████████\u001b[0m| 00:00 Sampling completed                      \n",
      "chain 2 |\u001b[34m██████████\u001b[0m| 00:00 Sampling completed                      \n",
      "chain 3 |\u001b[34m██████████\u001b[0m| 00:00 Sampling completed                      \n",
      "chain 4 |\u001b[34m██████████\u001b[0m| 00:00 Sampling completed                      "
     ]
    },
    {
     "name": "stdout",
     "output_type": "stream",
     "text": [
      "                                                                                "
     ]
    },
    {
     "name": "stderr",
     "output_type": "stream",
     "text": [
      "\n"
     ]
    },
    {
     "name": "stdout",
     "output_type": "stream",
     "text": [
      "                                                                                                                                                                                                                                                "
     ]
    },
    {
     "name": "stderr",
     "output_type": "stream",
     "text": [
      "16:05:49 - cmdstanpy - INFO - CmdStan done processing.\n"
     ]
    },
    {
     "name": "stdout",
     "output_type": "stream",
     "text": [
      "\n"
     ]
    },
    {
     "data": {
      "text/html": [
       "<div>\n",
       "<style scoped>\n",
       "    .dataframe tbody tr th:only-of-type {\n",
       "        vertical-align: middle;\n",
       "    }\n",
       "\n",
       "    .dataframe tbody tr th {\n",
       "        vertical-align: top;\n",
       "    }\n",
       "\n",
       "    .dataframe thead th {\n",
       "        text-align: right;\n",
       "    }\n",
       "</style>\n",
       "<table border=\"1\" class=\"dataframe\">\n",
       "  <thead>\n",
       "    <tr style=\"text-align: right;\">\n",
       "      <th></th>\n",
       "      <th>lp__</th>\n",
       "      <th>accept_stat__</th>\n",
       "      <th>price[1]</th>\n",
       "      <th>price[2]</th>\n",
       "      <th>price[3]</th>\n",
       "      <th>price[4]</th>\n",
       "      <th>price[5]</th>\n",
       "      <th>price[6]</th>\n",
       "      <th>price[7]</th>\n",
       "      <th>price[8]</th>\n",
       "      <th>...</th>\n",
       "      <th>price[774]</th>\n",
       "      <th>price[775]</th>\n",
       "      <th>price[776]</th>\n",
       "      <th>price[777]</th>\n",
       "      <th>price[778]</th>\n",
       "      <th>alpha</th>\n",
       "      <th>beta1</th>\n",
       "      <th>beta2</th>\n",
       "      <th>sigma</th>\n",
       "      <th>lambda</th>\n",
       "    </tr>\n",
       "  </thead>\n",
       "  <tbody>\n",
       "    <tr>\n",
       "      <th>0</th>\n",
       "      <td>0.0</td>\n",
       "      <td>0.0</td>\n",
       "      <td>0.184199</td>\n",
       "      <td>0.134068</td>\n",
       "      <td>0.327619</td>\n",
       "      <td>0.096741</td>\n",
       "      <td>0.063453</td>\n",
       "      <td>0.065488</td>\n",
       "      <td>0.196573</td>\n",
       "      <td>0.038940</td>\n",
       "      <td>...</td>\n",
       "      <td>0.046434</td>\n",
       "      <td>0.012622</td>\n",
       "      <td>0.193591</td>\n",
       "      <td>0.173505</td>\n",
       "      <td>0.137048</td>\n",
       "      <td>0.170683</td>\n",
       "      <td>0.379997</td>\n",
       "      <td>0.381718</td>\n",
       "      <td>0.150392</td>\n",
       "      <td>40.1163</td>\n",
       "    </tr>\n",
       "    <tr>\n",
       "      <th>1</th>\n",
       "      <td>0.0</td>\n",
       "      <td>0.0</td>\n",
       "      <td>0.211163</td>\n",
       "      <td>0.044423</td>\n",
       "      <td>0.065961</td>\n",
       "      <td>0.147086</td>\n",
       "      <td>0.025903</td>\n",
       "      <td>0.238402</td>\n",
       "      <td>0.012077</td>\n",
       "      <td>0.410823</td>\n",
       "      <td>...</td>\n",
       "      <td>0.089005</td>\n",
       "      <td>0.213886</td>\n",
       "      <td>0.027606</td>\n",
       "      <td>0.018269</td>\n",
       "      <td>0.228202</td>\n",
       "      <td>0.161693</td>\n",
       "      <td>0.348940</td>\n",
       "      <td>0.377396</td>\n",
       "      <td>0.139884</td>\n",
       "      <td>39.7603</td>\n",
       "    </tr>\n",
       "    <tr>\n",
       "      <th>2</th>\n",
       "      <td>0.0</td>\n",
       "      <td>0.0</td>\n",
       "      <td>0.298958</td>\n",
       "      <td>0.288630</td>\n",
       "      <td>0.144839</td>\n",
       "      <td>0.109072</td>\n",
       "      <td>0.060064</td>\n",
       "      <td>0.022908</td>\n",
       "      <td>0.486441</td>\n",
       "      <td>0.390172</td>\n",
       "      <td>...</td>\n",
       "      <td>0.017219</td>\n",
       "      <td>0.026318</td>\n",
       "      <td>0.105931</td>\n",
       "      <td>0.051712</td>\n",
       "      <td>0.705793</td>\n",
       "      <td>0.178272</td>\n",
       "      <td>0.352742</td>\n",
       "      <td>0.378643</td>\n",
       "      <td>0.150802</td>\n",
       "      <td>39.9746</td>\n",
       "    </tr>\n",
       "    <tr>\n",
       "      <th>3</th>\n",
       "      <td>0.0</td>\n",
       "      <td>0.0</td>\n",
       "      <td>0.009465</td>\n",
       "      <td>0.091675</td>\n",
       "      <td>0.307397</td>\n",
       "      <td>0.016449</td>\n",
       "      <td>0.042654</td>\n",
       "      <td>0.289606</td>\n",
       "      <td>0.022167</td>\n",
       "      <td>0.464182</td>\n",
       "      <td>...</td>\n",
       "      <td>0.006724</td>\n",
       "      <td>0.074819</td>\n",
       "      <td>0.012657</td>\n",
       "      <td>0.007828</td>\n",
       "      <td>0.148187</td>\n",
       "      <td>0.181938</td>\n",
       "      <td>0.347776</td>\n",
       "      <td>0.352984</td>\n",
       "      <td>0.183120</td>\n",
       "      <td>39.8990</td>\n",
       "    </tr>\n",
       "    <tr>\n",
       "      <th>4</th>\n",
       "      <td>0.0</td>\n",
       "      <td>0.0</td>\n",
       "      <td>0.032726</td>\n",
       "      <td>0.043979</td>\n",
       "      <td>0.200785</td>\n",
       "      <td>0.236112</td>\n",
       "      <td>0.055488</td>\n",
       "      <td>0.138474</td>\n",
       "      <td>0.155195</td>\n",
       "      <td>0.121279</td>\n",
       "      <td>...</td>\n",
       "      <td>0.161437</td>\n",
       "      <td>0.072040</td>\n",
       "      <td>0.399204</td>\n",
       "      <td>0.021664</td>\n",
       "      <td>0.296342</td>\n",
       "      <td>0.162156</td>\n",
       "      <td>0.387747</td>\n",
       "      <td>0.379759</td>\n",
       "      <td>0.144716</td>\n",
       "      <td>40.1088</td>\n",
       "    </tr>\n",
       "  </tbody>\n",
       "</table>\n",
       "<p>5 rows × 785 columns</p>\n",
       "</div>"
      ],
      "text/plain": [
       "   lp__  accept_stat__  price[1]  price[2]  price[3]  price[4]  price[5]  \\\n",
       "0   0.0            0.0  0.184199  0.134068  0.327619  0.096741  0.063453   \n",
       "1   0.0            0.0  0.211163  0.044423  0.065961  0.147086  0.025903   \n",
       "2   0.0            0.0  0.298958  0.288630  0.144839  0.109072  0.060064   \n",
       "3   0.0            0.0  0.009465  0.091675  0.307397  0.016449  0.042654   \n",
       "4   0.0            0.0  0.032726  0.043979  0.200785  0.236112  0.055488   \n",
       "\n",
       "   price[6]  price[7]  price[8]  ...  price[774]  price[775]  price[776]  \\\n",
       "0  0.065488  0.196573  0.038940  ...    0.046434    0.012622    0.193591   \n",
       "1  0.238402  0.012077  0.410823  ...    0.089005    0.213886    0.027606   \n",
       "2  0.022908  0.486441  0.390172  ...    0.017219    0.026318    0.105931   \n",
       "3  0.289606  0.022167  0.464182  ...    0.006724    0.074819    0.012657   \n",
       "4  0.138474  0.155195  0.121279  ...    0.161437    0.072040    0.399204   \n",
       "\n",
       "   price[777]  price[778]     alpha     beta1     beta2     sigma   lambda  \n",
       "0    0.173505    0.137048  0.170683  0.379997  0.381718  0.150392  40.1163  \n",
       "1    0.018269    0.228202  0.161693  0.348940  0.377396  0.139884  39.7603  \n",
       "2    0.051712    0.705793  0.178272  0.352742  0.378643  0.150802  39.9746  \n",
       "3    0.007828    0.148187  0.181938  0.347776  0.352984  0.183120  39.8990  \n",
       "4    0.021664    0.296342  0.162156  0.387747  0.379759  0.144716  40.1088  \n",
       "\n",
       "[5 rows x 785 columns]"
      ]
     },
     "execution_count": 75,
     "metadata": {},
     "output_type": "execute_result"
    }
   ],
   "source": [
    "model_exp2_ppc = cmdstanpy.CmdStanModel(stan_file='stan_files/exp_model2_ppc.stan')\n",
    "\n",
    "#Parameters\n",
    "N = len(audi_a3_2000ccm_standarized)\n",
    "mu_a =0.17\n",
    "sig_a =0.02\n",
    "mu_b1 = 0.36\n",
    "sig_b1 = 0.02\n",
    "mu_b2 = 0.36\n",
    "sig_b2 = 0.02\n",
    "\n",
    "data = {\"N\": N, \n",
    "        \"mileage\" : np.linspace(0.01,1,N),\n",
    "        \"production_year\" : np.linspace(0.01,1,N),\n",
    "        \"mu_a\" : mu_a,\n",
    "        \"sig_a\" : sig_a,\n",
    "        \"mu_b1\" : mu_b1,\n",
    "        \"mu_b2\" : mu_b2,\n",
    "        \"sig_b1\" : sig_b1,\n",
    "        \"sig_b2\" : sig_b2,\n",
    "        }\n",
    "\n",
    "\n",
    "sim_exp_fit2=model_exp2_ppc.sample(data=data)\n",
    "sim_exp_fit2_pd = sim_exp_fit2.draws_pd()\n",
    "sim_exp_fit2_pd.head()"
   ]
  },
  {
   "cell_type": "code",
   "execution_count": 76,
   "metadata": {},
   "outputs": [
    {
     "data": {
      "image/png": "[encoded data removed]",
      "text/plain": [
       "<Figure size 1728x360 with 5 Axes>"
      ]
     },
     "metadata": {
      "needs_background": "light"
     },
     "output_type": "display_data"
    }
   ],
   "source": [
    "_, ax = plt.subplots(1, 5, figsize=(24, 5))\n",
    "ax = ax.flatten()\n",
    "sns.histplot(data=sim_exp_fit2_pd, x=\"alpha\", stat=\"density\", ax=ax[0], bins=BINS)\n",
    "sns.histplot(data=sim_exp_fit2_pd, x=\"beta1\", stat=\"density\", ax=ax[1], bins=BINS)\n",
    "sns.histplot(data=sim_exp_fit2_pd, x=\"beta2\", stat=\"density\", ax=ax[2], bins=BINS)\n",
    "sns.histplot(data=sim_exp_fit2_pd, x=\"price[1]\", stat=\"density\", ax=ax[3], bins=BINS)\n",
    "\n",
    "ax[4].hist(sim_exp_fit2_pd[\"price[1]\"], bins=BINS, alpha=0.5, density=True, label=\"Prior\")\n",
    "ax[4].hist(audi_a3_2000ccm_standarized[\"Price\"], bins=BINS, alpha=0.5, density=True, label=\"Model samples\")\n",
    "\n",
    "\n",
    "ax[0].grid()\n",
    "ax[1].grid()\n",
    "ax[2].grid()\n",
    "ax[3].grid()\n",
    "\n",
    "ax[0].set_xlabel(\"alpha\"), \n",
    "ax[1].set_xlabel(\"beta1\"), \n",
    "ax[2].set_xlabel(\"beta2\"), \n",
    "ax[3].set_xlabel(\"Predicted prices\"), \n",
    "ax[4].set_xlabel(\"Predicted prices vs dataset prices\")\n",
    "\n",
    "ax[4].set_ylabel(\"Density\")\n",
    "ax[4].legend()\n",
    "plt.suptitle(\"Histograms\")\n",
    "plt.show()"
   ]
  },
  {
   "cell_type": "markdown",
   "metadata": {},
   "source": [
    "## 3.4 Model 2- posterior"
   ]
  },
  {
   "cell_type": "code",
   "execution_count": 77,
   "metadata": {},
   "outputs": [
    {
     "name": "stderr",
     "output_type": "stream",
     "text": [
      "16:05:52 - cmdstanpy - INFO - CmdStan start processing\n",
      "chain 1 |\u001b[33m          \u001b[0m| 00:00 Status\n",
      "\u001b[A\n",
      "\n",
      "\u001b[A\u001b[A\n",
      "\n",
      "chain 1 |\u001b[33m▉         \u001b[0m| 00:00 Iteration:    1 / 2000 [  0%]  (Warmup)\n",
      "\u001b[A\n",
      "chain 1 |\u001b[33m█▊        \u001b[0m| 00:00 Iteration:  200 / 2000 [ 10%]  (Warmup)\n",
      "chain 1 |\u001b[33m██▎       \u001b[0m| 00:00 Iteration:  300 / 2000 [ 15%]  (Warmup)\n",
      "chain 1 |\u001b[33m██▋       \u001b[0m| 00:00 Iteration:  400 / 2000 [ 20%]  (Warmup)\n",
      "chain 1 |\u001b[33m███▋      \u001b[0m| 00:00 Iteration:  600 / 2000 [ 30%]  (Warmup)\n",
      "\u001b[A\n",
      "\n",
      "chain 1 |\u001b[33m████▌     \u001b[0m| 00:01 Iteration:  800 / 2000 [ 40%]  (Warmup)\n",
      "chain 1 |\u001b[33m█████     \u001b[0m| 00:01 Iteration:  900 / 2000 [ 45%]  (Warmup)\n",
      "\u001b[A\n",
      "\n",
      "chain 1 |\u001b[34m█████▉    \u001b[0m| 00:01 Iteration: 1001 / 2000 [ 50%]  (Sampling)\n",
      "\u001b[A\n",
      "\n",
      "\u001b[A\u001b[A\n",
      "\n",
      "chain 1 |\u001b[34m██████▎   \u001b[0m| 00:02 Iteration: 1100 / 2000 [ 55%]  (Sampling)\n",
      "\u001b[A\n",
      "\n",
      "chain 1 |\u001b[34m██████▊   \u001b[0m| 00:02 Iteration: 1200 / 2000 [ 60%]  (Sampling)\n",
      "\n",
      "\u001b[A\u001b[A\n",
      "\u001b[A\n",
      "\n",
      "chain 1 |\u001b[34m███████▎  \u001b[0m| 00:02 Iteration: 1300 / 2000 [ 65%]  (Sampling)\n",
      "\u001b[A\n",
      "\n",
      "chain 1 |\u001b[34m███████▋  \u001b[0m| 00:02 Iteration: 1400 / 2000 [ 70%]  (Sampling)\n",
      "\u001b[A\n",
      "\n",
      "chain 1 |\u001b[34m████████▏ \u001b[0m| 00:03 Iteration: 1500 / 2000 [ 75%]  (Sampling)\n",
      "\u001b[A\n",
      "\n",
      "chain 1 |\u001b[34m████████▋ \u001b[0m| 00:03 Iteration: 1600 / 2000 [ 80%]  (Sampling)\n",
      "\u001b[A\n",
      "\n",
      "chain 1 |\u001b[34m█████████ \u001b[0m| 00:03 Iteration: 1700 / 2000 [ 85%]  (Sampling)\n",
      "chain 1 |\u001b[34m█████████▌\u001b[0m| 00:04 Iteration: 1800 / 2000 [ 90%]  (Sampling)\n",
      "\n",
      "\u001b[A\u001b[A\n",
      "chain 1 |\u001b[34m██████████\u001b[0m| 00:04 Iteration: 1900 / 2000 [ 95%]  (Sampling)\n",
      "\n",
      "\u001b[A\u001b[A\n",
      "\u001b[A\n",
      "\n",
      "\u001b[A\u001b[A\n",
      "\n",
      "\u001b[A\u001b[A\n",
      "\n",
      "\u001b[A\u001b[A\n",
      "\n",
      "chain 1 |\u001b[34m██████████\u001b[0m| 00:05 Sampling completed                       \n",
      "chain 2 |\u001b[34m██████████\u001b[0m| 00:05 Sampling completed                       \n",
      "chain 3 |\u001b[34m██████████\u001b[0m| 00:05 Sampling completed                       \n",
      "chain 4 |\u001b[34m██████████\u001b[0m| 00:05 Sampling completed                       "
     ]
    },
    {
     "name": "stdout",
     "output_type": "stream",
     "text": [
      "                                                                                                                                                                                                                                                                                                                                "
     ]
    },
    {
     "name": "stderr",
     "output_type": "stream",
     "text": [
      "\n",
      "16:05:58 - cmdstanpy - INFO - CmdStan done processing.\n",
      "16:05:58 - cmdstanpy - WARNING - Non-fatal error during sampling:\n",
      "Exception: exponential_lpdf: Inverse scale parameter is -5.69584e+200, but must be positive finite! (in '/home/car_prices_pr/DA/project/stan_files/exp_model2_fit.stan', line 31, column 4 to column 52)\n",
      "\tException: exponential_lpdf: Inverse scale parameter is -1.17329e+201, but must be positive finite! (in '/home/car_prices_pr/DA/project/stan_files/exp_model2_fit.stan', line 31, column 4 to column 52)\n",
      "\tException: exponential_lpdf: Inverse scale parameter is -1.37464e+51, but must be positive finite! (in '/home/car_prices_pr/DA/project/stan_files/exp_model2_fit.stan', line 31, column 4 to column 52)\n",
      "\tException: exponential_lpdf: Inverse scale parameter is -1.04248e+13, but must be positive finite! (in '/home/car_prices_pr/DA/project/stan_files/exp_model2_fit.stan', line 31, column 4 to column 52)\n",
      "\tException: exponential_lpdf: Inverse scale parameter is -1139.64, but must be positive finite! (in '/home/car_prices_pr/DA/project/stan_files/exp_model2_fit.stan', line 31, column 4 to column 52)\n",
      "\tException: exponential_lpdf: Inverse scale parameter is -0.86472, but must be positive finite! (in '/home/car_prices_pr/DA/project/stan_files/exp_model2_fit.stan', line 31, column 4 to column 52)\n",
      "\tException: exponential_lpdf: Inverse scale parameter is inf, but must be positive finite! (in '/home/car_prices_pr/DA/project/stan_files/exp_model2_fit.stan', line 31, column 4 to column 52)\n",
      "\tException: exponential_lpdf: Inverse scale parameter is -1.96897, but must be positive finite! (in '/home/car_prices_pr/DA/project/stan_files/exp_model2_fit.stan', line 31, column 4 to column 52)\n",
      "\tException: exponential_lpdf: Inverse scale parameter is -0.75828, but must be positive finite! (in '/home/car_prices_pr/DA/project/stan_files/exp_model2_fit.stan', line 31, column 4 to column 52)\n",
      "\tException: exponential_lpdf: Inverse scale parameter is -1.04853, but must be positive finite! (in '/home/car_prices_pr/DA/project/stan_files/exp_model2_fit.stan', line 31, column 4 to column 52)\n",
      "\tException: exponential_lpdf: Inverse scale parameter is -0.0586572, but must be positive finite! (in '/home/car_prices_pr/DA/project/stan_files/exp_model2_fit.stan', line 31, column 4 to column 52)\n",
      "\tException: exponential_lpdf: Inverse scale parameter is -0.581684, but must be positive finite! (in '/home/car_prices_pr/DA/project/stan_files/exp_model2_fit.stan', line 31, column 4 to column 52)\n",
      "\tException: exponential_lpdf: Inverse scale parameter is -18.1725, but must be positive finite! (in '/home/car_prices_pr/DA/project/stan_files/exp_model2_fit.stan', line 31, column 4 to column 52)\n",
      "\tException: exponential_lpdf: Inverse scale parameter is -0.17406, but must be positive finite! (in '/home/car_prices_pr/DA/project/stan_files/exp_model2_fit.stan', line 31, column 4 to column 52)\n",
      "\tException: exponential_lpdf: Inverse scale parameter is -0.0712683, but must be positive finite! (in '/home/car_prices_pr/DA/project/stan_files/exp_model2_fit.stan', line 31, column 4 to column 52)\n",
      "\tException: exponential_lpdf: Inverse scale parameter is -8.98838, but must be positive finite! (in '/home/car_prices_pr/DA/project/stan_files/exp_model2_fit.stan', line 31, column 4 to column 52)\n",
      "\tException: exponential_lpdf: Inverse scale parameter is -0.744963, but must be positive finite! (in '/home/car_prices_pr/DA/project/stan_files/exp_model2_fit.stan', line 31, column 4 to column 52)\n",
      "\tException: exponential_lpdf: Inverse scale parameter is -0.542005, but must be positive finite! (in '/home/car_prices_pr/DA/project/stan_files/exp_model2_fit.stan', line 31, column 4 to column 52)\n",
      "\tException: exponential_lpdf: Inverse scale parameter is -1.58923, but must be positive finite! (in '/home/car_prices_pr/DA/project/stan_files/exp_model2_fit.stan', line 31, column 4 to column 52)\n",
      "\tException: exponential_lpdf: Inverse scale parameter is -0.288622, but must be positive finite! (in '/home/car_prices_pr/DA/project/stan_files/exp_model2_fit.stan', line 31, column 4 to column 52)\n",
      "\tException: exponential_lpdf: Inverse scale parameter is -29.8257, but must be positive finite! (in '/home/car_prices_pr/DA/project/stan_files/exp_model2_fit.stan', line 31, column 4 to column 52)\n",
      "\tException: exponential_lpdf: Inverse scale parameter is -1.39138, but must be positive finite! (in '/home/car_prices_pr/DA/project/stan_files/exp_model2_fit.stan', line 31, column 4 to column 52)\n",
      "\tException: exponential_lpdf: Inverse scale parameter is -0.165234, but must be positive finite! (in '/home/car_prices_pr/DA/project/stan_files/exp_model2_fit.stan', line 31, column 4 to column 52)\n",
      "\tException: exponential_lpdf: Inverse scale parameter is -0.418281, but must be positive finite! (in '/home/car_prices_pr/DA/project/stan_files/exp_model2_fit.stan', line 31, column 4 to column 52)\n",
      "\tException: exponential_lpdf: Inverse scale parameter is -1.44509, but must be positive finite! (in '/home/car_prices_pr/DA/project/stan_files/exp_model2_fit.stan', line 31, column 4 to column 52)\n",
      "\tException: exponential_lpdf: Inverse scale parameter is -14.7211, but must be positive finite! (in '/home/car_prices_pr/DA/project/stan_files/exp_model2_fit.stan', line 31, column 4 to column 52)\n",
      "\tException: exponential_lpdf: Inverse scale parameter is -0.169736, but must be positive finite! (in '/home/car_prices_pr/DA/project/stan_files/exp_model2_fit.stan', line 31, column 4 to column 52)\n",
      "\tException: exponential_lpdf: Inverse scale parameter is -0.430881, but must be positive finite! (in '/home/car_prices_pr/DA/project/stan_files/exp_model2_fit.stan', line 31, column 4 to column 52)\n",
      "\tException: exponential_lpdf: Inverse scale parameter is -8.15667, but must be positive finite! (in '/home/car_prices_pr/DA/project/stan_files/exp_model2_fit.stan', line 31, column 4 to column 52)\n",
      "\tException: exponential_lpdf: Inverse scale parameter is -0.492514, but must be positive finite! (in '/home/car_prices_pr/DA/project/stan_files/exp_model2_fit.stan', line 31, column 4 to column 52)\n",
      "Exception: exponential_lpdf: Inverse scale parameter is -0.111796, but must be positive finite! (in '/home/car_prices_pr/DA/project/stan_files/exp_model2_fit.stan', line 31, column 4 to column 52)\n",
      "\tException: exponential_lpdf: Inverse scale parameter is -inf, but must be positive finite! (in '/home/car_prices_pr/DA/project/stan_files/exp_model2_fit.stan', line 31, column 4 to column 52)\n",
      "\tException: exponential_lpdf: Inverse scale parameter is -inf, but must be positive finite! (in '/home/car_prices_pr/DA/project/stan_files/exp_model2_fit.stan', line 31, column 4 to column 52)\n",
      "\tException: exponential_lpdf: Inverse scale parameter is -1.4163e+110, but must be positive finite! (in '/home/car_prices_pr/DA/project/stan_files/exp_model2_fit.stan', line 31, column 4 to column 52)\n",
      "\tException: exponential_lpdf: Inverse scale parameter is -8.90993e+26, but must be positive finite! (in '/home/car_prices_pr/DA/project/stan_files/exp_model2_fit.stan', line 31, column 4 to column 52)\n",
      "\tException: exponential_lpdf: Inverse scale parameter is -4.79366e+07, but must be positive finite! (in '/home/car_prices_pr/DA/project/stan_files/exp_model2_fit.stan', line 31, column 4 to column 52)\n",
      "\tException: exponential_lpdf: Inverse scale parameter is -35.0358, but must be positive finite! (in '/home/car_prices_pr/DA/project/stan_files/exp_model2_fit.stan', line 31, column 4 to column 52)\n",
      "\tException: exponential_lpdf: Inverse scale parameter is -inf, but must be positive finite! (in '/home/car_prices_pr/DA/project/stan_files/exp_model2_fit.stan', line 31, column 4 to column 52)\n",
      "\tException: exponential_lpdf: Inverse scale parameter is -inf, but must be positive finite! (in '/home/car_prices_pr/DA/project/stan_files/exp_model2_fit.stan', line 31, column 4 to column 52)\n",
      "\tException: exponential_lpdf: Inverse scale parameter is -4.4956e+24, but must be positive finite! (in '/home/car_prices_pr/DA/project/stan_files/exp_model2_fit.stan', line 31, column 4 to column 52)\n",
      "\tException: exponential_lpdf: Inverse scale parameter is -0.260947, but must be positive finite! (in '/home/car_prices_pr/DA/project/stan_files/exp_model2_fit.stan', line 31, column 4 to column 52)\n",
      "\tException: exponential_lpdf: Inverse scale parameter is -0.435841, but must be positive finite! (in '/home/car_prices_pr/DA/project/stan_files/exp_model2_fit.stan', line 31, column 4 to column 52)\n",
      "\tException: exponential_lpdf: Inverse scale parameter is -24.0357, but must be positive finite! (in '/home/car_prices_pr/DA/project/stan_files/exp_model2_fit.stan', line 31, column 4 to column 52)\n",
      "\tException: exponential_lpdf: Inverse scale parameter is -0.740363, but must be positive finite! (in '/home/car_prices_pr/DA/project/stan_files/exp_model2_fit.stan', line 31, column 4 to column 52)\n",
      "\tException: exponential_lpdf: Inverse scale parameter is -0.318446, but must be positive finite! (in '/home/car_prices_pr/DA/project/stan_files/exp_model2_fit.stan', line 31, column 4 to column 52)\n",
      "\tException: exponential_lpdf: Inverse scale parameter is -0.817543, but must be positive finite! (in '/home/car_prices_pr/DA/project/stan_files/exp_model2_fit.stan', line 31, column 4 to column 52)\n",
      "\tException: exponential_lpdf: Inverse scale parameter is -0.0032867, but must be positive finite! (in '/home/car_prices_pr/DA/project/stan_files/exp_model2_fit.stan', line 31, column 4 to column 52)\n",
      "\tException: exponential_lpdf: Inverse scale parameter is -0.410501, but must be positive finite! (in '/home/car_prices_pr/DA/project/stan_files/exp_model2_fit.stan', line 31, column 4 to column 52)\n",
      "\tException: exponential_lpdf: Inverse scale parameter is -0.676755, but must be positive finite! (in '/home/car_prices_pr/DA/project/stan_files/exp_model2_fit.stan', line 31, column 4 to column 52)\n",
      "\tException: exponential_lpdf: Inverse scale parameter is -0.816889, but must be positive finite! (in '/home/car_prices_pr/DA/project/stan_files/exp_model2_fit.stan', line 31, column 4 to column 52)\n",
      "\tException: exponential_lpdf: Inverse scale parameter is -0.160111, but must be positive finite! (in '/home/car_prices_pr/DA/project/stan_files/exp_model2_fit.stan', line 31, column 4 to column 52)\n",
      "Exception: exponential_lpdf: Inverse scale parameter is -0.396344, but must be positive finite! (in '/home/car_prices_pr/DA/project/stan_files/exp_model2_fit.stan', line 31, column 4 to column 52)\n",
      "\tException: exponential_lpdf: Inverse scale parameter is -1.15484e+205, but must be positive finite! (in '/home/car_prices_pr/DA/project/stan_files/exp_model2_fit.stan', line 31, column 4 to column 52)\n",
      "\tException: exponential_lpdf: Inverse scale parameter is -2.44781e+205, but must be positive finite! (in '/home/car_prices_pr/DA/project/stan_files/exp_model2_fit.stan', line 31, column 4 to column 52)\n",
      "\tException: exponential_lpdf: Inverse scale parameter is -2.63619e+52, but must be positive finite! (in '/home/car_prices_pr/DA/project/stan_files/exp_model2_fit.stan', line 31, column 4 to column 52)\n",
      "\tException: exponential_lpdf: Inverse scale parameter is -2.0276e+13, but must be positive finite! (in '/home/car_prices_pr/DA/project/stan_files/exp_model2_fit.stan', line 31, column 4 to column 52)\n",
      "\tException: exponential_lpdf: Inverse scale parameter is -1047.05, but must be positive finite! (in '/home/car_prices_pr/DA/project/stan_files/exp_model2_fit.stan', line 31, column 4 to column 52)\n",
      "\tException: exponential_lpdf: Inverse scale parameter is -0.0683151, but must be positive finite! (in '/home/car_prices_pr/DA/project/stan_files/exp_model2_fit.stan', line 31, column 4 to column 52)\n",
      "\tException: exponential_lpdf: Inverse scale parameter is -0.0289394, but must be positive finite! (in '/home/car_prices_pr/DA/project/stan_files/exp_model2_fit.stan', line 31, column 4 to column 52)\n",
      "\tException: exponential_lpdf: Inverse scale parameter is -0.000673444, but must be positive finite! (in '/home/car_prices_pr/DA/project/stan_files/exp_model2_fit.stan', line 31, column 4 to column 52)\n",
      "\tException: exponential_lpdf: Inverse scale parameter is -inf, but must be positive finite! (in '/home/car_prices_pr/DA/project/stan_files/exp_model2_fit.stan', line 31, column 4 to column 52)\n",
      "\tException: exponential_lpdf: Inverse scale parameter is -inf, but must be positive finite! (in '/home/car_prices_pr/DA/project/stan_files/exp_model2_fit.stan', line 31, column 4 to column 52)\n",
      "\tException: exponential_lpdf: Inverse scale parameter is -5807.03, but must be positive finite! (in '/home/car_prices_pr/DA/project/stan_files/exp_model2_fit.stan', line 31, column 4 to column 52)\n",
      "\tException: exponential_lpdf: Inverse scale parameter is -11.8923, but must be positive finite! (in '/home/car_prices_pr/DA/project/stan_files/exp_model2_fit.stan', line 31, column 4 to column 52)\n",
      "\tException: exponential_lpdf: Inverse scale parameter is -0.399265, but must be positive finite! (in '/home/car_prices_pr/DA/project/stan_files/exp_model2_fit.stan', line 31, column 4 to column 52)\n",
      "\tException: exponential_lpdf: Inverse scale parameter is -0.0353218, but must be positive finite! (in '/home/car_prices_pr/DA/project/stan_files/exp_model2_fit.stan', line 31, column 4 to column 52)\n",
      "\tException: exponential_lpdf: Inverse scale parameter is -0.0742587, but must be positive finite! (in '/home/car_prices_pr/DA/project/stan_files/exp_model2_fit.stan', line 31, column 4 to column 52)\n",
      "\tException: exponential_lpdf: Inverse scale parameter is -0.572559, but must be positive finite! (in '/home/car_prices_pr/DA/project/stan_files/exp_model2_fit.stan', line 31, column 4 to column 52)\n",
      "\tException: exponential_lpdf: Inverse scale parameter is -0.0457555, but must be positive finite! (in '/home/car_prices_pr/DA/project/stan_files/exp_model2_fit.stan', line 31, column 4 to column 52)\n",
      "\tException: exponential_lpdf: Inverse scale parameter is -0.785287, but must be positive finite! (in '/home/car_prices_pr/DA/project/stan_files/exp_model2_fit.stan', line 31, column 4 to column 52)\n",
      "\tException: exponential_lpdf: Inverse scale parameter is -0.592968, but must be positive finite! (in '/home/car_prices_pr/DA/project/stan_files/exp_model2_fit.stan', line 31, column 4 to column 52)\n",
      "\tException: exponential_lpdf: Inverse scale parameter is -0.759623, but must be positive finite! (in '/home/car_prices_pr/DA/project/stan_files/exp_model2_fit.stan', line 31, column 4 to column 52)\n",
      "\tException: exponential_lpdf: Inverse scale parameter is -0.298892, but must be positive finite! (in '/home/car_prices_pr/DA/project/stan_files/exp_model2_fit.stan', line 31, column 4 to column 52)\n",
      "\tException: exponential_lpdf: Inverse scale parameter is -0.331637, but must be positive finite! (in '/home/car_prices_pr/DA/project/stan_files/exp_model2_fit.stan', line 31, column 4 to column 52)\n",
      "\tException: exponential_lpdf: Inverse scale parameter is -0.48774, but must be positive finite! (in '/home/car_prices_pr/DA/project/stan_files/exp_model2_fit.stan', line 31, column 4 to column 52)\n",
      "\tException: exponential_lpdf: Inverse scale parameter is -0.737833, but must be positive finite! (in '/home/car_prices_pr/DA/project/stan_files/exp_model2_fit.stan', line 31, column 4 to column 52)\n",
      "\tException: exponential_lpdf: Inverse scale parameter is -0.0373787, but must be positive finite! (in '/home/car_prices_pr/DA/project/stan_files/exp_model2_fit.stan', line 31, column 4 to column 52)\n",
      "\tException: exponential_lpdf: Inverse scale parameter is -0.00558862, but must be positive finite! (in '/home/car_prices_pr/DA/project/stan_files/exp_model2_fit.stan', line 31, column 4 to column 52)\n",
      "\tException: exponential_lpdf: Inverse scale parameter is -0.477384, but must be positive finite! (in '/home/car_prices_pr/DA/project/stan_files/exp_model2_fit.stan', line 31, column 4 to column 52)\n",
      "Exception: exponential_lpdf: Inverse scale parameter is -inf, but must be positive finite! (in '/home/car_prices_pr/DA/project/stan_files/exp_model2_fit.stan', line 31, column 4 to column 52)\n",
      "\tException: exponential_lpdf: Inverse scale parameter is -inf, but must be positive finite! (in '/home/car_prices_pr/DA/project/stan_files/exp_model2_fit.stan', line 31, column 4 to column 52)\n",
      "\tException: exponential_lpdf: Inverse scale parameter is -2.16413e+151, but must be positive finite! (in '/home/car_prices_pr/DA/project/stan_files/exp_model2_fit.stan', line 31, column 4 to column 52)\n",
      "\tException: exponential_lpdf: Inverse scale parameter is -2.43964e+39, but must be positive finite! (in '/home/car_prices_pr/DA/project/stan_files/exp_model2_fit.stan', line 31, column 4 to column 52)\n",
      "\tException: exponential_lpdf: Inverse scale parameter is -1.169e+11, but must be positive finite! (in '/home/car_prices_pr/DA/project/stan_files/exp_model2_fit.stan', line 31, column 4 to column 52)\n",
      "\tException: exponential_lpdf: Inverse scale parameter is -2611.37, but must be positive finite! (in '/home/car_prices_pr/DA/project/stan_files/exp_model2_fit.stan', line 31, column 4 to column 52)\n",
      "\tException: exponential_lpdf: Inverse scale parameter is -0.142399, but must be positive finite! (in '/home/car_prices_pr/DA/project/stan_files/exp_model2_fit.stan', line 31, column 4 to column 52)\n",
      "\tException: exponential_lpdf: Inverse scale parameter is -inf, but must be positive finite! (in '/home/car_prices_pr/DA/project/stan_files/exp_model2_fit.stan', line 31, column 4 to column 52)\n",
      "\tException: exponential_lpdf: Inverse scale parameter is -inf, but must be positive finite! (in '/home/car_prices_pr/DA/project/stan_files/exp_model2_fit.stan', line 31, column 4 to column 52)\n",
      "\tException: exponential_lpdf: Inverse scale parameter is -16532.9, but must be positive finite! (in '/home/car_prices_pr/DA/project/stan_files/exp_model2_fit.stan', line 31, column 4 to column 52)\n",
      "\tException: exponential_lpdf: Inverse scale parameter is -0.103356, but must be positive finite! (in '/home/car_prices_pr/DA/project/stan_files/exp_model2_fit.stan', line 31, column 4 to column 52)\n",
      "\tException: exponential_lpdf: Inverse scale parameter is -0.399053, but must be positive finite! (in '/home/car_prices_pr/DA/project/stan_files/exp_model2_fit.stan', line 31, column 4 to column 52)\n",
      "\tException: exponential_lpdf: Inverse scale parameter is -0.0335631, but must be positive finite! (in '/home/car_prices_pr/DA/project/stan_files/exp_model2_fit.stan', line 31, column 4 to column 52)\n",
      "\tException: exponential_lpdf: Inverse scale parameter is -0.00710062, but must be positive finite! (in '/home/car_prices_pr/DA/project/stan_files/exp_model2_fit.stan', line 31, column 4 to column 52)\n",
      "\tException: exponential_lpdf: Inverse scale parameter is -0.00515344, but must be positive finite! (in '/home/car_prices_pr/DA/project/stan_files/exp_model2_fit.stan', line 31, column 4 to column 52)\n",
      "\tException: exponential_lpdf: Inverse scale parameter is -0.0158606, but must be positive finite! (in '/home/car_prices_pr/DA/project/stan_files/exp_model2_fit.stan', line 31, column 4 to column 52)\n",
      "\tException: exponential_lpdf: Inverse scale parameter is -0.00678226, but must be positive finite! (in '/home/car_prices_pr/DA/project/stan_files/exp_model2_fit.stan', line 31, column 4 to column 52)\n",
      "\tException: exponential_lpdf: Inverse scale parameter is -0.00251414, but must be positive finite! (in '/home/car_prices_pr/DA/project/stan_files/exp_model2_fit.stan', line 31, column 4 to column 52)\n",
      "\tException: exponential_lpdf: Inverse scale parameter is -0.0795306, but must be positive finite! (in '/home/car_prices_pr/DA/project/stan_files/exp_model2_fit.stan', line 31, column 4 to column 52)\n",
      "\tException: exponential_lpdf: Inverse scale parameter is -0.0256156, but must be positive finite! (in '/home/car_prices_pr/DA/project/stan_files/exp_model2_fit.stan', line 31, column 4 to column 52)\n",
      "\tException: exponential_lpdf: Inverse scale parameter is -0.0494313, but must be positive finite! (in '/home/car_prices_pr/DA/project/stan_files/exp_model2_fit.stan', line 31, column 4 to column 52)\n",
      "\tException: exponential_lpdf: Inverse scale parameter is -0.00168463, but must be positive finite! (in '/home/car_prices_pr/DA/project/stan_files/exp_model2_fit.stan', line 31, column 4 to column 52)\n",
      "\tException: exponential_lpdf: Inverse scale parameter is -0.000560757, but must be positive finite! (in '/home/car_prices_pr/DA/project/stan_files/exp_model2_fit.stan', line 31, column 4 to column 52)\n",
      "\tException: exponential_lpdf: Inverse scale parameter is -0.00192674, but must be positive finite! (in '/home/car_prices_pr/DA/project/stan_files/exp_model2_fit.stan', line 31, column 4 to column 52)\n",
      "\tException: exponential_lpdf: Inverse scale parameter is -0.0337218, but must be positive finite! (in '/home/car_prices_pr/DA/project/stan_files/exp_model2_fit.stan', line 31, column 4 to column 52)\n",
      "\tException: exponential_lpdf: Inverse scale parameter is -0.143315, but must be positive finite! (in '/home/car_prices_pr/DA/project/stan_files/exp_model2_fit.stan', line 31, column 4 to column 52)\n",
      "\tException: exponential_lpdf: Inverse scale parameter is -0.0146012, but must be positive finite! (in '/home/car_prices_pr/DA/project/stan_files/exp_model2_fit.stan', line 31, column 4 to column 52)\n",
      "\tException: exponential_lpdf: Inverse scale parameter is -0.00638701, but must be positive finite! (in '/home/car_prices_pr/DA/project/stan_files/exp_model2_fit.stan', line 31, column 4 to column 52)\n",
      "\tException: exponential_lpdf: Inverse scale parameter is -0.0273479, but must be positive finite! (in '/home/car_prices_pr/DA/project/stan_files/exp_model2_fit.stan', line 31, column 4 to column 52)\n",
      "\tException: exponential_lpdf: Inverse scale parameter is -0.00241116, but must be positive finite! (in '/home/car_prices_pr/DA/project/stan_files/exp_model2_fit.stan', line 31, column 4 to column 52)\n",
      "\tException: exponential_lpdf: Inverse scale parameter is -0.00910274, but must be positive finite! (in '/home/car_prices_pr/DA/project/stan_files/exp_model2_fit.stan', line 31, column 4 to column 52)\n",
      "\tException: exponential_lpdf: Inverse scale parameter is -0.0166819, but must be positive finite! (in '/home/car_prices_pr/DA/project/stan_files/exp_model2_fit.stan', line 31, column 4 to column 52)\n",
      "\tException: exponential_lpdf: Inverse scale parameter is -0.030195, but must be positive finite! (in '/home/car_prices_pr/DA/project/stan_files/exp_model2_fit.stan', line 31, column 4 to column 52)\n",
      "\tException: exponential_lpdf: Inverse scale parameter is -0.00242109, but must be positive finite! (in '/home/car_prices_pr/DA/project/stan_files/exp_model2_fit.stan', line 31, column 4 to column 52)\n",
      "\tException: exponential_lpdf: Inverse scale parameter is -0.00283807, but must be positive finite! (in '/home/car_prices_pr/DA/project/stan_files/exp_model2_fit.stan', line 31, column 4 to column 52)\n",
      "\tException: exponential_lpdf: Inverse scale parameter is -0.00409308, but must be positive finite! (in '/home/car_prices_pr/DA/project/stan_files/exp_model2_fit.stan', line 31, column 4 to column 52)\n",
      "\tException: exponential_lpdf: Inverse scale parameter is -0.0533857, but must be positive finite! (in '/home/car_prices_pr/DA/project/stan_files/exp_model2_fit.stan', line 31, column 4 to column 52)\n",
      "\tException: exponential_lpdf: Inverse scale parameter is -0.884407, but must be positive finite! (in '/home/car_prices_pr/DA/project/stan_files/exp_model2_fit.stan', line 31, column 4 to column 52)\n",
      "\tException: exponential_lpdf: Inverse scale parameter is -0.0268795, but must be positive finite! (in '/home/car_prices_pr/DA/project/stan_files/exp_model2_fit.stan', line 31, column 4 to column 52)\n",
      "\tException: exponential_lpdf: Inverse scale parameter is -0.00267675, but must be positive finite! (in '/home/car_prices_pr/DA/project/stan_files/exp_model2_fit.stan', line 31, column 4 to column 52)\n",
      "\tException: exponential_lpdf: Inverse scale parameter is -0.00961263, but must be positive finite! (in '/home/car_prices_pr/DA/project/stan_files/exp_model2_fit.stan', line 31, column 4 to column 52)\n",
      "\tException: exponential_lpdf: Inverse scale parameter is -0.0301841, but must be positive finite! (in '/home/car_prices_pr/DA/project/stan_files/exp_model2_fit.stan', line 31, column 4 to column 52)\n",
      "\tException: exponential_lpdf: Inverse scale parameter is -0.0040393, but must be positive finite! (in '/home/car_prices_pr/DA/project/stan_files/exp_model2_fit.stan', line 31, column 4 to column 52)\n",
      "\tException: exponential_lpdf: Inverse scale parameter is -0.00133924, but must be positive finite! (in '/home/car_prices_pr/DA/project/stan_files/exp_model2_fit.stan', line 31, column 4 to column 52)\n",
      "\tException: exponential_lpdf: Inverse scale parameter is -0.413083, but must be positive finite! (in '/home/car_prices_pr/DA/project/stan_files/exp_model2_fit.stan', line 31, column 4 to column 52)\n",
      "\tException: exponential_lpdf: Inverse scale parameter is -0.0162003, but must be positive finite! (in '/home/car_prices_pr/DA/project/stan_files/exp_model2_fit.stan', line 31, column 4 to column 52)\n",
      "\tException: exponential_lpdf: Inverse scale parameter is -0.0272754, but must be positive finite! (in '/home/car_prices_pr/DA/project/stan_files/exp_model2_fit.stan', line 31, column 4 to column 52)\n",
      "\tException: exponential_lpdf: Inverse scale parameter is -0.0244833, but must be positive finite! (in '/home/car_prices_pr/DA/project/stan_files/exp_model2_fit.stan', line 31, column 4 to column 52)\n",
      "\tException: exponential_lpdf: Inverse scale parameter is -0.000624621, but must be positive finite! (in '/home/car_prices_pr/DA/project/stan_files/exp_model2_fit.stan', line 31, column 4 to column 52)\n",
      "\tException: exponential_lpdf: Inverse scale parameter is -0.0109097, but must be positive finite! (in '/home/car_prices_pr/DA/project/stan_files/exp_model2_fit.stan', line 31, column 4 to column 52)\n",
      "\tException: exponential_lpdf: Inverse scale parameter is -0.0683449, but must be positive finite! (in '/home/car_prices_pr/DA/project/stan_files/exp_model2_fit.stan', line 31, column 4 to column 52)\n",
      "\tException: exponential_lpdf: Inverse scale parameter is -0.0325919, but must be positive finite! (in '/home/car_prices_pr/DA/project/stan_files/exp_model2_fit.stan', line 31, column 4 to column 52)\n",
      "\tException: exponential_lpdf: Inverse scale parameter is -0.207553, but must be positive finite! (in '/home/car_prices_pr/DA/project/stan_files/exp_model2_fit.stan', line 31, column 4 to column 52)\n",
      "\tException: exponential_lpdf: Inverse scale parameter is -0.230088, but must be positive finite! (in '/home/car_prices_pr/DA/project/stan_files/exp_model2_fit.stan', line 31, column 4 to column 52)\n",
      "\tException: exponential_lpdf: Inverse scale parameter is -0.334283, but must be positive finite! (in '/home/car_prices_pr/DA/project/stan_files/exp_model2_fit.stan', line 31, column 4 to column 52)\n",
      "\tException: exponential_lpdf: Inverse scale parameter is -0.970902, but must be positive finite! (in '/home/car_prices_pr/DA/project/stan_files/exp_model2_fit.stan', line 31, column 4 to column 52)\n",
      "\tException: exponential_lpdf: Inverse scale parameter is -0.577202, but must be positive finite! (in '/home/car_prices_pr/DA/project/stan_files/exp_model2_fit.stan', line 31, column 4 to column 52)\n",
      "\tException: exponential_lpdf: Inverse scale parameter is -0.842261, but must be positive finite! (in '/home/car_prices_pr/DA/project/stan_files/exp_model2_fit.stan', line 31, column 4 to column 52)\n",
      "\tException: exponential_lpdf: Inverse scale parameter is -0.445774, but must be positive finite! (in '/home/car_prices_pr/DA/project/stan_files/exp_model2_fit.stan', line 31, column 4 to column 52)\n",
      "\tException: exponential_lpdf: Inverse scale parameter is -0.337145, but must be positive finite! (in '/home/car_prices_pr/DA/project/stan_files/exp_model2_fit.stan', line 31, column 4 to column 52)\n",
      "\tException: exponential_lpdf: Inverse scale parameter is -0.543644, but must be positive finite! (in '/home/car_prices_pr/DA/project/stan_files/exp_model2_fit.stan', line 31, column 4 to column 52)\n",
      "\tException: exponential_lpdf: Inverse scale parameter is -0.141059, but must be positive finite! (in '/home/car_prices_pr/DA/project/stan_files/exp_model2_fit.stan', line 31, column 4 to column 52)\n",
      "\tException: exponential_lpdf: Inverse scale parameter is -0.755396, but must be positive finite! (in '/home/car_prices_pr/DA/project/stan_files/exp_model2_fit.stan', line 31, column 4 to column 52)\n",
      "\tException: exponential_lpdf: Inverse scale parameter is -10.8037, but must be positive finite! (in '/home/car_prices_pr/DA/project/stan_files/exp_model2_fit.stan', line 31, column 4 to column 52)\n",
      "\tException: exponential_lpdf: Inverse scale parameter is -1.01451, but must be positive finite! (in '/home/car_prices_pr/DA/project/stan_files/exp_model2_fit.stan', line 31, column 4 to column 52)\n",
      "\tException: exponential_lpdf: Inverse scale parameter is -0.543744, but must be positive finite! (in '/home/car_prices_pr/DA/project/stan_files/exp_model2_fit.stan', line 31, column 4 to column 52)\n",
      "\tException: exponential_lpdf: Inverse scale parameter is -0.242051, but must be positive finite! (in '/home/car_prices_pr/DA/project/stan_files/exp_model2_fit.stan', line 31, column 4 to column 52)\n",
      "\tException: exponential_lpdf: Inverse scale parameter is -0.47389, but must be positive finite! (in '/home/car_prices_pr/DA/project/stan_files/exp_model2_fit.stan', line 31, column 4 to column 52)\n",
      "\tException: exponential_lpdf: Inverse scale parameter is -3.38767, but must be positive finite! (in '/home/car_prices_pr/DA/project/stan_files/exp_model2_fit.stan', line 31, column 4 to column 52)\n",
      "\tException: exponential_lpdf: Inverse scale parameter is -0.0730289, but must be positive finite! (in '/home/car_prices_pr/DA/project/stan_files/exp_model2_fit.stan', line 31, column 4 to column 52)\n",
      "\tException: exponential_lpdf: Inverse scale parameter is -1.04428, but must be positive finite! (in '/home/car_prices_pr/DA/project/stan_files/exp_model2_fit.stan', line 31, column 4 to column 52)\n",
      "Consider re-running with show_console=True if the above output is unclear!\n"
     ]
    },
    {
     "name": "stdout",
     "output_type": "stream",
     "text": [
      "\n"
     ]
    },
    {
     "data": {
      "text/html": [
       "<div>\n",
       "<style scoped>\n",
       "    .dataframe tbody tr th:only-of-type {\n",
       "        vertical-align: middle;\n",
       "    }\n",
       "\n",
       "    .dataframe tbody tr th {\n",
       "        vertical-align: top;\n",
       "    }\n",
       "\n",
       "    .dataframe thead th {\n",
       "        text-align: right;\n",
       "    }\n",
       "</style>\n",
       "<table border=\"1\" class=\"dataframe\">\n",
       "  <thead>\n",
       "    <tr style=\"text-align: right;\">\n",
       "      <th></th>\n",
       "      <th>lp__</th>\n",
       "      <th>accept_stat__</th>\n",
       "      <th>stepsize__</th>\n",
       "      <th>treedepth__</th>\n",
       "      <th>n_leapfrog__</th>\n",
       "      <th>divergent__</th>\n",
       "      <th>energy__</th>\n",
       "      <th>alpha</th>\n",
       "      <th>beta1</th>\n",
       "      <th>beta2</th>\n",
       "      <th>...</th>\n",
       "      <th>log_lik[769]</th>\n",
       "      <th>log_lik[770]</th>\n",
       "      <th>log_lik[771]</th>\n",
       "      <th>log_lik[772]</th>\n",
       "      <th>log_lik[773]</th>\n",
       "      <th>log_lik[774]</th>\n",
       "      <th>log_lik[775]</th>\n",
       "      <th>log_lik[776]</th>\n",
       "      <th>log_lik[777]</th>\n",
       "      <th>log_lik[778]</th>\n",
       "    </tr>\n",
       "  </thead>\n",
       "  <tbody>\n",
       "    <tr>\n",
       "      <th>0</th>\n",
       "      <td>560.390</td>\n",
       "      <td>0.837326</td>\n",
       "      <td>0.437882</td>\n",
       "      <td>2.0</td>\n",
       "      <td>7.0</td>\n",
       "      <td>0.0</td>\n",
       "      <td>-558.364</td>\n",
       "      <td>0.205592</td>\n",
       "      <td>0.140972</td>\n",
       "      <td>0.104569</td>\n",
       "      <td>...</td>\n",
       "      <td>1.12870</td>\n",
       "      <td>1.48427</td>\n",
       "      <td>1.12778</td>\n",
       "      <td>1.57887</td>\n",
       "      <td>0.883291</td>\n",
       "      <td>1.25273</td>\n",
       "      <td>0.155661</td>\n",
       "      <td>1.30278</td>\n",
       "      <td>1.47530</td>\n",
       "      <td>0.876174</td>\n",
       "    </tr>\n",
       "    <tr>\n",
       "      <th>1</th>\n",
       "      <td>559.187</td>\n",
       "      <td>0.999653</td>\n",
       "      <td>0.437882</td>\n",
       "      <td>3.0</td>\n",
       "      <td>7.0</td>\n",
       "      <td>0.0</td>\n",
       "      <td>-557.994</td>\n",
       "      <td>0.218823</td>\n",
       "      <td>0.149800</td>\n",
       "      <td>0.123871</td>\n",
       "      <td>...</td>\n",
       "      <td>1.12187</td>\n",
       "      <td>1.52321</td>\n",
       "      <td>1.13250</td>\n",
       "      <td>1.63926</td>\n",
       "      <td>0.854922</td>\n",
       "      <td>1.23016</td>\n",
       "      <td>0.037639</td>\n",
       "      <td>1.34508</td>\n",
       "      <td>1.47203</td>\n",
       "      <td>0.843799</td>\n",
       "    </tr>\n",
       "    <tr>\n",
       "      <th>2</th>\n",
       "      <td>560.906</td>\n",
       "      <td>1.000000</td>\n",
       "      <td>0.437882</td>\n",
       "      <td>3.0</td>\n",
       "      <td>15.0</td>\n",
       "      <td>0.0</td>\n",
       "      <td>-558.348</td>\n",
       "      <td>0.202366</td>\n",
       "      <td>0.133899</td>\n",
       "      <td>0.117019</td>\n",
       "      <td>...</td>\n",
       "      <td>1.12750</td>\n",
       "      <td>1.49518</td>\n",
       "      <td>1.13088</td>\n",
       "      <td>1.60230</td>\n",
       "      <td>0.875397</td>\n",
       "      <td>1.24680</td>\n",
       "      <td>0.110464</td>\n",
       "      <td>1.32207</td>\n",
       "      <td>1.47538</td>\n",
       "      <td>0.866772</td>\n",
       "    </tr>\n",
       "    <tr>\n",
       "      <th>3</th>\n",
       "      <td>560.834</td>\n",
       "      <td>0.887395</td>\n",
       "      <td>0.437882</td>\n",
       "      <td>3.0</td>\n",
       "      <td>7.0</td>\n",
       "      <td>0.0</td>\n",
       "      <td>-558.796</td>\n",
       "      <td>0.197105</td>\n",
       "      <td>0.110171</td>\n",
       "      <td>0.110364</td>\n",
       "      <td>...</td>\n",
       "      <td>1.12752</td>\n",
       "      <td>1.50026</td>\n",
       "      <td>1.13177</td>\n",
       "      <td>1.62314</td>\n",
       "      <td>0.875022</td>\n",
       "      <td>1.25180</td>\n",
       "      <td>0.109269</td>\n",
       "      <td>1.34253</td>\n",
       "      <td>1.47524</td>\n",
       "      <td>0.867060</td>\n",
       "    </tr>\n",
       "    <tr>\n",
       "      <th>4</th>\n",
       "      <td>561.584</td>\n",
       "      <td>0.850461</td>\n",
       "      <td>0.437882</td>\n",
       "      <td>3.0</td>\n",
       "      <td>7.0</td>\n",
       "      <td>0.0</td>\n",
       "      <td>-558.167</td>\n",
       "      <td>0.201052</td>\n",
       "      <td>0.127939</td>\n",
       "      <td>0.109552</td>\n",
       "      <td>...</td>\n",
       "      <td>1.12837</td>\n",
       "      <td>1.48940</td>\n",
       "      <td>1.12984</td>\n",
       "      <td>1.59599</td>\n",
       "      <td>0.880354</td>\n",
       "      <td>1.25217</td>\n",
       "      <td>0.135663</td>\n",
       "      <td>1.31907</td>\n",
       "      <td>1.47529</td>\n",
       "      <td>0.872798</td>\n",
       "    </tr>\n",
       "  </tbody>\n",
       "</table>\n",
       "<p>5 rows × 2346 columns</p>\n",
       "</div>"
      ],
      "text/plain": [
       "      lp__  accept_stat__  stepsize__  treedepth__  n_leapfrog__  divergent__  \\\n",
       "0  560.390       0.837326    0.437882          2.0           7.0          0.0   \n",
       "1  559.187       0.999653    0.437882          3.0           7.0          0.0   \n",
       "2  560.906       1.000000    0.437882          3.0          15.0          0.0   \n",
       "3  560.834       0.887395    0.437882          3.0           7.0          0.0   \n",
       "4  561.584       0.850461    0.437882          3.0           7.0          0.0   \n",
       "\n",
       "   energy__     alpha     beta1     beta2  ...  log_lik[769]  log_lik[770]  \\\n",
       "0  -558.364  0.205592  0.140972  0.104569  ...       1.12870       1.48427   \n",
       "1  -557.994  0.218823  0.149800  0.123871  ...       1.12187       1.52321   \n",
       "2  -558.348  0.202366  0.133899  0.117019  ...       1.12750       1.49518   \n",
       "3  -558.796  0.197105  0.110171  0.110364  ...       1.12752       1.50026   \n",
       "4  -558.167  0.201052  0.127939  0.109552  ...       1.12837       1.48940   \n",
       "\n",
       "   log_lik[771]  log_lik[772]  log_lik[773]  log_lik[774]  log_lik[775]  \\\n",
       "0       1.12778       1.57887      0.883291       1.25273      0.155661   \n",
       "1       1.13250       1.63926      0.854922       1.23016      0.037639   \n",
       "2       1.13088       1.60230      0.875397       1.24680      0.110464   \n",
       "3       1.13177       1.62314      0.875022       1.25180      0.109269   \n",
       "4       1.12984       1.59599      0.880354       1.25217      0.135663   \n",
       "\n",
       "   log_lik[776]  log_lik[777]  log_lik[778]  \n",
       "0       1.30278       1.47530      0.876174  \n",
       "1       1.34508       1.47203      0.843799  \n",
       "2       1.32207       1.47538      0.866772  \n",
       "3       1.34253       1.47524      0.867060  \n",
       "4       1.31907       1.47529      0.872798  \n",
       "\n",
       "[5 rows x 2346 columns]"
      ]
     },
     "execution_count": 77,
     "metadata": {},
     "output_type": "execute_result"
    }
   ],
   "source": [
    "model_exp2_fit = cmdstanpy.CmdStanModel(stan_file='stan_files/exp_model2_fit.stan')\n",
    "N = len(audi_a3_2000ccm_standarized)\n",
    "#Parameters\n",
    "\n",
    "data = {\"N\": N, \n",
    "        \"mileage\" : audi_a3_2000ccm_standarized['Mileage_km'],\n",
    "        \"production_year\" : audi_a3_2000ccm_standarized['Production_year'],\n",
    "        \"price_observed\": audi_a3_2000ccm_standarized['Price']\n",
    "        }\n",
    "\n",
    "sim_exp_pos2_fit=model_exp2_fit.sample(data=data)\n",
    "sim_exp_pos2_fit_pd = sim_exp_pos2_fit.draws_pd()\n",
    "sim_exp_pos2_fit_pd.head()"
   ]
  },
  {
   "cell_type": "code",
   "execution_count": 78,
   "metadata": {},
   "outputs": [
    {
     "data": {
      "image/png": "[encoded data removed]",
      "text/plain": [
       "<Figure size 1728x360 with 5 Axes>"
      ]
     },
     "metadata": {
      "needs_background": "light"
     },
     "output_type": "display_data"
    }
   ],
   "source": [
    "_, ax = plt.subplots(1, 5, figsize=(24, 5))\n",
    "ax = ax.flatten()\n",
    "sns.histplot(data=sim_exp_pos2_fit_pd, x=\"alpha\", stat=\"density\", ax=ax[0], bins=BINS)\n",
    "sns.histplot(data=sim_exp_pos2_fit_pd, x=\"beta1\", stat=\"density\", ax=ax[1], bins=BINS)\n",
    "sns.histplot(data=sim_exp_pos2_fit_pd, x=\"beta2\", stat=\"density\", ax=ax[2], bins=BINS)\n",
    "sns.histplot(data=sim_exp_pos2_fit_pd, x=\"price_estimated[1]\", stat=\"density\", ax=ax[3], bins=BINS)\n",
    "\n",
    "ax[4].hist(sim_exp_pos2_fit_pd[\"price_estimated[1]\"], bins=BINS, alpha=0.5, density=True, label=\"Posterior\")\n",
    "ax[4].hist(audi_a3_2000ccm_standarized[\"Price\"], bins=BINS, alpha=0.5, density=True, label=\"Model samples\")\n",
    "\n",
    "\n",
    "ax[0].grid()\n",
    "ax[1].grid()\n",
    "ax[2].grid()\n",
    "ax[3].grid()\n",
    "\n",
    "ax[0].set_xlabel(\"alpha\"), \n",
    "ax[1].set_xlabel(\"beta1\"), \n",
    "ax[2].set_xlabel(\"beta2\"), \n",
    "ax[3].set_xlabel(\"Predicted prices\"), \n",
    "ax[4].set_xlabel(\"Predicted prices vs dataset prices\")\n",
    "\n",
    "ax[4].set_ylabel(\"Density\")\n",
    "ax[4].legend()\n",
    "plt.suptitle(\"Histograms\")\n",
    "plt.show()"
   ]
  },
  {
   "cell_type": "code",
   "execution_count": 79,
   "metadata": {},
   "outputs": [
    {
     "data": {
      "text/html": [
       "<div>\n",
       "<style scoped>\n",
       "    .dataframe tbody tr th:only-of-type {\n",
       "        vertical-align: middle;\n",
       "    }\n",
       "\n",
       "    .dataframe tbody tr th {\n",
       "        vertical-align: top;\n",
       "    }\n",
       "\n",
       "    .dataframe thead th {\n",
       "        text-align: right;\n",
       "    }\n",
       "</style>\n",
       "<table border=\"1\" class=\"dataframe\">\n",
       "  <thead>\n",
       "    <tr style=\"text-align: right;\">\n",
       "      <th></th>\n",
       "      <th>Mean</th>\n",
       "      <th>MCSE</th>\n",
       "      <th>StdDev</th>\n",
       "      <th>5%</th>\n",
       "      <th>50%</th>\n",
       "      <th>95%</th>\n",
       "      <th>N_Eff</th>\n",
       "      <th>N_Eff/s</th>\n",
       "      <th>R_hat</th>\n",
       "    </tr>\n",
       "  </thead>\n",
       "  <tbody>\n",
       "    <tr>\n",
       "      <th>lp__</th>\n",
       "      <td>559.653000</td>\n",
       "      <td>0.035873</td>\n",
       "      <td>1.594030</td>\n",
       "      <td>556.579000</td>\n",
       "      <td>559.972000</td>\n",
       "      <td>561.600000</td>\n",
       "      <td>1974.53</td>\n",
       "      <td>182.996</td>\n",
       "      <td>0.999913</td>\n",
       "    </tr>\n",
       "    <tr>\n",
       "      <th>alpha</th>\n",
       "      <td>0.207764</td>\n",
       "      <td>0.000240</td>\n",
       "      <td>0.011628</td>\n",
       "      <td>0.188496</td>\n",
       "      <td>0.207444</td>\n",
       "      <td>0.227022</td>\n",
       "      <td>2353.33</td>\n",
       "      <td>218.103</td>\n",
       "      <td>1.001290</td>\n",
       "    </tr>\n",
       "    <tr>\n",
       "      <th>beta1</th>\n",
       "      <td>0.130950</td>\n",
       "      <td>0.000323</td>\n",
       "      <td>0.016536</td>\n",
       "      <td>0.104115</td>\n",
       "      <td>0.130913</td>\n",
       "      <td>0.158260</td>\n",
       "      <td>2622.57</td>\n",
       "      <td>243.056</td>\n",
       "      <td>1.000410</td>\n",
       "    </tr>\n",
       "    <tr>\n",
       "      <th>beta2</th>\n",
       "      <td>0.107141</td>\n",
       "      <td>0.000289</td>\n",
       "      <td>0.016439</td>\n",
       "      <td>0.079880</td>\n",
       "      <td>0.107427</td>\n",
       "      <td>0.134030</td>\n",
       "      <td>3224.85</td>\n",
       "      <td>298.874</td>\n",
       "      <td>1.000410</td>\n",
       "    </tr>\n",
       "    <tr>\n",
       "      <th>sigma</th>\n",
       "      <td>0.149928</td>\n",
       "      <td>0.000346</td>\n",
       "      <td>0.020343</td>\n",
       "      <td>0.116757</td>\n",
       "      <td>0.150055</td>\n",
       "      <td>0.182622</td>\n",
       "      <td>3460.46</td>\n",
       "      <td>320.710</td>\n",
       "      <td>0.999825</td>\n",
       "    </tr>\n",
       "    <tr>\n",
       "      <th>lambda</th>\n",
       "      <td>39.874200</td>\n",
       "      <td>0.002913</td>\n",
       "      <td>0.200409</td>\n",
       "      <td>39.544700</td>\n",
       "      <td>39.874000</td>\n",
       "      <td>40.208100</td>\n",
       "      <td>4734.43</td>\n",
       "      <td>438.780</td>\n",
       "      <td>0.999322</td>\n",
       "    </tr>\n",
       "  </tbody>\n",
       "</table>\n",
       "</div>"
      ],
      "text/plain": [
       "              Mean      MCSE    StdDev          5%         50%         95%  \\\n",
       "lp__    559.653000  0.035873  1.594030  556.579000  559.972000  561.600000   \n",
       "alpha     0.207764  0.000240  0.011628    0.188496    0.207444    0.227022   \n",
       "beta1     0.130950  0.000323  0.016536    0.104115    0.130913    0.158260   \n",
       "beta2     0.107141  0.000289  0.016439    0.079880    0.107427    0.134030   \n",
       "sigma     0.149928  0.000346  0.020343    0.116757    0.150055    0.182622   \n",
       "lambda   39.874200  0.002913  0.200409   39.544700   39.874000   40.208100   \n",
       "\n",
       "          N_Eff  N_Eff/s     R_hat  \n",
       "lp__    1974.53  182.996  0.999913  \n",
       "alpha   2353.33  218.103  1.001290  \n",
       "beta1   2622.57  243.056  1.000410  \n",
       "beta2   3224.85  298.874  1.000410  \n",
       "sigma   3460.46  320.710  0.999825  \n",
       "lambda  4734.43  438.780  0.999322  "
      ]
     },
     "execution_count": 79,
     "metadata": {},
     "output_type": "execute_result"
    }
   ],
   "source": [
    "summary = sim_exp_pos2_fit.summary()\n",
    "summary.head(6)"
   ]
  },
  {
   "cell_type": "markdown",
   "metadata": {},
   "source": [
    "# 4. Model comparison"
   ]
  },
  {
   "cell_type": "code",
   "execution_count": 85,
   "metadata": {},
   "outputs": [
    {
     "data": {
      "image/png": "[encoded data removed]",
      "text/plain": [
       "<Figure size 432x144 with 1 Axes>"
      ]
     },
     "metadata": {
      "needs_background": "light"
     },
     "output_type": "display_data"
    }
   ],
   "source": [
    "compare_model_waic = az.compare(\n",
    " {\n",
    " \"fit_1\": az.from_cmdstanpy(sim_exp_pos1_fit),\n",
    " \"fit_2\": az.from_cmdstanpy(sim_exp_pos2_fit)\n",
    " },\n",
    " ic=\"waic\",\n",
    ")\n",
    "\n",
    "ax = az.plot_compare(compare_model_waic)\n",
    "ax.set_title(f\"Comparison of models with waic criterion\")\n",
    "plt.show()\n"
   ]
  },
  {
   "cell_type": "code",
   "execution_count": 86,
   "metadata": {},
   "outputs": [
    {
     "data": {
      "text/html": [
       "<div>\n",
       "<style scoped>\n",
       "    .dataframe tbody tr th:only-of-type {\n",
       "        vertical-align: middle;\n",
       "    }\n",
       "\n",
       "    .dataframe tbody tr th {\n",
       "        vertical-align: top;\n",
       "    }\n",
       "\n",
       "    .dataframe thead th {\n",
       "        text-align: right;\n",
       "    }\n",
       "</style>\n",
       "<table border=\"1\" class=\"dataframe\">\n",
       "  <thead>\n",
       "    <tr style=\"text-align: right;\">\n",
       "      <th></th>\n",
       "      <th>rank</th>\n",
       "      <th>waic</th>\n",
       "      <th>p_waic</th>\n",
       "      <th>d_waic</th>\n",
       "      <th>weight</th>\n",
       "      <th>se</th>\n",
       "      <th>dse</th>\n",
       "      <th>warning</th>\n",
       "      <th>waic_scale</th>\n",
       "    </tr>\n",
       "  </thead>\n",
       "  <tbody>\n",
       "    <tr>\n",
       "      <th>fit_1</th>\n",
       "      <td>0</td>\n",
       "      <td>773.187452</td>\n",
       "      <td>1.680854</td>\n",
       "      <td>0.00000</td>\n",
       "      <td>1.0</td>\n",
       "      <td>28.564776</td>\n",
       "      <td>0.000000</td>\n",
       "      <td>False</td>\n",
       "      <td>log</td>\n",
       "    </tr>\n",
       "    <tr>\n",
       "      <th>fit_2</th>\n",
       "      <td>1</td>\n",
       "      <td>705.928822</td>\n",
       "      <td>2.579213</td>\n",
       "      <td>67.25863</td>\n",
       "      <td>0.0</td>\n",
       "      <td>32.961107</td>\n",
       "      <td>5.462958</td>\n",
       "      <td>False</td>\n",
       "      <td>log</td>\n",
       "    </tr>\n",
       "  </tbody>\n",
       "</table>\n",
       "</div>"
      ],
      "text/plain": [
       "       rank        waic    p_waic    d_waic  weight         se       dse  \\\n",
       "fit_1     0  773.187452  1.680854   0.00000     1.0  28.564776  0.000000   \n",
       "fit_2     1  705.928822  2.579213  67.25863     0.0  32.961107  5.462958   \n",
       "\n",
       "       warning waic_scale  \n",
       "fit_1    False        log  \n",
       "fit_2    False        log  "
      ]
     },
     "metadata": {},
     "output_type": "display_data"
    }
   ],
   "source": [
    "display(compare_model_waic)"
   ]
  },
  {
   "cell_type": "code",
   "execution_count": 87,
   "metadata": {},
   "outputs": [
    {
     "data": {
      "image/png": "[encoded data removed]",
      "text/plain": [
       "<Figure size 432x144 with 1 Axes>"
      ]
     },
     "metadata": {
      "needs_background": "light"
     },
     "output_type": "display_data"
    }
   ],
   "source": [
    "compare_model_loo = az.compare(\n",
    " {\n",
    " \"fit_1\": az.from_cmdstanpy(sim_exp_pos1_fit),\n",
    " \"fit_2\": az.from_cmdstanpy(sim_exp_pos2_fit)\n",
    " },\n",
    " ic=\"loo\",\n",
    ")\n",
    "\n",
    "ax = az.plot_compare(compare_model_loo)\n",
    "ax.set_title(f\"Comparison of models with loo criterion\")\n",
    "plt.show()"
   ]
  },
  {
   "cell_type": "code",
   "execution_count": 88,
   "metadata": {},
   "outputs": [
    {
     "data": {
      "text/html": [
       "<div>\n",
       "<style scoped>\n",
       "    .dataframe tbody tr th:only-of-type {\n",
       "        vertical-align: middle;\n",
       "    }\n",
       "\n",
       "    .dataframe tbody tr th {\n",
       "        vertical-align: top;\n",
       "    }\n",
       "\n",
       "    .dataframe thead th {\n",
       "        text-align: right;\n",
       "    }\n",
       "</style>\n",
       "<table border=\"1\" class=\"dataframe\">\n",
       "  <thead>\n",
       "    <tr style=\"text-align: right;\">\n",
       "      <th></th>\n",
       "      <th>rank</th>\n",
       "      <th>loo</th>\n",
       "      <th>p_loo</th>\n",
       "      <th>d_loo</th>\n",
       "      <th>weight</th>\n",
       "      <th>se</th>\n",
       "      <th>dse</th>\n",
       "      <th>warning</th>\n",
       "      <th>loo_scale</th>\n",
       "    </tr>\n",
       "  </thead>\n",
       "  <tbody>\n",
       "    <tr>\n",
       "      <th>fit_1</th>\n",
       "      <td>0</td>\n",
       "      <td>773.186874</td>\n",
       "      <td>1.681432</td>\n",
       "      <td>0.000000</td>\n",
       "      <td>1.0</td>\n",
       "      <td>28.564931</td>\n",
       "      <td>0.000000</td>\n",
       "      <td>False</td>\n",
       "      <td>log</td>\n",
       "    </tr>\n",
       "    <tr>\n",
       "      <th>fit_2</th>\n",
       "      <td>1</td>\n",
       "      <td>705.931121</td>\n",
       "      <td>2.576914</td>\n",
       "      <td>67.255753</td>\n",
       "      <td>0.0</td>\n",
       "      <td>32.960433</td>\n",
       "      <td>5.461987</td>\n",
       "      <td>False</td>\n",
       "      <td>log</td>\n",
       "    </tr>\n",
       "  </tbody>\n",
       "</table>\n",
       "</div>"
      ],
      "text/plain": [
       "       rank         loo     p_loo      d_loo  weight         se       dse  \\\n",
       "fit_1     0  773.186874  1.681432   0.000000     1.0  28.564931  0.000000   \n",
       "fit_2     1  705.931121  2.576914  67.255753     0.0  32.960433  5.461987   \n",
       "\n",
       "       warning loo_scale  \n",
       "fit_1    False       log  \n",
       "fit_2    False       log  "
      ]
     },
     "metadata": {},
     "output_type": "display_data"
    }
   ],
   "source": [
    "display(compare_model_loo)"
   ]
  }
 ],
 "metadata": {
  "kernelspec": {
   "display_name": "Python 3",
   "language": "python",
   "name": "python3"
  },
  "language_info": {
   "codemirror_mode": {
    "name": "ipython",
    "version": 3
   },
   "file_extension": ".py",
   "mimetype": "text/x-python",
   "name": "python",
   "nbconvert_exporter": "python",
   "pygments_lexer": "ipython3",
   "version": "3.9.11"
  },
  "orig_nbformat": 4
 },
 "nbformat": 4,
 "nbformat_minor": 2
}
