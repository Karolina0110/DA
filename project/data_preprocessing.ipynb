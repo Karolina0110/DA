{
 "cells": [
  {
   "cell_type": "code",
   "execution_count": null,
   "metadata": {},
   "outputs": [],
   "source": [
    "import pandas as pd\n",
    "import numpy as np\n",
    "from scipy import stats\n",
    "from scipy.optimize import curve_fit\n",
    "import matplotlib.pyplot as plt\n",
    "import seaborn as sns\n",
    "import os\n",
    "from sklearn.preprocessing import MinMaxScaler\n",
    "from fitter import Fitter, get_common_distributions, get_distributions\n"
   ]
  },
  {
   "cell_type": "code",
   "execution_count": null,
   "metadata": {},
   "outputs": [],
   "source": [
    "def price_plot(df, column_name, plot_trend = False):\n",
    "    price = df[\"Price\"]\n",
    "    data = df[column_name]\n",
    "    plt.figure()\n",
    "    plt.plot(data,price, 'o')\n",
    "    plt.xlabel(column_name)\n",
    "    plt.ylabel(\"Price_PLN\")\n",
    "    if plot_trend:\n",
    "        z = np.polyfit(data, price, 1)\n",
    "        p = np.poly1d(z)\n",
    "        print(f\"Polyfit equation: {p}\")\n",
    "        plt.plot(data, p(data))\n",
    "        plt.axvline(data.mean(), color=\"red\")\n",
    "        plt.axhline(price.mean(), color=\"red\")\n",
    "    plt.show()"
   ]
  },
  {
   "cell_type": "markdown",
   "metadata": {},
   "source": [
    "# Loading data"
   ]
  },
  {
   "cell_type": "markdown",
   "metadata": {},
   "source": []
  },
  {
   "cell_type": "code",
   "execution_count": null,
   "metadata": {},
   "outputs": [],
   "source": [
    "df = pd.read_csv(\"data/Car_sale_ads.csv\")\n",
    "list(df.columns)\n",
    "df.head()"
   ]
  },
  {
   "cell_type": "markdown",
   "metadata": {},
   "source": [
    "**Context:**<br>\n",
    "This dataset was created by webscraping over 200,000 car offers from one of the largest car advertisement sites in Poland.<br>\n",
    "<br>\n",
    "\n",
    "**Content:**<br>\n",
    "The dataset contains 208,304 observations of 25 variables.<br>\n",
    "<br>\n",
    "\n",
    "**Variables describtion:**<br>\n",
    "ID - unique ID of offer <br>\n",
    "Price - value of the price <br>\n",
    "Currency - currency of the price (mostly polish złoty, but also some euro)<br>\n",
    "Condition - new or used<br>\n",
    "Vehicle_brand - brand of vehicle in offer<br>\n",
    "Vehicle_model - model of vehicle in offer<br>\n",
    "Vehicle_generation - generation of vehicle in offer<br>\n",
    "Vehicle_version - version of vehicle in offer<br>\n",
    "Production_year - year of car production<br>\n",
    "Mileage_km - total distance that the car has driven in kilometers<br>\n",
    "Power_HP - car engine power in horsepower<br>\n",
    "Displacement_cm3 - car engine size in cubic centimeters<br>\n",
    "Fuel_type - car fuel type<br>\n",
    "CO2_emissions - car CO2 emissions in g/km<br>\n",
    "Drive - type of car drive<br>\n",
    "Transmission - type of car transmission<br>\n",
    "Type - car body style<br>\n",
    "Doors_number - number of car doors<br>\n",
    "Colour - car body color<br>\n",
    "Origin_country - country of origin of the car<br>\n",
    "First_owner - whether the owner is the first owner<br>\n",
    "First_registration_date - date of first registration<br>\n",
    "Offer_publication_date - date of publication of the offer<br>\n",
    "Offer_location - address provided by the issuer<br>\n",
    "Features - listed car features (ABS, airbag, parking sensors e.t.c)<br>"
   ]
  },
  {
   "cell_type": "markdown",
   "metadata": {},
   "source": [
    "# Data preprocessing"
   ]
  },
  {
   "cell_type": "markdown",
   "metadata": {},
   "source": [
    "### Unification of the price currency and selection of the desired columns"
   ]
  },
  {
   "cell_type": "code",
   "execution_count": null,
   "metadata": {},
   "outputs": [],
   "source": [
    "price = df[\"Price\"].copy()\n",
    "currency = df[\"Currency\"].copy()\n",
    "\n",
    "for idx, (p, c) in enumerate(zip(price, currency)):\n",
    "    if c == \"EUR\":\n",
    "        price_PLN = p * 4.6\n",
    "        price[idx] = price_PLN\n",
    "        currency[idx] = \"PLN\"\n",
    "\n",
    "\n",
    "df[\"Currency\"] = currency\n",
    "df[\"Price\"] = price\n",
    "\n",
    "cols2add = [\"Price\", \"Vehicle_brand\", \"Vehicle_model\", \"Production_year\", \"Mileage_km\", \"Power_HP\", \"Displacement_cm3\"]\n",
    "test_df = df[cols2add]\n",
    "test_df.head()"
   ]
  },
  {
   "cell_type": "markdown",
   "metadata": {},
   "source": [
    "Due to the extensive size of the dataset and the wide range of car models included, we have made the decision to conduct our analysis solely on a single car model.<br>\n",
    "***Chosen car model:***<br>\n",
    "**Brand:** Audi <br>\n",
    "**Model:** A3<br>"
   ]
  },
  {
   "cell_type": "code",
   "execution_count": null,
   "metadata": {},
   "outputs": [],
   "source": [
    "audi_cars = test_df[test_df['Vehicle_brand'] == \"Audi\"]\n",
    "audi_a3_cars = audi_cars[audi_cars[\"Vehicle_model\"] == 'A3']"
   ]
  },
  {
   "cell_type": "code",
   "execution_count": null,
   "metadata": {},
   "outputs": [],
   "source": [
    "price_plot(audi_a3_cars,\"Displacement_cm3\")"
   ]
  },
  {
   "cell_type": "code",
   "execution_count": null,
   "metadata": {},
   "outputs": [],
   "source": [
    "price_plot(audi_a3_cars,\"Power_HP\")"
   ]
  },
  {
   "cell_type": "code",
   "execution_count": null,
   "metadata": {},
   "outputs": [],
   "source": [
    "correlations = audi_a3_cars.iloc[:, 1:].corrwith(audi_a3_cars['Price'])\n",
    "print(correlations)"
   ]
  },
  {
   "cell_type": "code",
   "execution_count": null,
   "metadata": {},
   "outputs": [],
   "source": [
    "correlation_matrix = audi_a3_cars.corr()\n",
    "mask = np.triu(np.ones_like(correlation_matrix, dtype=bool))\n",
    "sns.heatmap(data=correlation_matrix, mask=mask, annot=True, cmap='RdYlBu')\n",
    "plt.title('Lower Triangular Correlation Matrix')\n",
    "plt.show()"
   ]
  },
  {
   "cell_type": "markdown",
   "metadata": {},
   "source": [
    "Due to small effect of engine power and displacement on the price of a vehicle, it was decided that only cars with a displacement of 2000ccm would be analysed to simplify analizis."
   ]
  },
  {
   "cell_type": "code",
   "execution_count": null,
   "metadata": {},
   "outputs": [],
   "source": [
    "audi_a3_2010 = audi_a3_cars[audi_a3_cars[\"Production_year\"] == 2010]\n",
    "audi_a3_2000ccm = audi_a3_cars[audi_a3_cars[\"Displacement_cm3\"] >= 1950]\n",
    "audi_a3_2000ccm = audi_a3_2000ccm[audi_a3_2000ccm[\"Displacement_cm3\"] <= 2050]\n",
    "audi_a3_2000ccm = audi_a3_2000ccm.dropna()"
   ]
  },
  {
   "cell_type": "code",
   "execution_count": null,
   "metadata": {},
   "outputs": [],
   "source": [
    "if \"audi_cars_data.csv\" not in os.listdir(\"data\"):\n",
    "    audi_a3_2000ccm.to_csv('data/audi_cars_data.csv', index=False)"
   ]
  },
  {
   "cell_type": "markdown",
   "metadata": {},
   "source": [
    "### Summary"
   ]
  },
  {
   "cell_type": "code",
   "execution_count": null,
   "metadata": {},
   "outputs": [],
   "source": [
    "audi_a3_2000ccm.head()"
   ]
  },
  {
   "cell_type": "code",
   "execution_count": null,
   "metadata": {},
   "outputs": [],
   "source": [
    "price_plot(audi_a3_2000ccm, \"Production_year\", True)"
   ]
  },
  {
   "cell_type": "code",
   "execution_count": null,
   "metadata": {},
   "outputs": [],
   "source": [
    "price_plot(audi_a3_2000ccm, \"Mileage_km\", True)"
   ]
  },
  {
   "cell_type": "code",
   "execution_count": null,
   "metadata": {},
   "outputs": [],
   "source": [
    "price_plot(audi_a3_2000ccm, \"Power_HP\", True)"
   ]
  },
  {
   "cell_type": "code",
   "execution_count": null,
   "metadata": {},
   "outputs": [],
   "source": [
    "mileage_mean = np.mean(audi_a3_2000ccm[\"Mileage_km\"])\n",
    "print(f\"Mean: {mileage_mean}\")\n",
    "plt.figure()\n",
    "plt.hist(audi_a3_2000ccm[\"Mileage_km\"], bins = 25)\n",
    "plt.axvline(mileage_mean, color=\"red\")\n",
    "plt.xlabel(\"Mileage_km\")\n",
    "plt.ylabel(\"Occurrences\")\n",
    "plt.title(\"Histogram of car mileages\")\n",
    "plt.show()"
   ]
  },
  {
   "cell_type": "code",
   "execution_count": null,
   "metadata": {},
   "outputs": [],
   "source": [
    "prod_mean = np.mean(audi_a3_2000ccm[\"Production_year\"])\n",
    "print(f\"Mean: {prod_mean}\")\n",
    "plt.figure()\n",
    "plt.hist(audi_a3_2000ccm[\"Production_year\"], bins = 18)\n",
    "plt.axvline(prod_mean, color=\"red\")\n",
    "plt.xlabel(\"Production year\")\n",
    "plt.ylabel(\"Occurrences\")\n",
    "plt.title(\"Histogram of car production years\")\n",
    "plt.show()"
   ]
  },
  {
   "cell_type": "code",
   "execution_count": null,
   "metadata": {},
   "outputs": [],
   "source": [
    "price_mean = np.mean(audi_a3_2000ccm[\"Price\"])\n",
    "print(f\"Mean: {price_mean}\")\n",
    "plt.figure()\n",
    "plt.hist(audi_a3_2000ccm[\"Price\"], bins = 25)\n",
    "plt.axvline(price_mean, color=\"red\")\n",
    "plt.xlabel(\"Price\")\n",
    "plt.ylabel(\"Occurrences\")\n",
    "plt.title(\"Histogram of cars price\")\n",
    "plt.show()"
   ]
  },
  {
   "cell_type": "markdown",
   "metadata": {},
   "source": [
    "# Data standarization"
   ]
  },
  {
   "cell_type": "markdown",
   "metadata": {},
   "source": [
    "Due to the diversity of the data (production year (values form 2003 to 2021), mileage (values from 0 to 400000), price (values from 0 to 160000)), we decided to standardise the data using the MinMax scalar. This way we got all the data in the range from 0 to 1, without loosing information about data and making it easier to analyze it."
   ]
  },
  {
   "cell_type": "code",
   "execution_count": null,
   "metadata": {},
   "outputs": [],
   "source": [
    "scaler = MinMaxScaler()\n",
    "audi_a3_2000ccm_standarized_data = scaler.fit_transform(audi_a3_2000ccm.loc[:,[\"Price\", \"Production_year\", \"Mileage_km\"]])\n",
    "audi_a3_2000ccm_standarized = pd.DataFrame(audi_a3_2000ccm_standarized_data,columns=[\"Price\", \"Production_year\", \"Mileage_km\"])\n",
    "audi_a3_2000ccm_standarized.describe()"
   ]
  },
  {
   "cell_type": "code",
   "execution_count": null,
   "metadata": {},
   "outputs": [],
   "source": [
    "price_plot(audi_a3_2000ccm_standarized,\"Production_year\",True)\n",
    "price_plot(audi_a3_2000ccm_standarized,\"Mileage_km\",True)"
   ]
  },
  {
   "cell_type": "code",
   "execution_count": null,
   "metadata": {},
   "outputs": [],
   "source": [
    "mileage_mean = np.mean(audi_a3_2000ccm_standarized[\"Mileage_km\"])\n",
    "print(f\"Mean: {mileage_mean}\")\n",
    "plt.figure()\n",
    "plt.hist(audi_a3_2000ccm_standarized[\"Mileage_km\"], bins = 25)\n",
    "plt.axvline(mileage_mean, color=\"red\")\n",
    "plt.xlabel(\"Mileage_km\")\n",
    "plt.ylabel(\"Occurrences\")\n",
    "plt.title(\"Histogram of car mileages\")\n",
    "plt.show()\n",
    "\n",
    "prod_mean = np.mean(audi_a3_2000ccm_standarized[\"Production_year\"])\n",
    "print(f\"Mean: {prod_mean}\")\n",
    "plt.figure()\n",
    "plt.hist(audi_a3_2000ccm_standarized[\"Production_year\"], bins = 18)\n",
    "plt.axvline(prod_mean, color=\"red\")\n",
    "plt.xlabel(\"Production year\")\n",
    "plt.ylabel(\"Occurrences\")\n",
    "plt.title(\"Histogram of car production years\")\n",
    "plt.show()\n",
    "\n",
    "price_mean = np.mean(audi_a3_2000ccm_standarized[\"Price\"])\n",
    "price_var = np.var(audi_a3_2000ccm_standarized[\"Price\"])\n",
    "print(f\"Mean: {price_mean}\")\n",
    "print(f\"Var: {price_var}\")\n",
    "plt.figure()\n",
    "plt.hist(audi_a3_2000ccm_standarized[\"Price\"], bins = 25)\n",
    "plt.axvline(price_mean, color=\"red\")\n",
    "plt.xlabel(\"Price\")\n",
    "plt.ylabel(\"Occurrences\")\n",
    "plt.title(\"Histogram of cars price\")\n",
    "plt.show()"
   ]
  },
  {
   "cell_type": "code",
   "execution_count": null,
   "metadata": {},
   "outputs": [],
   "source": [
    "if 'audi_data_standarized.csv' not in os.listdir(\"data\"):\n",
    "    audi_a3_2000ccm_standarized.to_csv('data/audi_data_standarized.csv', index=False)"
   ]
  }
 ],
 "metadata": {
  "kernelspec": {
   "display_name": "Python 3",
   "language": "python",
   "name": "python3"
  },
  "language_info": {
   "codemirror_mode": {
    "name": "ipython",
    "version": 3
   },
   "file_extension": ".py",
   "mimetype": "text/x-python",
   "name": "python",
   "nbconvert_exporter": "python",
   "pygments_lexer": "ipython3",
   "version": "3.9.11"
  },
  "orig_nbformat": 4
 },
 "nbformat": 4,
 "nbformat_minor": 2
}
